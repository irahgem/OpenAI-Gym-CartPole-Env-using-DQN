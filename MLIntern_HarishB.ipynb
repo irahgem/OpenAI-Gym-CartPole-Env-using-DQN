{
  "cells": [
    {
      "cell_type": "markdown",
      "metadata": {
        "id": "VG-EIBTJkrsZ"
      },
      "source": [
        "#OpenAI Gym CartPole Environment - Harish B\n",
        "---\n",
        "Gym is a toolkit for developing and comparing reinforcement learning algorithms. It supoorts teaching agents everything from walking to playing games like Pong or Pinball."
      ]
    },
    {
      "cell_type": "markdown",
      "metadata": {
        "id": "PthMNpEQkwpk"
      },
      "source": [
        "###Reinforcement Learning Libraries uses Tensorflow as its Back-end:\n",
        "1. Keras-RL\n",
        "2. Tensorforce\n",
        "3. TF agent\n",
        "4. RLLib\n",
        "5. TRFL\n",
        "6. ReAgent\n",
        "7. Garage\n",
        "8. RLGraph\n",
        "9. Dopamine\n"
      ]
    },
    {
      "cell_type": "markdown",
      "metadata": {
        "id": "Q1Tyc04afb4Z"
      },
      "source": [
        "### Working Demo of CartPole Environment"
      ]
    },
    {
      "cell_type": "code",
      "execution_count": null,
      "metadata": {
        "id": "k1pV7-_eFGwP"
      },
      "outputs": [],
      "source": [
        "# Install gym with the following command\n",
        "!pip install gym\n",
        "!pip install pygame\n",
        "\n",
        "#Rendering Dependencies\n",
        "!apt-get install -y xvfb python-opengl > /dev/null 2>&1\n",
        "!pip install gym pyvirtualdisplay > /dev/null 2>&1"
      ]
    },
    {
      "cell_type": "code",
      "execution_count": null,
      "metadata": {
        "id": "6tUym97TBHCa"
      },
      "outputs": [],
      "source": [
        "# Importing gym for the libraries\n",
        "import gym\n",
        "import numpy as np\n",
        "import matplotlib.pyplot as plt\n",
        "from IPython import display as ipythondisplay"
      ]
    },
    {
      "cell_type": "code",
      "execution_count": null,
      "metadata": {
        "id": "E2A-c5Vk3inC",
        "colab": {
          "base_uri": "https://localhost:8080/"
        },
        "outputId": "b348ce9a-22a5-4f09-8c86-4756cf47660a"
      },
      "outputs": [
        {
          "output_type": "execute_result",
          "data": {
            "text/plain": [
              "<pyvirtualdisplay.display.Display at 0x7f962bced650>"
            ]
          },
          "metadata": {},
          "execution_count": 7
        }
      ],
      "source": [
        "# Google Colab needs to render the environment to a virtual display we will record\n",
        "# this as a video and play it after the training has finished.\n",
        "from pyvirtualdisplay import Display\n",
        "display = Display(visible=0, size=(400, 300))\n",
        "display.start()"
      ]
    },
    {
      "cell_type": "code",
      "execution_count": null,
      "metadata": {
        "colab": {
          "base_uri": "https://localhost:8080/",
          "height": 269
        },
        "id": "kvIhKEm8D-Kn",
        "outputId": "fd9412e9-7cb9-4530-a8f7-51500b34f74c"
      },
      "outputs": [
        {
          "output_type": "display_data",
          "data": {
            "text/plain": [
              "<Figure size 432x288 with 1 Axes>"
            ],
            "image/png": "[encoded data removed]"
          },
          "metadata": {
            "needs_background": "light"
          }
        }
      ],
      "source": [
        "# Creating instance of environment to play\n",
        "env = gym.make(\"CartPole-v0\")\n",
        "env.reset()\n",
        "prev_screen = env.render(mode='rgb_array')\n",
        "plt.imshow(prev_screen)\n",
        "\n",
        "for _ in range(1000):\n",
        "  action = env.action_space.sample()\n",
        "  obs, reward, done, info = env.step(action)\n",
        "  screen = env.render(mode='rgb_array')\n",
        "  \n",
        "  plt.imshow(screen)\n",
        "  ipythondisplay.clear_output(wait=True)\n",
        "  ipythondisplay.display(plt.gcf())\n",
        "\n",
        "  if done:\n",
        "    break\n",
        "    \n",
        "ipythondisplay.clear_output(wait=True)\n",
        "env.close()"
      ]
    },
    {
      "cell_type": "code",
      "execution_count": null,
      "metadata": {
        "id": "683T_MXrD_IV",
        "colab": {
          "base_uri": "https://localhost:8080/"
        },
        "outputId": "ac4b8879-ad9e-4b10-e13e-366276c80301"
      },
      "outputs": [
        {
          "output_type": "execute_result",
          "data": {
            "text/plain": [
              "<pyvirtualdisplay.display.Display at 0x7f962bced650>"
            ]
          },
          "metadata": {},
          "execution_count": 9
        }
      ],
      "source": [
        "display.stop()"
      ]
    },
    {
      "cell_type": "markdown",
      "metadata": {
        "id": "uoaEX5qgeErm"
      },
      "source": [
        "#OpenAI Gym CartPole Environment using TF-Agent"
      ]
    },
    {
      "cell_type": "markdown",
      "metadata": {
        "id": "huKESMXWfkwn"
      },
      "source": [
        "### Setup the following dependencies to run the project"
      ]
    },
    {
      "cell_type": "code",
      "execution_count": null,
      "metadata": {
        "id": "X57V1rnSunGC"
      },
      "outputs": [],
      "source": [
        "!sudo apt-get update\n",
        "!sudo apt-get install -y xvfb ffmpeg freeglut3-dev\n",
        "!pip install 'imageio==2.4.0'\n",
        "!pip install pyvirtualdisplay\n",
        "!pip install tf-agents[reverb]\n",
        "!pip install pyglet"
      ]
    },
    {
      "cell_type": "code",
      "execution_count": null,
      "metadata": {
        "id": "gHJ8j__1unJe",
        "colab": {
          "base_uri": "https://localhost:8080/"
        },
        "outputId": "566cca7f-021a-4e94-8406-e68b64e85d69"
      },
      "outputs": [
        {
          "output_type": "stream",
          "name": "stderr",
          "text": [
            "/usr/local/lib/python3.7/dist-packages/tf_agents/typing/types.py:81: DeprecationWarning: `np.bool` is a deprecated alias for the builtin `bool`. To silence this warning, use `bool` by itself. Doing this will not modify any behavior and is safe. If you specifically wanted the numpy scalar type, use `np.bool_` here.\n",
            "Deprecated in NumPy 1.20; for more details and guidance: https://numpy.org/devdocs/release/1.20.0-notes.html#deprecations\n",
            "  Bool = Union[bool, np.bool, Tensor, Array]\n"
          ]
        }
      ],
      "source": [
        "from __future__ import absolute_import, division, print_function\n",
        "\n",
        "import base64\n",
        "import imageio\n",
        "import IPython\n",
        "import matplotlib\n",
        "import matplotlib.pyplot as plt\n",
        "import numpy as np\n",
        "import PIL.Image\n",
        "import pyvirtualdisplay\n",
        "import reverb\n",
        "\n",
        "import tensorflow as tf\n",
        "\n",
        "from tf_agents.agents.dqn import dqn_agent\n",
        "from tf_agents.drivers import py_driver\n",
        "from tf_agents.environments import suite_gym\n",
        "from tf_agents.environments import tf_py_environment\n",
        "from tf_agents.eval import metric_utils\n",
        "from tf_agents.metrics import tf_metrics\n",
        "from tf_agents.networks import sequential\n",
        "from tf_agents.policies import py_tf_eager_policy\n",
        "from tf_agents.policies import random_tf_policy\n",
        "from tf_agents.replay_buffers import reverb_replay_buffer\n",
        "from tf_agents.replay_buffers import reverb_utils\n",
        "from tf_agents.trajectories import trajectory\n",
        "from tf_agents.specs import tensor_spec\n",
        "from tf_agents.utils import common"
      ]
    },
    {
      "cell_type": "markdown",
      "metadata": {
        "id": "XclVe6OlvTVa"
      },
      "source": [
        "### Hyper - Parameters"
      ]
    },
    {
      "cell_type": "code",
      "execution_count": null,
      "metadata": {
        "id": "MDDOSFDjvW3_"
      },
      "outputs": [],
      "source": [
        "num_iterations = 10000 # @param {type:\"integer\"}\n",
        "\n",
        "initial_collect_steps = 100  # @param {type:\"integer\"}\n",
        "collect_steps_per_iteration =   1# @param {type:\"integer\"}\n",
        "replay_buffer_max_length = 100000  # @param {type:\"integer\"}\n",
        "\n",
        "batch_size = 64  # @param {type:\"integer\"}\n",
        "learning_rate = 1e-3  # @param {type:\"number\"}\n",
        "log_interval = 200  # @param {type:\"integer\"}\n",
        "\n",
        "num_eval_episodes = 20  # @param {type:\"integer\"}\n",
        "eval_interval = 200  # @param {type:\"integer\"}"
      ]
    },
    {
      "cell_type": "markdown",
      "metadata": {
        "id": "qrkuhOPovdiM"
      },
      "source": [
        "## Environment\n",
        "\n",
        "In Reinforcement Learning (RL), an environment represents the task or problem to be solved. Standard environments can be created in TF-Agents using `tf_agents.environments` suites. TF-Agents has suites for loading environments from sources such as the OpenAI Gym, Atari, and DM Control.\n",
        "\n",
        "Load the CartPole environment from the OpenAI Gym suite. "
      ]
    },
    {
      "cell_type": "code",
      "execution_count": null,
      "metadata": {
        "id": "IxqLRvslvazG"
      },
      "outputs": [],
      "source": [
        "env_name = 'CartPole-v0'\n",
        "env = suite_gym.load(env_name)"
      ]
    },
    {
      "cell_type": "markdown",
      "metadata": {
        "id": "K4ok_d3ivmQF"
      },
      "source": [
        "The environment.step method takes an action in the environment and returns a TimeStep tuple containing the next observation of the environment and the reward for the action.\n",
        "\n",
        "The time_step_spec() method returns the specification for the TimeStep tuple. Its observation attribute shows the shape of observations, the data types, and the ranges of allowed values. The reward attribute shows the same details for the reward."
      ]
    },
    {
      "cell_type": "code",
      "execution_count": null,
      "metadata": {
        "colab": {
          "base_uri": "https://localhost:8080/"
        },
        "id": "x4f9SxXtvkfc",
        "outputId": "b3a74714-aedd-48b7-91ec-58962197dede"
      },
      "outputs": [
        {
          "output_type": "stream",
          "name": "stdout",
          "text": [
            "Observation Spec:\n",
            "BoundedArraySpec(shape=(4,), dtype=dtype('float32'), name='observation', minimum=[-4.8000002e+00 -3.4028235e+38 -4.1887903e-01 -3.4028235e+38], maximum=[4.8000002e+00 3.4028235e+38 4.1887903e-01 3.4028235e+38])\n"
          ]
        }
      ],
      "source": [
        "print('Observation Spec:')\n",
        "print(env.time_step_spec().observation)"
      ]
    },
    {
      "cell_type": "code",
      "execution_count": null,
      "metadata": {
        "colab": {
          "base_uri": "https://localhost:8080/"
        },
        "id": "Y7ymGyCPvoZb",
        "outputId": "011f6dc1-2e24-47f5-cbb0-a09eb1b87b54"
      },
      "outputs": [
        {
          "output_type": "stream",
          "name": "stdout",
          "text": [
            "Reward Spec:\n",
            "ArraySpec(shape=(), dtype=dtype('float32'), name='reward')\n"
          ]
        }
      ],
      "source": [
        "print('Reward Spec:')\n",
        "print(env.time_step_spec().reward)"
      ]
    },
    {
      "cell_type": "markdown",
      "metadata": {
        "id": "g4bXsPUGvt80"
      },
      "source": [
        "The action_spec() method returns the shape, data types, and allowed values of valid actions"
      ]
    },
    {
      "cell_type": "code",
      "execution_count": null,
      "metadata": {
        "colab": {
          "base_uri": "https://localhost:8080/"
        },
        "id": "5e818xJkvppE",
        "outputId": "4934debb-6fc0-4c50-bebb-680b0b25dc92"
      },
      "outputs": [
        {
          "output_type": "stream",
          "name": "stdout",
          "text": [
            "Action Spec:\n",
            "BoundedArraySpec(shape=(), dtype=dtype('int64'), name='action', minimum=0, maximum=1)\n"
          ]
        }
      ],
      "source": [
        "print('Action Spec:')\n",
        "print(env.action_spec())"
      ]
    },
    {
      "cell_type": "markdown",
      "metadata": {
        "id": "-FZJm_dOv0Pg"
      },
      "source": [
        "In the Cartpole environment:\n",
        "\n",
        "-   `observation` is an array of 4 floats: \n",
        "    -   the position and velocity of the cart\n",
        "    -   the angular position and velocity of the pole \n",
        "-   `reward` is a scalar float value\n",
        "-   `action` is a scalar integer with only two possible values:\n",
        "    -   `0` — \"move left\"\n",
        "    -   `1` — \"move right\""
      ]
    },
    {
      "cell_type": "code",
      "execution_count": null,
      "metadata": {
        "colab": {
          "base_uri": "https://localhost:8080/"
        },
        "id": "zBB0EoJOvyqw",
        "outputId": "181b7f92-0866-4a2d-90de-15a11b4509de"
      },
      "outputs": [
        {
          "output_type": "stream",
          "name": "stdout",
          "text": [
            "Time step:\n",
            "TimeStep(\n",
            "{'discount': array(1., dtype=float32),\n",
            " 'observation': array([ 0.01823224, -0.02447981,  0.00205765,  0.01658663], dtype=float32),\n",
            " 'reward': array(0., dtype=float32),\n",
            " 'step_type': array(0, dtype=int32)})\n",
            "Next time step:\n",
            "TimeStep(\n",
            "{'discount': array(1., dtype=float32),\n",
            " 'observation': array([ 0.01774264,  0.17061257,  0.00238938, -0.2754464 ], dtype=float32),\n",
            " 'reward': array(1., dtype=float32),\n",
            " 'step_type': array(1, dtype=int32)})\n"
          ]
        }
      ],
      "source": [
        "time_step = env.reset()\n",
        "print('Time step:')\n",
        "print(time_step)\n",
        "\n",
        "action = np.array(1, dtype=np.int32)\n",
        "\n",
        "next_time_step = env.step(action)\n",
        "print('Next time step:')\n",
        "print(next_time_step)"
      ]
    },
    {
      "cell_type": "markdown",
      "metadata": {
        "id": "QsuXDm1Wv4p_"
      },
      "source": [
        "Usually two environments are instantiated: one for training and one for evaluation. "
      ]
    },
    {
      "cell_type": "code",
      "execution_count": null,
      "metadata": {
        "id": "RpsdTKrYv5hz"
      },
      "outputs": [],
      "source": [
        "train_py_env = suite_gym.load(env_name)\n",
        "eval_py_env = suite_gym.load(env_name)"
      ]
    },
    {
      "cell_type": "markdown",
      "metadata": {
        "id": "dArycEMKv7l0"
      },
      "source": [
        "The Cartpole environment, like most environments, is written in pure Python. This is converted to TensorFlow using the `TFPyEnvironment` wrapper.\n",
        "\n",
        "The original environment's API uses Numpy arrays. The `TFPyEnvironment` converts these to `Tensors` to make it compatible with Tensorflow agents and policies.\n"
      ]
    },
    {
      "cell_type": "code",
      "execution_count": null,
      "metadata": {
        "id": "qsVlBIsIv9Zl"
      },
      "outputs": [],
      "source": [
        "train_env = tf_py_environment.TFPyEnvironment(train_py_env)\n",
        "eval_env = tf_py_environment.TFPyEnvironment(eval_py_env)"
      ]
    },
    {
      "cell_type": "markdown",
      "metadata": {
        "id": "EozqIuaZwYPR"
      },
      "source": [
        "## Agent\n",
        "\n",
        "The algorithm used to solve an RL problem is represented by an `Agent`. TF-Agents provides standard implementations of a variety of `Agents`, including:\n",
        "\n",
        "-   [DQN]\n",
        "\n",
        "The DQN agent can be used in any environment which has a discrete action space.\n",
        "\n",
        "At the heart of a DQN Agent is a `QNetwork`, a neural network model that can learn to predict `QValues` (expected returns) for all actions, given an observation from the environment.\n",
        "\n",
        "We will use `tf_agents.networks.` to create a `QNetwork`. The network will consist of a sequence of `tf.keras.layers.Dense` layers, where the final layer will have 1 output for each possible action."
      ]
    },
    {
      "cell_type": "code",
      "execution_count": null,
      "metadata": {
        "id": "dJeXBFK3wlyD"
      },
      "outputs": [],
      "source": [
        "fc_layer_params = (100, 50)\n",
        "action_tensor_spec = tensor_spec.from_spec(env.action_spec())\n",
        "num_actions = action_tensor_spec.maximum - action_tensor_spec.minimum + 1\n",
        "\n",
        "# Define a helper function to create Dense layers configured with the right\n",
        "# activation and kernel initializer.\n",
        "def dense_layer(num_units):\n",
        "  return tf.keras.layers.Dense(\n",
        "      num_units,\n",
        "      activation=tf.keras.activations.relu,\n",
        "      kernel_initializer=tf.keras.initializers.VarianceScaling(\n",
        "          scale=2.0, mode='fan_in', distribution='truncated_normal'))\n",
        "\n",
        "# QNetwork consists of a sequence of Dense layers followed by a dense layer\n",
        "# with `num_actions` units to generate one q_value per available action as\n",
        "# its output.\n",
        "dense_layers = [dense_layer(num_units) for num_units in fc_layer_params]\n",
        "q_values_layer = tf.keras.layers.Dense(\n",
        "    num_actions,\n",
        "    activation=None,\n",
        "    kernel_initializer=tf.keras.initializers.RandomUniform(\n",
        "        minval=-0.03, maxval=0.03),\n",
        "    bias_initializer=tf.keras.initializers.Constant(-0.2))\n",
        "q_net = sequential.Sequential(dense_layers + [q_values_layer])"
      ]
    },
    {
      "cell_type": "markdown",
      "metadata": {
        "id": "5jMwM1hfwuRw"
      },
      "source": [
        "Now use `tf_agents.agents.dqn.dqn_agent` to instantiate a `DqnAgent`. In addition to the `time_step_spec`, `action_spec` and the QNetwork, the agent constructor also requires an optimizer (in this case, `AdamOptimizer`), a loss function, and an integer step counter."
      ]
    },
    {
      "cell_type": "code",
      "execution_count": null,
      "metadata": {
        "id": "uMR9GevpwxGG"
      },
      "outputs": [],
      "source": [
        "optimizer = tf.keras.optimizers.Adam(learning_rate=learning_rate)\n",
        "\n",
        "train_step_counter = tf.Variable(0)\n",
        "\n",
        "agent = dqn_agent.DqnAgent(\n",
        "    train_env.time_step_spec(),\n",
        "    train_env.action_spec(),\n",
        "    q_network=q_net,\n",
        "    optimizer=optimizer,\n",
        "    td_errors_loss_fn=common.element_wise_squared_loss,\n",
        "    train_step_counter=train_step_counter)\n",
        "\n",
        "agent.initialize()"
      ]
    },
    {
      "cell_type": "markdown",
      "metadata": {
        "id": "u3vUzRuNw1J0"
      },
      "source": [
        "## Policies\n",
        "\n",
        "A policy defines the way an agent acts in an environment. Typically, the goal of reinforcement learning is to train the underlying model until the policy produces the desired outcome.\n",
        "\n",
        "-   The desired outcome is keeping the pole balanced upright over the cart.\n",
        "-   The policy returns an action (left or right) for each `time_step` observation.\n",
        "\n",
        "Agents contain two policies: \n",
        "\n",
        "-   `agent.policy` — The main policy that is used for evaluation and deployment.\n",
        "-   `agent.collect_policy` — A second policy that is used for data collection."
      ]
    },
    {
      "cell_type": "code",
      "execution_count": null,
      "metadata": {
        "id": "cj4IRke-w9fX"
      },
      "outputs": [],
      "source": [
        "eval_policy = agent.policy\n",
        "collect_policy = agent.collect_policy"
      ]
    },
    {
      "cell_type": "markdown",
      "metadata": {
        "id": "iLHbPio2w__A"
      },
      "source": [
        "Policies can be created independently of agents. For example, use `tf_agents.policies.random_tf_policy` to create a policy which will randomly select an action for each `time_step`."
      ]
    },
    {
      "cell_type": "code",
      "execution_count": null,
      "metadata": {
        "id": "hlUPn5DbxAn0"
      },
      "outputs": [],
      "source": [
        "random_policy = random_tf_policy.RandomTFPolicy(train_env.time_step_spec(),\n",
        "                                                train_env.action_spec())"
      ]
    },
    {
      "cell_type": "markdown",
      "metadata": {
        "id": "5gpAafNyxA9L"
      },
      "source": [
        "To get an action from a policy, call the `policy.action(time_step)` method. The `time_step` contains the observation from the environment. This method returns a `PolicyStep`, which is a named tuple with three components:\n",
        "\n",
        "-   `action` — the action to be taken (in this case, `0` or `1`)\n",
        "-   `state` — used for stateful (that is, RNN-based) policies\n",
        "-   `info` — auxiliary data, such as log probabilities of actions"
      ]
    },
    {
      "cell_type": "code",
      "execution_count": null,
      "metadata": {
        "id": "EnWFQ8OTxBgH"
      },
      "outputs": [],
      "source": [
        "example_environment = tf_py_environment.TFPyEnvironment(suite_gym.load('CartPole-v0'))"
      ]
    },
    {
      "cell_type": "code",
      "execution_count": null,
      "metadata": {
        "id": "_4rkvmB0xOgn"
      },
      "outputs": [],
      "source": [
        "time_step = example_environment.reset()"
      ]
    },
    {
      "cell_type": "code",
      "execution_count": null,
      "metadata": {
        "colab": {
          "base_uri": "https://localhost:8080/"
        },
        "id": "WwQROkj3xPqL",
        "outputId": "79506848-5895-41d5-d146-804668a52702"
      },
      "outputs": [
        {
          "output_type": "execute_result",
          "data": {
            "text/plain": [
              "PolicyStep(action=<tf.Tensor: shape=(1,), dtype=int64, numpy=array([1])>, state=(), info=())"
            ]
          },
          "metadata": {},
          "execution_count": 43
        }
      ],
      "source": [
        "random_policy.action(time_step)"
      ]
    },
    {
      "cell_type": "markdown",
      "metadata": {
        "id": "LFGESizaxQ8j"
      },
      "source": [
        "## Metrics and Evaluation\n",
        "\n",
        "The most common metric used to evaluate a policy is the average return. The return is the sum of rewards obtained while running a policy in an environment for an episode. Several episodes are run, creating an average return.\n",
        "\n",
        "The following function computes the average return of a policy, given the policy, environment, and a number of episodes."
      ]
    },
    {
      "cell_type": "code",
      "execution_count": null,
      "metadata": {
        "id": "zJeYUJCQxTB9"
      },
      "outputs": [],
      "source": [
        "def compute_avg_return(environment, policy, num_episodes=20):\n",
        "\n",
        "  total_return = 0.0\n",
        "  for _ in range(num_episodes):\n",
        "\n",
        "    time_step = environment.reset()\n",
        "    episode_return = 0.0\n",
        "\n",
        "    while not time_step.is_last():\n",
        "      action_step = policy.action(time_step)\n",
        "      time_step = environment.step(action_step.action)\n",
        "      episode_return += time_step.reward\n",
        "    total_return += episode_return\n",
        "\n",
        "  avg_return = total_return / num_episodes\n",
        "  return avg_return.numpy()[0]"
      ]
    },
    {
      "cell_type": "markdown",
      "metadata": {
        "id": "rUU1XVNJxZJd"
      },
      "source": [
        "Running this computation on the `random_policy` shows a baseline performance in the environment."
      ]
    },
    {
      "cell_type": "code",
      "execution_count": null,
      "metadata": {
        "colab": {
          "base_uri": "https://localhost:8080/"
        },
        "id": "-qLJARsPxX6H",
        "outputId": "b4add8e8-87fa-46f2-ef5c-a4c210922df2"
      },
      "outputs": [
        {
          "output_type": "execute_result",
          "data": {
            "text/plain": [
              "18.1"
            ]
          },
          "metadata": {},
          "execution_count": 45
        }
      ],
      "source": [
        "compute_avg_return(eval_env, random_policy, num_eval_episodes)"
      ]
    },
    {
      "cell_type": "markdown",
      "metadata": {
        "id": "NbaCwVmVxktw"
      },
      "source": [
        "## Replay Buffer\n",
        "\n",
        "In order to keep track of the data collected from the environment, we will use [Reverb](https://deepmind.com/research/open-source/Reverb), an efficient, extensible, and easy-to-use replay system by Deepmind. It stores experience data when we collect trajectories and is consumed during training.\n",
        "\n",
        "This replay buffer is constructed using specs describing the tensors that are to be stored, which can be obtained from the agent using agent.collect_data_spec."
      ]
    },
    {
      "cell_type": "code",
      "execution_count": null,
      "metadata": {
        "id": "oBn-2tQfxlfa"
      },
      "outputs": [],
      "source": [
        "table_name = 'uniform_table'\n",
        "replay_buffer_signature = tensor_spec.from_spec(\n",
        "      agent.collect_data_spec)\n",
        "replay_buffer_signature = tensor_spec.add_outer_dim(\n",
        "    replay_buffer_signature)\n",
        "\n",
        "table = reverb.Table(\n",
        "    table_name,\n",
        "    max_size=replay_buffer_max_length,\n",
        "    sampler=reverb.selectors.Uniform(),\n",
        "    remover=reverb.selectors.Fifo(),\n",
        "    rate_limiter=reverb.rate_limiters.MinSize(1),\n",
        "    signature=replay_buffer_signature)\n",
        "\n",
        "reverb_server = reverb.Server([table])\n",
        "\n",
        "replay_buffer = reverb_replay_buffer.ReverbReplayBuffer(\n",
        "    agent.collect_data_spec,\n",
        "    table_name=table_name,\n",
        "    sequence_length=2,\n",
        "    local_server=reverb_server)\n",
        "\n",
        "rb_observer = reverb_utils.ReverbAddTrajectoryObserver(\n",
        "  replay_buffer.py_client,\n",
        "  table_name,\n",
        "  sequence_length=2)"
      ]
    },
    {
      "cell_type": "markdown",
      "metadata": {
        "id": "MU3tUK4Yxp0W"
      },
      "source": [
        "For most agents, `collect_data_spec` is a named tuple called `Trajectory`, containing the specs for observations, actions, rewards, and other items."
      ]
    },
    {
      "cell_type": "code",
      "execution_count": null,
      "metadata": {
        "colab": {
          "base_uri": "https://localhost:8080/"
        },
        "id": "qwL30X5-xqmF",
        "outputId": "f2405967-93d0-4f0e-df7f-12796405ef6f"
      },
      "outputs": [
        {
          "output_type": "execute_result",
          "data": {
            "text/plain": [
              "Trajectory(\n",
              "{'action': BoundedTensorSpec(shape=(), dtype=tf.int64, name='action', minimum=array(0), maximum=array(1)),\n",
              " 'discount': BoundedTensorSpec(shape=(), dtype=tf.float32, name='discount', minimum=array(0., dtype=float32), maximum=array(1., dtype=float32)),\n",
              " 'next_step_type': TensorSpec(shape=(), dtype=tf.int32, name='step_type'),\n",
              " 'observation': BoundedTensorSpec(shape=(4,), dtype=tf.float32, name='observation', minimum=array([-4.8000002e+00, -3.4028235e+38, -4.1887903e-01, -3.4028235e+38],\n",
              "      dtype=float32), maximum=array([4.8000002e+00, 3.4028235e+38, 4.1887903e-01, 3.4028235e+38],\n",
              "      dtype=float32)),\n",
              " 'policy_info': (),\n",
              " 'reward': TensorSpec(shape=(), dtype=tf.float32, name='reward'),\n",
              " 'step_type': TensorSpec(shape=(), dtype=tf.int32, name='step_type')})"
            ]
          },
          "metadata": {},
          "execution_count": 47
        }
      ],
      "source": [
        "agent.collect_data_spec"
      ]
    },
    {
      "cell_type": "code",
      "execution_count": null,
      "metadata": {
        "colab": {
          "base_uri": "https://localhost:8080/"
        },
        "id": "e9SFvSWBxsTr",
        "outputId": "781adc09-03e9-4fc6-f4fe-1d6ea718e10d"
      },
      "outputs": [
        {
          "output_type": "execute_result",
          "data": {
            "text/plain": [
              "('step_type',\n",
              " 'observation',\n",
              " 'action',\n",
              " 'policy_info',\n",
              " 'next_step_type',\n",
              " 'reward',\n",
              " 'discount')"
            ]
          },
          "metadata": {},
          "execution_count": 48
        }
      ],
      "source": [
        "agent.collect_data_spec._fields"
      ]
    },
    {
      "cell_type": "markdown",
      "metadata": {
        "id": "lTu_G2fjxuF8"
      },
      "source": [
        "## Data Collection\n",
        "\n",
        "Now execute the random policy in the environment for a few steps, recording the data in the replay buffer.\n",
        "\n",
        "Here we are using 'PyDriver' to run the experience collecting loop. "
      ]
    },
    {
      "cell_type": "code",
      "execution_count": null,
      "metadata": {
        "colab": {
          "base_uri": "https://localhost:8080/"
        },
        "id": "U5jf2pX9xw3J",
        "outputId": "87a83183-b496-400c-82cf-485c3326df60"
      },
      "outputs": [
        {
          "output_type": "execute_result",
          "data": {
            "text/plain": [
              "(TimeStep(\n",
              " {'discount': array(1., dtype=float32),\n",
              "  'observation': array([-0.03606885,  0.0258102 ,  0.08615673,  0.39119226], dtype=float32),\n",
              "  'reward': array(1., dtype=float32),\n",
              "  'step_type': array(1, dtype=int32)}), ())"
            ]
          },
          "metadata": {},
          "execution_count": 49
        }
      ],
      "source": [
        "py_driver.PyDriver(\n",
        "    env,\n",
        "    py_tf_eager_policy.PyTFEagerPolicy(\n",
        "      random_policy, use_tf_function=True),\n",
        "    [rb_observer],\n",
        "    max_steps=initial_collect_steps).run(train_py_env.reset())"
      ]
    },
    {
      "cell_type": "markdown",
      "metadata": {
        "id": "u7VnzCV8yI09"
      },
      "source": [
        "The replay buffer is now a collection of Trajectories."
      ]
    },
    {
      "cell_type": "code",
      "execution_count": null,
      "metadata": {
        "colab": {
          "base_uri": "https://localhost:8080/"
        },
        "id": "gPL94UqQyJt1",
        "outputId": "6aee950b-d631-45e8-af58-3a291be0537c"
      },
      "outputs": [
        {
          "output_type": "execute_result",
          "data": {
            "text/plain": [
              "<PrefetchDataset element_spec=(Trajectory(\n",
              "{'action': TensorSpec(shape=(64, 2), dtype=tf.int64, name=None),\n",
              " 'discount': TensorSpec(shape=(64, 2), dtype=tf.float32, name=None),\n",
              " 'next_step_type': TensorSpec(shape=(64, 2), dtype=tf.int32, name=None),\n",
              " 'observation': TensorSpec(shape=(64, 2, 4), dtype=tf.float32, name=None),\n",
              " 'policy_info': (),\n",
              " 'reward': TensorSpec(shape=(64, 2), dtype=tf.float32, name=None),\n",
              " 'step_type': TensorSpec(shape=(64, 2), dtype=tf.int32, name=None)}), SampleInfo(key=TensorSpec(shape=(64, 2), dtype=tf.uint64, name=None), probability=TensorSpec(shape=(64, 2), dtype=tf.float64, name=None), table_size=TensorSpec(shape=(64, 2), dtype=tf.int64, name=None), priority=TensorSpec(shape=(64, 2), dtype=tf.float64, name=None), times_sampled=TensorSpec(shape=(64, 2), dtype=tf.int32, name=None)))>"
            ]
          },
          "metadata": {},
          "execution_count": 50
        }
      ],
      "source": [
        "# Dataset generates trajectories with shape [Bx2x...]\n",
        "dataset = replay_buffer.as_dataset(\n",
        "    num_parallel_calls=3,\n",
        "    sample_batch_size=batch_size,\n",
        "    num_steps=2).prefetch(3)\n",
        "\n",
        "dataset"
      ]
    },
    {
      "cell_type": "code",
      "execution_count": null,
      "metadata": {
        "colab": {
          "base_uri": "https://localhost:8080/"
        },
        "id": "pXBmidcnyasg",
        "outputId": "dbba63fc-e84f-4bd5-ef2f-e4c676c6d395"
      },
      "outputs": [
        {
          "output_type": "stream",
          "name": "stdout",
          "text": [
            "<tensorflow.python.data.ops.iterator_ops.OwnedIterator object at 0x7f954cc84cd0>\n"
          ]
        }
      ],
      "source": [
        "iterator = iter(dataset)\n",
        "print(iterator)"
      ]
    },
    {
      "cell_type": "markdown",
      "metadata": {
        "id": "D-GbftkVyt3q"
      },
      "source": [
        "## Training the agent\n",
        "\n",
        "Two things must happen during the training loop:\n",
        "\n",
        "-   collect data from the environment\n",
        "-   use that data to train the agent's neural network(s)"
      ]
    },
    {
      "cell_type": "code",
      "execution_count": null,
      "metadata": {
        "colab": {
          "base_uri": "https://localhost:8080/"
        },
        "id": "NhPVNJXByv-_",
        "outputId": "e41c8360-d04e-41b7-a8d9-b7ce80336c33"
      },
      "outputs": [
        {
          "output_type": "stream",
          "name": "stdout",
          "text": [
            "step = 200: loss = 31.663925170898438\n",
            "step = 200: Average Return = 28.399999618530273\n",
            "step = 400: loss = 31.979537963867188\n",
            "step = 400: Average Return = 84.9000015258789\n",
            "step = 600: loss = 37.468048095703125\n",
            "step = 600: Average Return = 46.650001525878906\n",
            "step = 800: loss = 139.95867919921875\n",
            "step = 800: Average Return = 30.5\n",
            "step = 1000: loss = 20.227190017700195\n",
            "step = 1000: Average Return = 81.30000305175781\n",
            "step = 1200: loss = 49.13642120361328\n",
            "step = 1200: Average Return = 105.25\n",
            "step = 1400: loss = 22.902320861816406\n",
            "step = 1400: Average Return = 176.10000610351562\n",
            "step = 1600: loss = 7.005211353302002\n",
            "step = 1600: Average Return = 31.049999237060547\n",
            "step = 1800: loss = 115.63404083251953\n",
            "step = 1800: Average Return = 69.94999694824219\n",
            "step = 2000: loss = 175.017578125\n",
            "step = 2000: Average Return = 148.8000030517578\n",
            "step = 2200: loss = 127.03941345214844\n",
            "step = 2200: Average Return = 200.0\n",
            "step = 2400: loss = 548.578369140625\n",
            "step = 2400: Average Return = 198.6999969482422\n",
            "step = 2600: loss = 42.00518035888672\n",
            "step = 2600: Average Return = 190.0500030517578\n",
            "step = 2800: loss = 75.08592987060547\n",
            "step = 2800: Average Return = 200.0\n",
            "step = 3000: loss = 427.0537109375\n",
            "step = 3000: Average Return = 200.0\n",
            "step = 3200: loss = 2012.5194091796875\n",
            "step = 3200: Average Return = 200.0\n",
            "step = 3400: loss = 1321.54541015625\n",
            "step = 3400: Average Return = 200.0\n",
            "step = 3600: loss = 892.5709838867188\n",
            "step = 3600: Average Return = 200.0\n",
            "step = 3800: loss = 3371.904052734375\n",
            "step = 3800: Average Return = 200.0\n",
            "step = 4000: loss = 3556.500244140625\n",
            "step = 4000: Average Return = 200.0\n",
            "step = 4200: loss = 149.11318969726562\n",
            "step = 4200: Average Return = 200.0\n",
            "step = 4400: loss = 2631.850341796875\n",
            "step = 4400: Average Return = 200.0\n",
            "step = 4600: loss = 4373.3984375\n",
            "step = 4600: Average Return = 200.0\n",
            "step = 4800: loss = 8437.5458984375\n",
            "step = 4800: Average Return = 200.0\n",
            "step = 5000: loss = 2600.2412109375\n",
            "step = 5000: Average Return = 200.0\n",
            "step = 5200: loss = 9063.57421875\n",
            "step = 5200: Average Return = 200.0\n",
            "step = 5400: loss = 1869.81640625\n",
            "step = 5400: Average Return = 200.0\n",
            "step = 5600: loss = 128.57650756835938\n",
            "step = 5600: Average Return = 200.0\n",
            "step = 5800: loss = 304.1650085449219\n",
            "step = 5800: Average Return = 200.0\n",
            "step = 6000: loss = 1794.7733154296875\n",
            "step = 6000: Average Return = 200.0\n",
            "step = 6200: loss = 137.84963989257812\n",
            "step = 6200: Average Return = 200.0\n",
            "step = 6400: loss = 222.5731964111328\n",
            "step = 6400: Average Return = 200.0\n",
            "step = 6600: loss = 136.57427978515625\n",
            "step = 6600: Average Return = 200.0\n",
            "step = 6800: loss = 173.50469970703125\n",
            "step = 6800: Average Return = 200.0\n",
            "step = 7000: loss = 11191.6591796875\n",
            "step = 7000: Average Return = 200.0\n",
            "step = 7200: loss = 270.61474609375\n",
            "step = 7200: Average Return = 200.0\n",
            "step = 7400: loss = 13237.8251953125\n",
            "step = 7400: Average Return = 200.0\n",
            "step = 7600: loss = 1228.379638671875\n",
            "step = 7600: Average Return = 200.0\n",
            "step = 7800: loss = 145.8253936767578\n",
            "step = 7800: Average Return = 200.0\n",
            "step = 8000: loss = 12042.783203125\n",
            "step = 8000: Average Return = 200.0\n",
            "step = 8200: loss = 467.21063232421875\n",
            "step = 8200: Average Return = 200.0\n",
            "step = 8400: loss = 11809.1044921875\n",
            "step = 8400: Average Return = 200.0\n",
            "step = 8600: loss = 185.30934143066406\n",
            "step = 8600: Average Return = 200.0\n",
            "step = 8800: loss = 160.25167846679688\n",
            "step = 8800: Average Return = 200.0\n",
            "step = 9000: loss = 126.93731689453125\n",
            "step = 9000: Average Return = 200.0\n",
            "step = 9200: loss = 13969.1240234375\n",
            "step = 9200: Average Return = 200.0\n",
            "step = 9400: loss = 121.1665267944336\n",
            "step = 9400: Average Return = 200.0\n",
            "step = 9600: loss = 1315.75634765625\n",
            "step = 9600: Average Return = 200.0\n",
            "step = 9800: loss = 116.79592895507812\n",
            "step = 9800: Average Return = 200.0\n",
            "step = 10000: loss = 208.87823486328125\n",
            "step = 10000: Average Return = 200.0\n"
          ]
        }
      ],
      "source": [
        "try:\n",
        "  %%time\n",
        "except:\n",
        "  pass\n",
        "\n",
        "# (Optional) Optimize by wrapping some of the code in a graph using TF function.\n",
        "agent.train = common.function(agent.train)\n",
        "\n",
        "# Reset the train step.\n",
        "agent.train_step_counter.assign(0)\n",
        "\n",
        "# Evaluate the agent's policy once before training.\n",
        "avg_return = compute_avg_return(eval_env, agent.policy, num_eval_episodes)\n",
        "returns = [avg_return]\n",
        "\n",
        "# Reset the environment.\n",
        "time_step = train_py_env.reset()\n",
        "\n",
        "# Create a driver to collect experience.\n",
        "collect_driver = py_driver.PyDriver(\n",
        "    env,\n",
        "    py_tf_eager_policy.PyTFEagerPolicy(\n",
        "      agent.collect_policy, use_tf_function=True),\n",
        "    [rb_observer],\n",
        "    max_steps=collect_steps_per_iteration)\n",
        "\n",
        "for _ in range(num_iterations):\n",
        "\n",
        "  # Collect a few steps and save to the replay buffer.\n",
        "  time_step, _ = collect_driver.run(time_step)\n",
        "\n",
        "  # Sample a batch of data from the buffer and update the agent's network.\n",
        "  experience, unused_info = next(iterator)\n",
        "  train_loss = agent.train(experience).loss\n",
        "\n",
        "  step = agent.train_step_counter.numpy()\n",
        "\n",
        "  if step % log_interval == 0:\n",
        "    print('step = {0}: loss = {1}'.format(step, train_loss))\n",
        "\n",
        "  if step % eval_interval == 0:\n",
        "    avg_return = compute_avg_return(eval_env, agent.policy, num_eval_episodes)\n",
        "    print('step = {0}: Average Return = {1}'.format(step, avg_return))\n",
        "    returns.append(avg_return)"
      ]
    },
    {
      "cell_type": "markdown",
      "metadata": {
        "id": "Wm2ywKBsy3jk"
      },
      "source": [
        "## Visualization\n",
        "### Plots\n",
        "\n",
        "Use `matplotlib.pyplot` to chart how the policy improved during training.\n",
        "\n",
        "One iteration of `Cartpole-v0` consists of 200 time steps. The environment gives a reward of `+1` for each step the pole stays up, so the maximum return for one episode is 200. The charts shows the return increasing towards that maximum each time it is evaluated during training. (It may be a little unstable and not increase monotonically each time.)"
      ]
    },
    {
      "cell_type": "code",
      "execution_count": null,
      "metadata": {
        "colab": {
          "base_uri": "https://localhost:8080/",
          "height": 300
        },
        "id": "ncyt5CT7y6k7",
        "outputId": "5cfa31e5-a924-4917-e103-bbb65dd3fbc2"
      },
      "outputs": [
        {
          "output_type": "execute_result",
          "data": {
            "text/plain": [
              "(-0.5500000000000007, 500.0)"
            ]
          },
          "metadata": {},
          "execution_count": 53
        },
        {
          "output_type": "display_data",
          "data": {
            "text/plain": [
              "<Figure size 432x288 with 1 Axes>"
            ],
            "image/png": "[encoded data removed]"
          },
          "metadata": {
            "needs_background": "light"
          }
        }
      ],
      "source": [
        "iterations = range(0, num_iterations + 1, eval_interval)\n",
        "plt.plot(iterations, returns)\n",
        "plt.ylabel('Average Return')\n",
        "plt.xlabel('Iterations')\n",
        "plt.ylim(top=500)"
      ]
    },
    {
      "cell_type": "markdown",
      "metadata": {
        "id": "3jCxMc1Ty_Fm"
      },
      "source": [
        "### Videos "
      ]
    },
    {
      "cell_type": "code",
      "execution_count": null,
      "metadata": {
        "colab": {
          "base_uri": "https://localhost:8080/",
          "height": 300
        },
        "id": "G1JhBsRfzD7G",
        "outputId": "30aef000-9c80-441a-c4d2-05e3261f7c5e"
      },
      "outputs": [
        {
          "output_type": "execute_result",
          "data": {
            "text/plain": [
              "(-0.5500000000000007, 250.0)"
            ]
          },
          "metadata": {},
          "execution_count": 54
        },
        {
          "output_type": "display_data",
          "data": {
            "text/plain": [
              "<Figure size 432x288 with 1 Axes>"
            ],
            "image/png": "[encoded data removed]"
          },
          "metadata": {
            "needs_background": "light"
          }
        }
      ],
      "source": [
        "iterations = range(0, num_iterations + 1, eval_interval)\n",
        "plt.plot(iterations, returns)\n",
        "plt.ylabel('Average Return')\n",
        "plt.xlabel('Iterations')\n",
        "plt.ylim(top=250)"
      ]
    },
    {
      "cell_type": "markdown",
      "metadata": {
        "id": "HNJjirv1jaFS"
      },
      "source": [
        "#OpenAI Gym CartPole Environment using Keras RL"
      ]
    },
    {
      "cell_type": "markdown",
      "metadata": {
        "id": "EVk3gBX2jsnH"
      },
      "source": [
        "### Importing Libraries\n",
        "\n",
        "- Keras rl2 : Integrates with the OpenAI Gym to evaluate and play around with DQN Algorithm\n",
        "- Matplotlib: For displaying images and plotting model results.\n",
        "- Keras: We use Keras, a high-level API to build and train deep learning models in TensorFlow."
      ]
    },
    {
      "cell_type": "code",
      "execution_count": null,
      "metadata": {
        "id": "7kom78bgjhEa",
        "colab": {
          "base_uri": "https://localhost:8080/"
        },
        "outputId": "fbfaf352-82a3-4891-ef97-4eca9c20a647"
      },
      "outputs": [
        {
          "output_type": "stream",
          "name": "stdout",
          "text": [
            "Looking in indexes: https://pypi.org/simple, https://us-python.pkg.dev/colab-wheels/public/simple/\n",
            "Collecting keras-rl2\n",
            "  Downloading keras_rl2-1.0.5-py3-none-any.whl (52 kB)\n",
            "\u001b[K     |████████████████████████████████| 52 kB 748 kB/s \n",
            "\u001b[?25hRequirement already satisfied: tensorflow in /usr/local/lib/python3.7/dist-packages (from keras-rl2) (2.9.1)\n",
            "Requirement already satisfied: tensorboard<2.10,>=2.9 in /usr/local/lib/python3.7/dist-packages (from tensorflow->keras-rl2) (2.9.1)\n",
            "Requirement already satisfied: six>=1.12.0 in /usr/local/lib/python3.7/dist-packages (from tensorflow->keras-rl2) (1.15.0)\n",
            "Requirement already satisfied: absl-py>=1.0.0 in /usr/local/lib/python3.7/dist-packages (from tensorflow->keras-rl2) (1.2.0)\n",
            "Requirement already satisfied: opt-einsum>=2.3.2 in /usr/local/lib/python3.7/dist-packages (from tensorflow->keras-rl2) (3.3.0)\n",
            "Requirement already satisfied: typing-extensions>=3.6.6 in /usr/local/lib/python3.7/dist-packages (from tensorflow->keras-rl2) (4.1.1)\n",
            "Requirement already satisfied: grpcio<2.0,>=1.24.3 in /usr/local/lib/python3.7/dist-packages (from tensorflow->keras-rl2) (1.47.0)\n",
            "Requirement already satisfied: h5py>=2.9.0 in /usr/local/lib/python3.7/dist-packages (from tensorflow->keras-rl2) (3.1.0)\n",
            "Requirement already satisfied: numpy>=1.20 in /usr/local/lib/python3.7/dist-packages (from tensorflow->keras-rl2) (1.21.6)\n",
            "Requirement already satisfied: packaging in /usr/local/lib/python3.7/dist-packages (from tensorflow->keras-rl2) (21.3)\n",
            "Requirement already satisfied: keras<2.10.0,>=2.9.0rc0 in /usr/local/lib/python3.7/dist-packages (from tensorflow->keras-rl2) (2.9.0)\n",
            "Requirement already satisfied: astunparse>=1.6.0 in /usr/local/lib/python3.7/dist-packages (from tensorflow->keras-rl2) (1.6.3)\n",
            "Requirement already satisfied: keras-preprocessing>=1.1.1 in /usr/local/lib/python3.7/dist-packages (from tensorflow->keras-rl2) (1.1.2)\n",
            "Requirement already satisfied: protobuf<3.20,>=3.9.2 in /usr/local/lib/python3.7/dist-packages (from tensorflow->keras-rl2) (3.17.3)\n",
            "Requirement already satisfied: wrapt>=1.11.0 in /usr/local/lib/python3.7/dist-packages (from tensorflow->keras-rl2) (1.14.1)\n",
            "Requirement already satisfied: tensorflow-estimator<2.10.0,>=2.9.0rc0 in /usr/local/lib/python3.7/dist-packages (from tensorflow->keras-rl2) (2.9.0)\n",
            "Requirement already satisfied: setuptools in /usr/local/lib/python3.7/dist-packages (from tensorflow->keras-rl2) (57.4.0)\n",
            "Requirement already satisfied: tensorflow-io-gcs-filesystem>=0.23.1 in /usr/local/lib/python3.7/dist-packages (from tensorflow->keras-rl2) (0.26.0)\n",
            "Requirement already satisfied: gast<=0.4.0,>=0.2.1 in /usr/local/lib/python3.7/dist-packages (from tensorflow->keras-rl2) (0.4.0)\n",
            "Requirement already satisfied: flatbuffers<2,>=1.12 in /usr/local/lib/python3.7/dist-packages (from tensorflow->keras-rl2) (1.12)\n",
            "Requirement already satisfied: google-pasta>=0.1.1 in /usr/local/lib/python3.7/dist-packages (from tensorflow->keras-rl2) (0.2.0)\n",
            "Requirement already satisfied: termcolor>=1.1.0 in /usr/local/lib/python3.7/dist-packages (from tensorflow->keras-rl2) (1.1.0)\n",
            "Requirement already satisfied: libclang>=13.0.0 in /usr/local/lib/python3.7/dist-packages (from tensorflow->keras-rl2) (14.0.6)\n",
            "Requirement already satisfied: wheel<1.0,>=0.23.0 in /usr/local/lib/python3.7/dist-packages (from astunparse>=1.6.0->tensorflow->keras-rl2) (0.37.1)\n",
            "Requirement already satisfied: cached-property in /usr/local/lib/python3.7/dist-packages (from h5py>=2.9.0->tensorflow->keras-rl2) (1.5.2)\n",
            "Requirement already satisfied: google-auth-oauthlib<0.5,>=0.4.1 in /usr/local/lib/python3.7/dist-packages (from tensorboard<2.10,>=2.9->tensorflow->keras-rl2) (0.4.6)\n",
            "Requirement already satisfied: requests<3,>=2.21.0 in /usr/local/lib/python3.7/dist-packages (from tensorboard<2.10,>=2.9->tensorflow->keras-rl2) (2.23.0)\n",
            "Requirement already satisfied: werkzeug>=1.0.1 in /usr/local/lib/python3.7/dist-packages (from tensorboard<2.10,>=2.9->tensorflow->keras-rl2) (1.0.1)\n",
            "Requirement already satisfied: tensorboard-plugin-wit>=1.6.0 in /usr/local/lib/python3.7/dist-packages (from tensorboard<2.10,>=2.9->tensorflow->keras-rl2) (1.8.1)\n",
            "Requirement already satisfied: tensorboard-data-server<0.7.0,>=0.6.0 in /usr/local/lib/python3.7/dist-packages (from tensorboard<2.10,>=2.9->tensorflow->keras-rl2) (0.6.1)\n",
            "Requirement already satisfied: google-auth<3,>=1.6.3 in /usr/local/lib/python3.7/dist-packages (from tensorboard<2.10,>=2.9->tensorflow->keras-rl2) (1.35.0)\n",
            "Requirement already satisfied: markdown>=2.6.8 in /usr/local/lib/python3.7/dist-packages (from tensorboard<2.10,>=2.9->tensorflow->keras-rl2) (3.4.1)\n",
            "Requirement already satisfied: rsa<5,>=3.1.4 in /usr/local/lib/python3.7/dist-packages (from google-auth<3,>=1.6.3->tensorboard<2.10,>=2.9->tensorflow->keras-rl2) (4.9)\n",
            "Requirement already satisfied: pyasn1-modules>=0.2.1 in /usr/local/lib/python3.7/dist-packages (from google-auth<3,>=1.6.3->tensorboard<2.10,>=2.9->tensorflow->keras-rl2) (0.2.8)\n",
            "Requirement already satisfied: cachetools<5.0,>=2.0.0 in /usr/local/lib/python3.7/dist-packages (from google-auth<3,>=1.6.3->tensorboard<2.10,>=2.9->tensorflow->keras-rl2) (4.2.4)\n",
            "Requirement already satisfied: requests-oauthlib>=0.7.0 in /usr/local/lib/python3.7/dist-packages (from google-auth-oauthlib<0.5,>=0.4.1->tensorboard<2.10,>=2.9->tensorflow->keras-rl2) (1.3.1)\n",
            "Requirement already satisfied: importlib-metadata>=4.4 in /usr/local/lib/python3.7/dist-packages (from markdown>=2.6.8->tensorboard<2.10,>=2.9->tensorflow->keras-rl2) (4.12.0)\n",
            "Requirement already satisfied: zipp>=0.5 in /usr/local/lib/python3.7/dist-packages (from importlib-metadata>=4.4->markdown>=2.6.8->tensorboard<2.10,>=2.9->tensorflow->keras-rl2) (3.8.1)\n",
            "Requirement already satisfied: pyasn1<0.5.0,>=0.4.6 in /usr/local/lib/python3.7/dist-packages (from pyasn1-modules>=0.2.1->google-auth<3,>=1.6.3->tensorboard<2.10,>=2.9->tensorflow->keras-rl2) (0.4.8)\n",
            "Requirement already satisfied: idna<3,>=2.5 in /usr/local/lib/python3.7/dist-packages (from requests<3,>=2.21.0->tensorboard<2.10,>=2.9->tensorflow->keras-rl2) (2.10)\n",
            "Requirement already satisfied: certifi>=2017.4.17 in /usr/local/lib/python3.7/dist-packages (from requests<3,>=2.21.0->tensorboard<2.10,>=2.9->tensorflow->keras-rl2) (2022.6.15)\n",
            "Requirement already satisfied: chardet<4,>=3.0.2 in /usr/local/lib/python3.7/dist-packages (from requests<3,>=2.21.0->tensorboard<2.10,>=2.9->tensorflow->keras-rl2) (3.0.4)\n",
            "Requirement already satisfied: urllib3!=1.25.0,!=1.25.1,<1.26,>=1.21.1 in /usr/local/lib/python3.7/dist-packages (from requests<3,>=2.21.0->tensorboard<2.10,>=2.9->tensorflow->keras-rl2) (1.24.3)\n",
            "Requirement already satisfied: oauthlib>=3.0.0 in /usr/local/lib/python3.7/dist-packages (from requests-oauthlib>=0.7.0->google-auth-oauthlib<0.5,>=0.4.1->tensorboard<2.10,>=2.9->tensorflow->keras-rl2) (3.2.0)\n",
            "Requirement already satisfied: pyparsing!=3.0.5,>=2.0.2 in /usr/local/lib/python3.7/dist-packages (from packaging->tensorflow->keras-rl2) (3.0.9)\n",
            "Installing collected packages: keras-rl2\n",
            "Successfully installed keras-rl2-1.0.5\n",
            "Looking in indexes: https://pypi.org/simple, https://us-python.pkg.dev/colab-wheels/public/simple/\n",
            "Requirement already satisfied: gym in /usr/local/lib/python3.7/dist-packages (0.23.0)\n",
            "Requirement already satisfied: gym-notices>=0.0.4 in /usr/local/lib/python3.7/dist-packages (from gym) (0.0.8)\n",
            "Requirement already satisfied: importlib-metadata>=4.10.0 in /usr/local/lib/python3.7/dist-packages (from gym) (4.12.0)\n",
            "Requirement already satisfied: numpy>=1.18.0 in /usr/local/lib/python3.7/dist-packages (from gym) (1.21.6)\n",
            "Requirement already satisfied: cloudpickle>=1.2.0 in /usr/local/lib/python3.7/dist-packages (from gym) (1.5.0)\n",
            "Requirement already satisfied: typing-extensions>=3.6.4 in /usr/local/lib/python3.7/dist-packages (from importlib-metadata>=4.10.0->gym) (4.1.1)\n",
            "Requirement already satisfied: zipp>=0.5 in /usr/local/lib/python3.7/dist-packages (from importlib-metadata>=4.10.0->gym) (3.8.1)\n"
          ]
        }
      ],
      "source": [
        "#Install keras rl2 which seamlessly integrates with the  OpenAI Gym  to evaluate and play around with DQN Algorithm\n",
        "!pip install keras-rl2\n",
        "\n",
        "\n",
        "#Install Open AI Gym for the Cart Pole Environment\n",
        "!pip install gym\n",
        "\n",
        "# Import the gym module\n",
        "#Import Matplotlib to visualize the training steps\n",
        "#Import the Keras modules for creating deep neural networks\n",
        "\n",
        "import gym\n",
        "import matplotlib.pyplot as plt\n",
        "from keras import Sequential\n",
        "from keras.layers import Input, Flatten, Dense"
      ]
    },
    {
      "cell_type": "markdown",
      "metadata": {
        "id": "AenB17JekAx4"
      },
      "source": [
        "## Setting up the Cart Pole Environment with Open AI Gym\n",
        "CartPole is one of the most simplest environments in OpenAI gym which is collection of environments to develop and test Reinforcement algorithms.\n",
        "\n",
        "The goal of CartPole is to balance a pole connected with one joint on top of a moving cart. An agent can move the cart by performing a series of 0 or 1 actions, pushing it left or right.\n",
        "\n",
        "1. Observation is an array of 4 floats which contains\n",
        "  - Angular Position and Velocity of the Cart\n",
        "  - Angular Position and Velocity of the Pole\n",
        "2. Reward is a scalar float value\n",
        "3. Action is a scalar integer with only two possible values:\n",
        "  - 0 — \"move left\"\n",
        "  - 1 — \"move right\""
      ]
    },
    {
      "cell_type": "code",
      "execution_count": null,
      "metadata": {
        "colab": {
          "base_uri": "https://localhost:8080/"
        },
        "id": "HMA16BfNkWMW",
        "outputId": "9050886a-d8d5-4fbf-92ac-b6f41ef6d5ee"
      },
      "outputs": [
        {
          "output_type": "stream",
          "name": "stderr",
          "text": [
            "/usr/local/lib/python3.7/dist-packages/gym/envs/registration.py:594: UserWarning: \u001b[33mWARN: The environment CartPole-v0 is out of date. You should consider upgrading to version `v1`.\u001b[0m\n",
            "  f\"The environment {id} is out of date. You should consider \"\n",
            "/usr/local/lib/python3.7/dist-packages/gym/core.py:330: DeprecationWarning: \u001b[33mWARN: Initializing wrapper in old step API which returns one bool instead of two. It is recommended to set `new_step_api=True` to use new step API. This will be the default behaviour in future.\u001b[0m\n",
            "  \"Initializing wrapper in old step API which returns one bool instead of two. It is recommended to set `new_step_api=True` to use new step API. This will be the default behaviour in future.\"\n",
            "/usr/local/lib/python3.7/dist-packages/gym/wrappers/step_api_compatibility.py:40: DeprecationWarning: \u001b[33mWARN: Initializing environment in old step API which returns one bool instead of two. It is recommended to set `new_step_api=True` to use new step API. This will be the default behaviour in future.\u001b[0m\n",
            "  \"Initializing environment in old step API which returns one bool instead of two. It is recommended to set `new_step_api=True` to use new step API. This will be the default behaviour in future.\"\n"
          ]
        }
      ],
      "source": [
        "#Load the CartPole environment from the OpenAI Gym suite\n",
        "ENV_NAME = 'CartPole-v0'\n",
        "env = gym.make(ENV_NAME)"
      ]
    },
    {
      "cell_type": "markdown",
      "metadata": {
        "id": "gTrlifJzkkFf"
      },
      "source": [
        "##Building DQN Agent with Keras-RL"
      ]
    },
    {
      "cell_type": "code",
      "execution_count": null,
      "metadata": {
        "colab": {
          "base_uri": "https://localhost:8080/"
        },
        "id": "8wn0U1wmktxr",
        "outputId": "a62b7463-20d1-4007-f2e8-b1e3a52a480f"
      },
      "outputs": [
        {
          "output_type": "stream",
          "name": "stdout",
          "text": [
            "Model: \"sequential_2\"\n",
            "_________________________________________________________________\n",
            " Layer (type)                Output Shape              Param #   \n",
            "=================================================================\n",
            " flatten (Flatten)           (None, 4)                 0         \n",
            "                                                                 \n",
            " dense_6 (Dense)             (None, 24)                120       \n",
            "                                                                 \n",
            " dense_7 (Dense)             (None, 24)                600       \n",
            "                                                                 \n",
            " dense_8 (Dense)             (None, 2)                 50        \n",
            "                                                                 \n",
            "=================================================================\n",
            "Total params: 770\n",
            "Trainable params: 770\n",
            "Non-trainable params: 0\n",
            "_________________________________________________________________\n",
            "None\n",
            "Training for 50000 steps ...\n",
            "    15/50000: episode: 1, duration: 0.113s, episode steps:  15, steps per second: 132, episode reward: 15.000, mean reward:  1.000 [ 1.000,  1.000], mean action: 0.333 [0.000, 1.000],  loss: --, mae: --, accuracy: --, mean_q: --, mean_eps: --\n"
          ]
        },
        {
          "output_type": "stream",
          "name": "stderr",
          "text": [
            "/usr/local/lib/python3.7/dist-packages/keras/engine/training_v1.py:2067: UserWarning: `Model.state_updates` will be removed in a future version. This property should not be used in TensorFlow 2.0, as `updates` are applied automatically.\n",
            "  updates=self.state_updates,\n",
            "/usr/local/lib/python3.7/dist-packages/rl/memory.py:37: UserWarning: Not enough entries to sample without replacement. Consider increasing your warm-up phase to avoid oversampling!\n",
            "  warnings.warn('Not enough entries to sample without replacement. Consider increasing your warm-up phase to avoid oversampling!')\n",
            "/usr/local/lib/python3.7/dist-packages/rl/memory.py:38: DeprecationWarning: This function is deprecated. Please call randint(1, 26 + 1) instead\n",
            "  batch_idxs = np.random.random_integers(low, high - 1, size=size)\n",
            "/usr/local/lib/python3.7/dist-packages/keras/engine/training_v1.py:2067: UserWarning: `Model.state_updates` will be removed in a future version. This property should not be used in TensorFlow 2.0, as `updates` are applied automatically.\n",
            "  updates=self.state_updates,\n",
            "/usr/local/lib/python3.7/dist-packages/rl/memory.py:38: DeprecationWarning: This function is deprecated. Please call randint(1, 27 + 1) instead\n",
            "  batch_idxs = np.random.random_integers(low, high - 1, size=size)\n",
            "/usr/local/lib/python3.7/dist-packages/rl/memory.py:38: DeprecationWarning: This function is deprecated. Please call randint(1, 28 + 1) instead\n",
            "  batch_idxs = np.random.random_integers(low, high - 1, size=size)\n",
            "/usr/local/lib/python3.7/dist-packages/rl/memory.py:38: DeprecationWarning: This function is deprecated. Please call randint(1, 29 + 1) instead\n",
            "  batch_idxs = np.random.random_integers(low, high - 1, size=size)\n",
            "/usr/local/lib/python3.7/dist-packages/rl/memory.py:37: UserWarning: Not enough entries to sample without replacement. Consider increasing your warm-up phase to avoid oversampling!\n",
            "  warnings.warn('Not enough entries to sample without replacement. Consider increasing your warm-up phase to avoid oversampling!')\n",
            "/usr/local/lib/python3.7/dist-packages/rl/memory.py:38: DeprecationWarning: This function is deprecated. Please call randint(1, 30 + 1) instead\n",
            "  batch_idxs = np.random.random_integers(low, high - 1, size=size)\n",
            "/usr/local/lib/python3.7/dist-packages/rl/memory.py:38: DeprecationWarning: This function is deprecated. Please call randint(1, 31 + 1) instead\n",
            "  batch_idxs = np.random.random_integers(low, high - 1, size=size)\n"
          ]
        },
        {
          "output_type": "stream",
          "name": "stdout",
          "text": [
            "    29/50000: episode: 2, duration: 0.556s, episode steps:  14, steps per second:  25, episode reward: 14.000, mean reward:  1.000 [ 1.000,  1.000], mean action: 0.429 [0.000, 1.000],  loss: 0.517972, mae: 0.531151, accuracy: 0.687500, mean_q: 0.047039, mean_eps: 0.997570\n",
            "    40/50000: episode: 3, duration: 0.090s, episode steps:  11, steps per second: 122, episode reward: 11.000, mean reward:  1.000 [ 1.000,  1.000], mean action: 0.818 [0.000, 1.000],  loss: 0.507359, mae: 0.554000, accuracy: 0.536932, mean_q: 0.158918, mean_eps: 0.996940\n",
            "    51/50000: episode: 4, duration: 0.090s, episode steps:  11, steps per second: 123, episode reward: 11.000, mean reward:  1.000 [ 1.000,  1.000], mean action: 0.727 [0.000, 1.000],  loss: 0.450416, mae: 0.594284, accuracy: 0.465909, mean_q: 0.345890, mean_eps: 0.995950\n",
            "    71/50000: episode: 5, duration: 0.159s, episode steps:  20, steps per second: 126, episode reward: 20.000, mean reward:  1.000 [ 1.000,  1.000], mean action: 0.600 [0.000, 1.000],  loss: 0.332761, mae: 0.617239, accuracy: 0.475000, mean_q: 0.525149, mean_eps: 0.994555\n",
            "    83/50000: episode: 6, duration: 0.111s, episode steps:  12, steps per second: 109, episode reward: 12.000, mean reward:  1.000 [ 1.000,  1.000], mean action: 0.667 [0.000, 1.000],  loss: 0.239425, mae: 0.632560, accuracy: 0.609375, mean_q: 0.681733, mean_eps: 0.993115\n",
            "    94/50000: episode: 7, duration: 0.086s, episode steps:  11, steps per second: 127, episode reward: 11.000, mean reward:  1.000 [ 1.000,  1.000], mean action: 0.273 [0.000, 1.000],  loss: 0.173633, mae: 0.656567, accuracy: 0.644886, mean_q: 0.861579, mean_eps: 0.992080\n",
            "   114/50000: episode: 8, duration: 0.159s, episode steps:  20, steps per second: 126, episode reward: 20.000, mean reward:  1.000 [ 1.000,  1.000], mean action: 0.600 [0.000, 1.000],  loss: 0.106500, mae: 0.699681, accuracy: 0.650000, mean_q: 1.158466, mean_eps: 0.990685\n",
            "   152/50000: episode: 9, duration: 0.299s, episode steps:  38, steps per second: 127, episode reward: 38.000, mean reward:  1.000 [ 1.000,  1.000], mean action: 0.500 [0.000, 1.000],  loss: 0.080033, mae: 0.796090, accuracy: 0.606908, mean_q: 1.445950, mean_eps: 0.988075\n",
            "   163/50000: episode: 10, duration: 0.085s, episode steps:  11, steps per second: 129, episode reward: 11.000, mean reward:  1.000 [ 1.000,  1.000], mean action: 0.273 [0.000, 1.000],  loss: 0.080840, mae: 0.885339, accuracy: 0.553977, mean_q: 1.622481, mean_eps: 0.985870\n",
            "   178/50000: episode: 11, duration: 0.125s, episode steps:  15, steps per second: 120, episode reward: 15.000, mean reward:  1.000 [ 1.000,  1.000], mean action: 0.667 [0.000, 1.000],  loss: 0.059332, mae: 0.897115, accuracy: 0.612500, mean_q: 1.710732, mean_eps: 0.984700\n",
            "   194/50000: episode: 12, duration: 0.126s, episode steps:  16, steps per second: 127, episode reward: 16.000, mean reward:  1.000 [ 1.000,  1.000], mean action: 0.688 [0.000, 1.000],  loss: 0.068504, mae: 0.972339, accuracy: 0.544922, mean_q: 1.843079, mean_eps: 0.983305\n",
            "   214/50000: episode: 13, duration: 0.170s, episode steps:  20, steps per second: 118, episode reward: 20.000, mean reward:  1.000 [ 1.000,  1.000], mean action: 0.450 [0.000, 1.000],  loss: 0.081177, mae: 1.050879, accuracy: 0.559375, mean_q: 2.042907, mean_eps: 0.981685\n",
            "   230/50000: episode: 14, duration: 0.141s, episode steps:  16, steps per second: 113, episode reward: 16.000, mean reward:  1.000 [ 1.000,  1.000], mean action: 0.688 [0.000, 1.000],  loss: 0.079072, mae: 1.117797, accuracy: 0.566406, mean_q: 2.201801, mean_eps: 0.980065\n",
            "   268/50000: episode: 15, duration: 0.289s, episode steps:  38, steps per second: 132, episode reward: 38.000, mean reward:  1.000 [ 1.000,  1.000], mean action: 0.526 [0.000, 1.000],  loss: 0.095760, mae: 1.215392, accuracy: 0.519737, mean_q: 2.391683, mean_eps: 0.977635\n",
            "   287/50000: episode: 16, duration: 0.147s, episode steps:  19, steps per second: 130, episode reward: 19.000, mean reward:  1.000 [ 1.000,  1.000], mean action: 0.526 [0.000, 1.000],  loss: 0.116432, mae: 1.352403, accuracy: 0.516447, mean_q: 2.639880, mean_eps: 0.975070\n",
            "   324/50000: episode: 17, duration: 0.417s, episode steps:  37, steps per second:  89, episode reward: 37.000, mean reward:  1.000 [ 1.000,  1.000], mean action: 0.459 [0.000, 1.000],  loss: 0.130615, mae: 1.466204, accuracy: 0.542230, mean_q: 2.876737, mean_eps: 0.972550\n",
            "   344/50000: episode: 18, duration: 0.258s, episode steps:  20, steps per second:  77, episode reward: 20.000, mean reward:  1.000 [ 1.000,  1.000], mean action: 0.700 [0.000, 1.000],  loss: 0.146283, mae: 1.619289, accuracy: 0.515625, mean_q: 3.182356, mean_eps: 0.969985\n",
            "   368/50000: episode: 19, duration: 0.329s, episode steps:  24, steps per second:  73, episode reward: 24.000, mean reward:  1.000 [ 1.000,  1.000], mean action: 0.458 [0.000, 1.000],  loss: 0.197281, mae: 1.718908, accuracy: 0.549479, mean_q: 3.314130, mean_eps: 0.968005\n",
            "   382/50000: episode: 20, duration: 0.193s, episode steps:  14, steps per second:  73, episode reward: 14.000, mean reward:  1.000 [ 1.000,  1.000], mean action: 0.357 [0.000, 1.000],  loss: 0.235308, mae: 1.815381, accuracy: 0.524554, mean_q: 3.434755, mean_eps: 0.966295\n",
            "   433/50000: episode: 21, duration: 0.821s, episode steps:  51, steps per second:  62, episode reward: 51.000, mean reward:  1.000 [ 1.000,  1.000], mean action: 0.451 [0.000, 1.000],  loss: 0.193449, mae: 1.935304, accuracy: 0.514093, mean_q: 3.761248, mean_eps: 0.963370\n",
            "   445/50000: episode: 22, duration: 0.223s, episode steps:  12, steps per second:  54, episode reward: 12.000, mean reward:  1.000 [ 1.000,  1.000], mean action: 0.500 [0.000, 1.000],  loss: 0.163781, mae: 2.052599, accuracy: 0.500000, mean_q: 4.003366, mean_eps: 0.960535\n",
            "   464/50000: episode: 23, duration: 0.345s, episode steps:  19, steps per second:  55, episode reward: 19.000, mean reward:  1.000 [ 1.000,  1.000], mean action: 0.421 [0.000, 1.000],  loss: 0.319502, mae: 2.200428, accuracy: 0.508224, mean_q: 4.185880, mean_eps: 0.959140\n",
            "   502/50000: episode: 24, duration: 0.571s, episode steps:  38, steps per second:  67, episode reward: 38.000, mean reward:  1.000 [ 1.000,  1.000], mean action: 0.447 [0.000, 1.000],  loss: 0.345459, mae: 2.299243, accuracy: 0.509868, mean_q: 4.370303, mean_eps: 0.956575\n",
            "   523/50000: episode: 25, duration: 0.309s, episode steps:  21, steps per second:  68, episode reward: 21.000, mean reward:  1.000 [ 1.000,  1.000], mean action: 0.476 [0.000, 1.000],  loss: 0.289125, mae: 2.431939, accuracy: 0.458333, mean_q: 4.685626, mean_eps: 0.953920\n",
            "   539/50000: episode: 26, duration: 0.217s, episode steps:  16, steps per second:  74, episode reward: 16.000, mean reward:  1.000 [ 1.000,  1.000], mean action: 0.625 [0.000, 1.000],  loss: 0.226178, mae: 2.495596, accuracy: 0.486328, mean_q: 4.832232, mean_eps: 0.952255\n",
            "   553/50000: episode: 27, duration: 0.182s, episode steps:  14, steps per second:  77, episode reward: 14.000, mean reward:  1.000 [ 1.000,  1.000], mean action: 0.571 [0.000, 1.000],  loss: 0.328419, mae: 2.580279, accuracy: 0.488839, mean_q: 4.953894, mean_eps: 0.950905\n",
            "   592/50000: episode: 28, duration: 0.568s, episode steps:  39, steps per second:  69, episode reward: 39.000, mean reward:  1.000 [ 1.000,  1.000], mean action: 0.513 [0.000, 1.000],  loss: 0.323688, mae: 2.663825, accuracy: 0.493590, mean_q: 5.132410, mean_eps: 0.948520\n",
            "   617/50000: episode: 29, duration: 0.433s, episode steps:  25, steps per second:  58, episode reward: 25.000, mean reward:  1.000 [ 1.000,  1.000], mean action: 0.640 [0.000, 1.000],  loss: 0.394410, mae: 2.799032, accuracy: 0.506250, mean_q: 5.314981, mean_eps: 0.945640\n",
            "   638/50000: episode: 30, duration: 0.322s, episode steps:  21, steps per second:  65, episode reward: 21.000, mean reward:  1.000 [ 1.000,  1.000], mean action: 0.429 [0.000, 1.000],  loss: 0.496042, mae: 2.919476, accuracy: 0.480655, mean_q: 5.519269, mean_eps: 0.943570\n",
            "   646/50000: episode: 31, duration: 0.112s, episode steps:   8, steps per second:  71, episode reward:  8.000, mean reward:  1.000 [ 1.000,  1.000], mean action: 0.000 [0.000, 0.000],  loss: 0.484842, mae: 2.970932, accuracy: 0.449219, mean_q: 5.615978, mean_eps: 0.942265\n",
            "   662/50000: episode: 32, duration: 0.287s, episode steps:  16, steps per second:  56, episode reward: 16.000, mean reward:  1.000 [ 1.000,  1.000], mean action: 0.688 [0.000, 1.000],  loss: 0.395701, mae: 3.020459, accuracy: 0.490234, mean_q: 5.872548, mean_eps: 0.941185\n",
            "   685/50000: episode: 33, duration: 0.351s, episode steps:  23, steps per second:  66, episode reward: 23.000, mean reward:  1.000 [ 1.000,  1.000], mean action: 0.435 [0.000, 1.000],  loss: 0.538014, mae: 3.090544, accuracy: 0.474185, mean_q: 5.785182, mean_eps: 0.939430\n",
            "   710/50000: episode: 34, duration: 0.435s, episode steps:  25, steps per second:  57, episode reward: 25.000, mean reward:  1.000 [ 1.000,  1.000], mean action: 0.440 [0.000, 1.000],  loss: 0.411356, mae: 3.155406, accuracy: 0.467500, mean_q: 6.008852, mean_eps: 0.937270\n",
            "   724/50000: episode: 35, duration: 0.220s, episode steps:  14, steps per second:  64, episode reward: 14.000, mean reward:  1.000 [ 1.000,  1.000], mean action: 0.643 [0.000, 1.000],  loss: 0.517859, mae: 3.249729, accuracy: 0.466518, mean_q: 6.175336, mean_eps: 0.935515\n",
            "   737/50000: episode: 36, duration: 0.180s, episode steps:  13, steps per second:  72, episode reward: 13.000, mean reward:  1.000 [ 1.000,  1.000], mean action: 0.692 [0.000, 1.000],  loss: 0.428861, mae: 3.297002, accuracy: 0.437500, mean_q: 6.307170, mean_eps: 0.934300\n",
            "   767/50000: episode: 37, duration: 0.414s, episode steps:  30, steps per second:  73, episode reward: 30.000, mean reward:  1.000 [ 1.000,  1.000], mean action: 0.500 [0.000, 1.000],  loss: 0.491260, mae: 3.360555, accuracy: 0.500000, mean_q: 6.366113, mean_eps: 0.932365\n",
            "   793/50000: episode: 38, duration: 0.205s, episode steps:  26, steps per second: 127, episode reward: 26.000, mean reward:  1.000 [ 1.000,  1.000], mean action: 0.500 [0.000, 1.000],  loss: 0.612083, mae: 3.483944, accuracy: 0.501202, mean_q: 6.575952, mean_eps: 0.929845\n",
            "   814/50000: episode: 39, duration: 0.162s, episode steps:  21, steps per second: 130, episode reward: 21.000, mean reward:  1.000 [ 1.000,  1.000], mean action: 0.429 [0.000, 1.000],  loss: 0.530641, mae: 3.558324, accuracy: 0.479167, mean_q: 6.794047, mean_eps: 0.927730\n",
            "   843/50000: episode: 40, duration: 0.226s, episode steps:  29, steps per second: 128, episode reward: 29.000, mean reward:  1.000 [ 1.000,  1.000], mean action: 0.586 [0.000, 1.000],  loss: 0.579117, mae: 3.647095, accuracy: 0.459052, mean_q: 6.877387, mean_eps: 0.925480\n",
            "   861/50000: episode: 41, duration: 0.141s, episode steps:  18, steps per second: 128, episode reward: 18.000, mean reward:  1.000 [ 1.000,  1.000], mean action: 0.444 [0.000, 1.000],  loss: 0.620080, mae: 3.728652, accuracy: 0.505208, mean_q: 7.017236, mean_eps: 0.923365\n",
            "   889/50000: episode: 42, duration: 0.212s, episode steps:  28, steps per second: 132, episode reward: 28.000, mean reward:  1.000 [ 1.000,  1.000], mean action: 0.429 [0.000, 1.000],  loss: 0.465295, mae: 3.776440, accuracy: 0.496652, mean_q: 7.218749, mean_eps: 0.921295\n",
            "   972/50000: episode: 43, duration: 0.629s, episode steps:  83, steps per second: 132, episode reward: 83.000, mean reward:  1.000 [ 1.000,  1.000], mean action: 0.518 [0.000, 1.000],  loss: 0.477098, mae: 3.985713, accuracy: 0.516190, mean_q: 7.757565, mean_eps: 0.916300\n",
            "   991/50000: episode: 44, duration: 0.139s, episode steps:  19, steps per second: 137, episode reward: 19.000, mean reward:  1.000 [ 1.000,  1.000], mean action: 0.421 [0.000, 1.000],  loss: 0.707069, mae: 4.232116, accuracy: 0.513158, mean_q: 8.192692, mean_eps: 0.911710\n",
            "  1005/50000: episode: 45, duration: 0.115s, episode steps:  14, steps per second: 122, episode reward: 14.000, mean reward:  1.000 [ 1.000,  1.000], mean action: 0.286 [0.000, 1.000],  loss: 0.659895, mae: 4.288474, accuracy: 0.482143, mean_q: 8.288296, mean_eps: 0.910225\n",
            "  1025/50000: episode: 46, duration: 0.148s, episode steps:  20, steps per second: 135, episode reward: 20.000, mean reward:  1.000 [ 1.000,  1.000], mean action: 0.500 [0.000, 1.000],  loss: 0.734647, mae: 4.399662, accuracy: 0.500000, mean_q: 8.479177, mean_eps: 0.908695\n",
            "  1087/50000: episode: 47, duration: 0.466s, episode steps:  62, steps per second: 133, episode reward: 62.000, mean reward:  1.000 [ 1.000,  1.000], mean action: 0.532 [0.000, 1.000],  loss: 0.534760, mae: 4.518324, accuracy: 0.493952, mean_q: 8.809191, mean_eps: 0.905005\n",
            "  1120/50000: episode: 48, duration: 0.252s, episode steps:  33, steps per second: 131, episode reward: 33.000, mean reward:  1.000 [ 1.000,  1.000], mean action: 0.485 [0.000, 1.000],  loss: 0.770136, mae: 4.691893, accuracy: 0.536932, mean_q: 9.131836, mean_eps: 0.900730\n",
            "  1143/50000: episode: 49, duration: 0.175s, episode steps:  23, steps per second: 131, episode reward: 23.000, mean reward:  1.000 [ 1.000,  1.000], mean action: 0.522 [0.000, 1.000],  loss: 0.762324, mae: 4.786753, accuracy: 0.539402, mean_q: 9.399067, mean_eps: 0.898210\n",
            "  1160/50000: episode: 50, duration: 0.139s, episode steps:  17, steps per second: 122, episode reward: 17.000, mean reward:  1.000 [ 1.000,  1.000], mean action: 0.471 [0.000, 1.000],  loss: 1.069291, mae: 4.894070, accuracy: 0.520221, mean_q: 9.544175, mean_eps: 0.896410\n",
            "  1170/50000: episode: 51, duration: 0.082s, episode steps:  10, steps per second: 121, episode reward: 10.000, mean reward:  1.000 [ 1.000,  1.000], mean action: 0.200 [0.000, 1.000],  loss: 1.027840, mae: 4.905981, accuracy: 0.484375, mean_q: 9.506236, mean_eps: 0.895195\n",
            "  1220/50000: episode: 52, duration: 0.384s, episode steps:  50, steps per second: 130, episode reward: 50.000, mean reward:  1.000 [ 1.000,  1.000], mean action: 0.460 [0.000, 1.000],  loss: 0.829411, mae: 5.009912, accuracy: 0.528125, mean_q: 9.819880, mean_eps: 0.892495\n",
            "  1245/50000: episode: 53, duration: 0.194s, episode steps:  25, steps per second: 129, episode reward: 25.000, mean reward:  1.000 [ 1.000,  1.000], mean action: 0.360 [0.000, 1.000],  loss: 0.826854, mae: 5.160464, accuracy: 0.512500, mean_q: 10.045595, mean_eps: 0.889120\n",
            "  1294/50000: episode: 54, duration: 0.364s, episode steps:  49, steps per second: 135, episode reward: 49.000, mean reward:  1.000 [ 1.000,  1.000], mean action: 0.408 [0.000, 1.000],  loss: 0.912758, mae: 5.306896, accuracy: 0.519133, mean_q: 10.404198, mean_eps: 0.885790\n",
            "  1308/50000: episode: 55, duration: 0.111s, episode steps:  14, steps per second: 126, episode reward: 14.000, mean reward:  1.000 [ 1.000,  1.000], mean action: 0.429 [0.000, 1.000],  loss: 0.758810, mae: 5.353367, accuracy: 0.542411, mean_q: 10.527776, mean_eps: 0.882955\n",
            "  1321/50000: episode: 56, duration: 0.121s, episode steps:  13, steps per second: 107, episode reward: 13.000, mean reward:  1.000 [ 1.000,  1.000], mean action: 0.231 [0.000, 1.000],  loss: 1.064560, mae: 5.383943, accuracy: 0.562500, mean_q: 10.603682, mean_eps: 0.881740\n",
            "  1345/50000: episode: 57, duration: 0.187s, episode steps:  24, steps per second: 129, episode reward: 24.000, mean reward:  1.000 [ 1.000,  1.000], mean action: 0.542 [0.000, 1.000],  loss: 0.990725, mae: 5.492228, accuracy: 0.528646, mean_q: 10.808662, mean_eps: 0.880075\n",
            "  1369/50000: episode: 58, duration: 0.198s, episode steps:  24, steps per second: 121, episode reward: 24.000, mean reward:  1.000 [ 1.000,  1.000], mean action: 0.583 [0.000, 1.000],  loss: 0.772747, mae: 5.611003, accuracy: 0.516927, mean_q: 11.195299, mean_eps: 0.877915\n",
            "  1393/50000: episode: 59, duration: 0.190s, episode steps:  24, steps per second: 127, episode reward: 24.000, mean reward:  1.000 [ 1.000,  1.000], mean action: 0.500 [0.000, 1.000],  loss: 0.958628, mae: 5.723853, accuracy: 0.511719, mean_q: 11.389312, mean_eps: 0.875755\n",
            "  1423/50000: episode: 60, duration: 0.237s, episode steps:  30, steps per second: 127, episode reward: 30.000, mean reward:  1.000 [ 1.000,  1.000], mean action: 0.400 [0.000, 1.000],  loss: 0.916581, mae: 5.813178, accuracy: 0.545833, mean_q: 11.602258, mean_eps: 0.873325\n",
            "  1435/50000: episode: 61, duration: 0.093s, episode steps:  12, steps per second: 129, episode reward: 12.000, mean reward:  1.000 [ 1.000,  1.000], mean action: 0.417 [0.000, 1.000],  loss: 0.868815, mae: 5.866729, accuracy: 0.518229, mean_q: 11.717501, mean_eps: 0.871435\n",
            "  1454/50000: episode: 62, duration: 0.156s, episode steps:  19, steps per second: 122, episode reward: 19.000, mean reward:  1.000 [ 1.000,  1.000], mean action: 0.421 [0.000, 1.000],  loss: 1.250567, mae: 6.013482, accuracy: 0.521382, mean_q: 11.972906, mean_eps: 0.870040\n",
            "  1463/50000: episode: 63, duration: 0.071s, episode steps:   9, steps per second: 127, episode reward:  9.000, mean reward:  1.000 [ 1.000,  1.000], mean action: 0.889 [0.000, 1.000],  loss: 0.711861, mae: 5.958179, accuracy: 0.534722, mean_q: 11.942935, mean_eps: 0.868780\n",
            "  1494/50000: episode: 64, duration: 0.237s, episode steps:  31, steps per second: 131, episode reward: 31.000, mean reward:  1.000 [ 1.000,  1.000], mean action: 0.516 [0.000, 1.000],  loss: 0.876406, mae: 6.177409, accuracy: 0.539315, mean_q: 12.419581, mean_eps: 0.866980\n",
            "  1535/50000: episode: 65, duration: 0.316s, episode steps:  41, steps per second: 130, episode reward: 41.000, mean reward:  1.000 [ 1.000,  1.000], mean action: 0.537 [0.000, 1.000],  loss: 1.383290, mae: 6.286074, accuracy: 0.493902, mean_q: 12.369538, mean_eps: 0.863740\n",
            "  1563/50000: episode: 66, duration: 0.218s, episode steps:  28, steps per second: 129, episode reward: 28.000, mean reward:  1.000 [ 1.000,  1.000], mean action: 0.429 [0.000, 1.000],  loss: 1.045200, mae: 6.516256, accuracy: 0.504464, mean_q: 13.043295, mean_eps: 0.860635\n",
            "  1590/50000: episode: 67, duration: 0.209s, episode steps:  27, steps per second: 129, episode reward: 27.000, mean reward:  1.000 [ 1.000,  1.000], mean action: 0.444 [0.000, 1.000],  loss: 0.860571, mae: 6.566687, accuracy: 0.515046, mean_q: 13.211124, mean_eps: 0.858160\n",
            "  1609/50000: episode: 68, duration: 0.153s, episode steps:  19, steps per second: 124, episode reward: 19.000, mean reward:  1.000 [ 1.000,  1.000], mean action: 0.684 [0.000, 1.000],  loss: 0.927650, mae: 6.587421, accuracy: 0.542763, mean_q: 13.204599, mean_eps: 0.856090\n",
            "  1642/50000: episode: 69, duration: 0.248s, episode steps:  33, steps per second: 133, episode reward: 33.000, mean reward:  1.000 [ 1.000,  1.000], mean action: 0.485 [0.000, 1.000],  loss: 1.188081, mae: 6.742731, accuracy: 0.514205, mean_q: 13.426765, mean_eps: 0.853750\n",
            "  1677/50000: episode: 70, duration: 0.275s, episode steps:  35, steps per second: 127, episode reward: 35.000, mean reward:  1.000 [ 1.000,  1.000], mean action: 0.629 [0.000, 1.000],  loss: 1.326782, mae: 6.848937, accuracy: 0.537500, mean_q: 13.610699, mean_eps: 0.850690\n",
            "  1692/50000: episode: 71, duration: 0.123s, episode steps:  15, steps per second: 122, episode reward: 15.000, mean reward:  1.000 [ 1.000,  1.000], mean action: 0.733 [0.000, 1.000],  loss: 1.226415, mae: 7.011191, accuracy: 0.525000, mean_q: 14.012197, mean_eps: 0.848440\n",
            "  1709/50000: episode: 72, duration: 0.139s, episode steps:  17, steps per second: 122, episode reward: 17.000, mean reward:  1.000 [ 1.000,  1.000], mean action: 0.588 [0.000, 1.000],  loss: 1.347761, mae: 6.958972, accuracy: 0.566176, mean_q: 14.024841, mean_eps: 0.847000\n",
            "  1728/50000: episode: 73, duration: 0.143s, episode steps:  19, steps per second: 133, episode reward: 19.000, mean reward:  1.000 [ 1.000,  1.000], mean action: 0.421 [0.000, 1.000],  loss: 1.012445, mae: 7.144905, accuracy: 0.514803, mean_q: 14.368101, mean_eps: 0.845380\n",
            "  1768/50000: episode: 74, duration: 0.319s, episode steps:  40, steps per second: 125, episode reward: 40.000, mean reward:  1.000 [ 1.000,  1.000], mean action: 0.550 [0.000, 1.000],  loss: 1.128033, mae: 7.239274, accuracy: 0.511719, mean_q: 14.630164, mean_eps: 0.842725\n",
            "  1803/50000: episode: 75, duration: 0.297s, episode steps:  35, steps per second: 118, episode reward: 35.000, mean reward:  1.000 [ 1.000,  1.000], mean action: 0.514 [0.000, 1.000],  loss: 0.963363, mae: 7.434603, accuracy: 0.540179, mean_q: 15.064535, mean_eps: 0.839350\n",
            "  1820/50000: episode: 76, duration: 0.133s, episode steps:  17, steps per second: 127, episode reward: 17.000, mean reward:  1.000 [ 1.000,  1.000], mean action: 0.588 [0.000, 1.000],  loss: 0.859110, mae: 7.547142, accuracy: 0.514706, mean_q: 15.212147, mean_eps: 0.837010\n",
            "  1854/50000: episode: 77, duration: 0.263s, episode steps:  34, steps per second: 129, episode reward: 34.000, mean reward:  1.000 [ 1.000,  1.000], mean action: 0.471 [0.000, 1.000],  loss: 1.218172, mae: 7.680141, accuracy: 0.527574, mean_q: 15.527623, mean_eps: 0.834715\n",
            "  1916/50000: episode: 78, duration: 0.487s, episode steps:  62, steps per second: 127, episode reward: 62.000, mean reward:  1.000 [ 1.000,  1.000], mean action: 0.516 [0.000, 1.000],  loss: 1.255240, mae: 7.908474, accuracy: 0.519153, mean_q: 15.868391, mean_eps: 0.830395\n",
            "  1933/50000: episode: 79, duration: 0.134s, episode steps:  17, steps per second: 127, episode reward: 17.000, mean reward:  1.000 [ 1.000,  1.000], mean action: 0.471 [0.000, 1.000],  loss: 1.372148, mae: 7.950502, accuracy: 0.540441, mean_q: 15.978040, mean_eps: 0.826840\n",
            "  1948/50000: episode: 80, duration: 0.124s, episode steps:  15, steps per second: 121, episode reward: 15.000, mean reward:  1.000 [ 1.000,  1.000], mean action: 0.400 [0.000, 1.000],  loss: 1.657587, mae: 8.116916, accuracy: 0.525000, mean_q: 16.301353, mean_eps: 0.825400\n",
            "  1959/50000: episode: 81, duration: 0.092s, episode steps:  11, steps per second: 120, episode reward: 11.000, mean reward:  1.000 [ 1.000,  1.000], mean action: 0.273 [0.000, 1.000],  loss: 2.048398, mae: 8.141008, accuracy: 0.536932, mean_q: 16.445342, mean_eps: 0.824230\n",
            "  1990/50000: episode: 82, duration: 0.242s, episode steps:  31, steps per second: 128, episode reward: 31.000, mean reward:  1.000 [ 1.000,  1.000], mean action: 0.484 [0.000, 1.000],  loss: 1.310330, mae: 8.138869, accuracy: 0.555444, mean_q: 16.383343, mean_eps: 0.822340\n",
            "  2087/50000: episode: 83, duration: 0.734s, episode steps:  97, steps per second: 132, episode reward: 97.000, mean reward:  1.000 [ 1.000,  1.000], mean action: 0.505 [0.000, 1.000],  loss: 1.256525, mae: 8.571257, accuracy: 0.514820, mean_q: 17.284001, mean_eps: 0.816580\n",
            "  2113/50000: episode: 84, duration: 0.209s, episode steps:  26, steps per second: 125, episode reward: 26.000, mean reward:  1.000 [ 1.000,  1.000], mean action: 0.462 [0.000, 1.000],  loss: 1.106739, mae: 8.873670, accuracy: 0.544471, mean_q: 17.986264, mean_eps: 0.811045\n",
            "  2138/50000: episode: 85, duration: 0.210s, episode steps:  25, steps per second: 119, episode reward: 25.000, mean reward:  1.000 [ 1.000,  1.000], mean action: 0.640 [0.000, 1.000],  loss: 1.569676, mae: 8.939495, accuracy: 0.528750, mean_q: 17.904276, mean_eps: 0.808750\n",
            "  2221/50000: episode: 86, duration: 0.637s, episode steps:  83, steps per second: 130, episode reward: 83.000, mean reward:  1.000 [ 1.000,  1.000], mean action: 0.482 [0.000, 1.000],  loss: 1.333111, mae: 9.144995, accuracy: 0.542545, mean_q: 18.495452, mean_eps: 0.803890\n",
            "  2254/50000: episode: 87, duration: 0.266s, episode steps:  33, steps per second: 124, episode reward: 33.000, mean reward:  1.000 [ 1.000,  1.000], mean action: 0.424 [0.000, 1.000],  loss: 1.354793, mae: 9.375266, accuracy: 0.535985, mean_q: 19.037301, mean_eps: 0.798670\n",
            "  2264/50000: episode: 88, duration: 0.086s, episode steps:  10, steps per second: 116, episode reward: 10.000, mean reward:  1.000 [ 1.000,  1.000], mean action: 0.300 [0.000, 1.000],  loss: 1.317020, mae: 9.315709, accuracy: 0.515625, mean_q: 18.882606, mean_eps: 0.796735\n",
            "  2292/50000: episode: 89, duration: 0.218s, episode steps:  28, steps per second: 128, episode reward: 28.000, mean reward:  1.000 [ 1.000,  1.000], mean action: 0.536 [0.000, 1.000],  loss: 1.557588, mae: 9.465776, accuracy: 0.568080, mean_q: 19.225879, mean_eps: 0.795025\n",
            "  2336/50000: episode: 90, duration: 0.341s, episode steps:  44, steps per second: 129, episode reward: 44.000, mean reward:  1.000 [ 1.000,  1.000], mean action: 0.568 [0.000, 1.000],  loss: 1.536397, mae: 9.604977, accuracy: 0.539062, mean_q: 19.568282, mean_eps: 0.791785\n",
            "  2364/50000: episode: 91, duration: 0.214s, episode steps:  28, steps per second: 131, episode reward: 28.000, mean reward:  1.000 [ 1.000,  1.000], mean action: 0.571 [0.000, 1.000],  loss: 1.334972, mae: 9.873526, accuracy: 0.547991, mean_q: 20.210570, mean_eps: 0.788545\n",
            "  2414/50000: episode: 92, duration: 0.395s, episode steps:  50, steps per second: 127, episode reward: 50.000, mean reward:  1.000 [ 1.000,  1.000], mean action: 0.520 [0.000, 1.000],  loss: 2.003718, mae: 10.032225, accuracy: 0.543750, mean_q: 20.329687, mean_eps: 0.785035\n",
            "  2439/50000: episode: 93, duration: 0.195s, episode steps:  25, steps per second: 128, episode reward: 25.000, mean reward:  1.000 [ 1.000,  1.000], mean action: 0.440 [0.000, 1.000],  loss: 2.017170, mae: 10.189369, accuracy: 0.537500, mean_q: 20.648288, mean_eps: 0.781660\n",
            "  2536/50000: episode: 94, duration: 0.742s, episode steps:  97, steps per second: 131, episode reward: 97.000, mean reward:  1.000 [ 1.000,  1.000], mean action: 0.526 [0.000, 1.000],  loss: 1.600909, mae: 10.461334, accuracy: 0.548003, mean_q: 21.283056, mean_eps: 0.776170\n",
            "  2614/50000: episode: 95, duration: 0.585s, episode steps:  78, steps per second: 133, episode reward: 78.000, mean reward:  1.000 [ 1.000,  1.000], mean action: 0.474 [0.000, 1.000],  loss: 1.433150, mae: 10.805922, accuracy: 0.573317, mean_q: 22.113887, mean_eps: 0.768295\n",
            "  2671/50000: episode: 96, duration: 0.440s, episode steps:  57, steps per second: 130, episode reward: 57.000, mean reward:  1.000 [ 1.000,  1.000], mean action: 0.491 [0.000, 1.000],  loss: 1.739464, mae: 10.969721, accuracy: 0.570175, mean_q: 22.445998, mean_eps: 0.762220\n",
            "  2713/50000: episode: 97, duration: 0.340s, episode steps:  42, steps per second: 124, episode reward: 42.000, mean reward:  1.000 [ 1.000,  1.000], mean action: 0.452 [0.000, 1.000],  loss: 1.859109, mae: 11.273654, accuracy: 0.556548, mean_q: 22.958512, mean_eps: 0.757765\n",
            "  2786/50000: episode: 98, duration: 0.564s, episode steps:  73, steps per second: 129, episode reward: 73.000, mean reward:  1.000 [ 1.000,  1.000], mean action: 0.479 [0.000, 1.000],  loss: 1.986180, mae: 11.615407, accuracy: 0.547517, mean_q: 23.607612, mean_eps: 0.752590\n",
            "  2840/50000: episode: 99, duration: 0.425s, episode steps:  54, steps per second: 127, episode reward: 54.000, mean reward:  1.000 [ 1.000,  1.000], mean action: 0.463 [0.000, 1.000],  loss: 1.427610, mae: 11.771896, accuracy: 0.557292, mean_q: 24.044739, mean_eps: 0.746875\n",
            "  2946/50000: episode: 100, duration: 0.827s, episode steps: 106, steps per second: 128, episode reward: 106.000, mean reward:  1.000 [ 1.000,  1.000], mean action: 0.491 [0.000, 1.000],  loss: 1.610942, mae: 12.159645, accuracy: 0.556604, mean_q: 24.841832, mean_eps: 0.739675\n",
            "  3053/50000: episode: 101, duration: 0.827s, episode steps: 107, steps per second: 129, episode reward: 107.000, mean reward:  1.000 [ 1.000,  1.000], mean action: 0.495 [0.000, 1.000],  loss: 2.021090, mae: 12.571895, accuracy: 0.557827, mean_q: 25.601405, mean_eps: 0.730090\n",
            "  3085/50000: episode: 102, duration: 0.260s, episode steps:  32, steps per second: 123, episode reward: 32.000, mean reward:  1.000 [ 1.000,  1.000], mean action: 0.500 [0.000, 1.000],  loss: 1.935718, mae: 12.913532, accuracy: 0.560547, mean_q: 26.300594, mean_eps: 0.723835\n",
            "  3129/50000: episode: 103, duration: 0.344s, episode steps:  44, steps per second: 128, episode reward: 44.000, mean reward:  1.000 [ 1.000,  1.000], mean action: 0.455 [0.000, 1.000],  loss: 2.113953, mae: 12.923796, accuracy: 0.587358, mean_q: 26.605148, mean_eps: 0.720415\n",
            "  3151/50000: episode: 104, duration: 0.179s, episode steps:  22, steps per second: 123, episode reward: 22.000, mean reward:  1.000 [ 1.000,  1.000], mean action: 0.364 [0.000, 1.000],  loss: 2.211752, mae: 13.235626, accuracy: 0.556818, mean_q: 26.988645, mean_eps: 0.717445\n",
            "  3236/50000: episode: 105, duration: 0.655s, episode steps:  85, steps per second: 130, episode reward: 85.000, mean reward:  1.000 [ 1.000,  1.000], mean action: 0.506 [0.000, 1.000],  loss: 1.931946, mae: 13.550848, accuracy: 0.573162, mean_q: 27.686777, mean_eps: 0.712630\n",
            "  3270/50000: episode: 106, duration: 0.262s, episode steps:  34, steps per second: 130, episode reward: 34.000, mean reward:  1.000 [ 1.000,  1.000], mean action: 0.529 [0.000, 1.000],  loss: 2.223171, mae: 13.750464, accuracy: 0.572610, mean_q: 28.153948, mean_eps: 0.707275\n",
            "  3351/50000: episode: 107, duration: 0.624s, episode steps:  81, steps per second: 130, episode reward: 81.000, mean reward:  1.000 [ 1.000,  1.000], mean action: 0.506 [0.000, 1.000],  loss: 2.375782, mae: 13.809993, accuracy: 0.574460, mean_q: 28.273839, mean_eps: 0.702100\n",
            "  3408/50000: episode: 108, duration: 0.433s, episode steps:  57, steps per second: 132, episode reward: 57.000, mean reward:  1.000 [ 1.000,  1.000], mean action: 0.526 [0.000, 1.000],  loss: 2.290702, mae: 14.269212, accuracy: 0.554825, mean_q: 29.128476, mean_eps: 0.695890\n",
            "  3434/50000: episode: 109, duration: 0.213s, episode steps:  26, steps per second: 122, episode reward: 26.000, mean reward:  1.000 [ 1.000,  1.000], mean action: 0.500 [0.000, 1.000],  loss: 2.948028, mae: 14.675623, accuracy: 0.564904, mean_q: 29.792492, mean_eps: 0.692155\n",
            "  3449/50000: episode: 110, duration: 0.125s, episode steps:  15, steps per second: 120, episode reward: 15.000, mean reward:  1.000 [ 1.000,  1.000], mean action: 0.467 [0.000, 1.000],  loss: 1.643749, mae: 14.372058, accuracy: 0.566667, mean_q: 29.453605, mean_eps: 0.690310\n",
            "  3511/50000: episode: 111, duration: 0.484s, episode steps:  62, steps per second: 128, episode reward: 62.000, mean reward:  1.000 [ 1.000,  1.000], mean action: 0.452 [0.000, 1.000],  loss: 2.849259, mae: 14.585009, accuracy: 0.579133, mean_q: 29.751643, mean_eps: 0.686845\n",
            "  3529/50000: episode: 112, duration: 0.141s, episode steps:  18, steps per second: 127, episode reward: 18.000, mean reward:  1.000 [ 1.000,  1.000], mean action: 0.333 [0.000, 1.000],  loss: 1.826054, mae: 14.768825, accuracy: 0.571181, mean_q: 30.271278, mean_eps: 0.683245\n",
            "  3556/50000: episode: 113, duration: 0.225s, episode steps:  27, steps per second: 120, episode reward: 27.000, mean reward:  1.000 [ 1.000,  1.000], mean action: 0.444 [0.000, 1.000],  loss: 1.900849, mae: 14.765925, accuracy: 0.564815, mean_q: 30.317968, mean_eps: 0.681220\n",
            "  3664/50000: episode: 114, duration: 0.824s, episode steps: 108, steps per second: 131, episode reward: 108.000, mean reward:  1.000 [ 1.000,  1.000], mean action: 0.509 [0.000, 1.000],  loss: 2.435646, mae: 15.196205, accuracy: 0.570602, mean_q: 31.026257, mean_eps: 0.675145\n",
            "  3707/50000: episode: 115, duration: 0.331s, episode steps:  43, steps per second: 130, episode reward: 43.000, mean reward:  1.000 [ 1.000,  1.000], mean action: 0.488 [0.000, 1.000],  loss: 1.812141, mae: 15.485744, accuracy: 0.586483, mean_q: 31.826329, mean_eps: 0.668350\n",
            "  3798/50000: episode: 116, duration: 0.682s, episode steps:  91, steps per second: 133, episode reward: 91.000, mean reward:  1.000 [ 1.000,  1.000], mean action: 0.505 [0.000, 1.000],  loss: 2.260262, mae: 15.754004, accuracy: 0.576923, mean_q: 32.240148, mean_eps: 0.662320\n",
            "  3872/50000: episode: 117, duration: 0.571s, episode steps:  74, steps per second: 130, episode reward: 74.000, mean reward:  1.000 [ 1.000,  1.000], mean action: 0.500 [0.000, 1.000],  loss: 2.472385, mae: 15.975083, accuracy: 0.586571, mean_q: 32.864441, mean_eps: 0.654895\n",
            "  4027/50000: episode: 118, duration: 1.151s, episode steps: 155, steps per second: 135, episode reward: 155.000, mean reward:  1.000 [ 1.000,  1.000], mean action: 0.497 [0.000, 1.000],  loss: 2.339826, mae: 16.567711, accuracy: 0.578427, mean_q: 34.061580, mean_eps: 0.644590\n",
            "  4122/50000: episode: 119, duration: 0.735s, episode steps:  95, steps per second: 129, episode reward: 95.000, mean reward:  1.000 [ 1.000,  1.000], mean action: 0.474 [0.000, 1.000],  loss: 2.575411, mae: 17.091585, accuracy: 0.593092, mean_q: 35.155745, mean_eps: 0.633340\n",
            "  4192/50000: episode: 120, duration: 0.533s, episode steps:  70, steps per second: 131, episode reward: 70.000, mean reward:  1.000 [ 1.000,  1.000], mean action: 0.486 [0.000, 1.000],  loss: 3.190593, mae: 17.578402, accuracy: 0.583482, mean_q: 36.170792, mean_eps: 0.625915\n",
            "  4347/50000: episode: 121, duration: 1.172s, episode steps: 155, steps per second: 132, episode reward: 155.000, mean reward:  1.000 [ 1.000,  1.000], mean action: 0.516 [0.000, 1.000],  loss: 2.845459, mae: 17.985516, accuracy: 0.586694, mean_q: 36.896672, mean_eps: 0.615790\n",
            "  4365/50000: episode: 122, duration: 0.151s, episode steps:  18, steps per second: 119, episode reward: 18.000, mean reward:  1.000 [ 1.000,  1.000], mean action: 0.389 [0.000, 1.000],  loss: 1.808884, mae: 18.371805, accuracy: 0.562500, mean_q: 37.686032, mean_eps: 0.608005\n",
            "  4386/50000: episode: 123, duration: 0.167s, episode steps:  21, steps per second: 126, episode reward: 21.000, mean reward:  1.000 [ 1.000,  1.000], mean action: 0.381 [0.000, 1.000],  loss: 1.780809, mae: 18.388290, accuracy: 0.592262, mean_q: 37.815910, mean_eps: 0.606250\n",
            "  4464/50000: episode: 124, duration: 0.587s, episode steps:  78, steps per second: 133, episode reward: 78.000, mean reward:  1.000 [ 1.000,  1.000], mean action: 0.462 [0.000, 1.000],  loss: 2.425664, mae: 18.454087, accuracy: 0.582131, mean_q: 38.012549, mean_eps: 0.601795\n",
            "  4480/50000: episode: 125, duration: 0.130s, episode steps:  16, steps per second: 123, episode reward: 16.000, mean reward:  1.000 [ 1.000,  1.000], mean action: 0.438 [0.000, 1.000],  loss: 4.181521, mae: 18.920869, accuracy: 0.585938, mean_q: 38.638644, mean_eps: 0.597565\n",
            "  4595/50000: episode: 126, duration: 0.891s, episode steps: 115, steps per second: 129, episode reward: 115.000, mean reward:  1.000 [ 1.000,  1.000], mean action: 0.504 [0.000, 1.000],  loss: 2.960124, mae: 18.952783, accuracy: 0.597283, mean_q: 39.010944, mean_eps: 0.591670\n",
            "  4707/50000: episode: 127, duration: 0.860s, episode steps: 112, steps per second: 130, episode reward: 112.000, mean reward:  1.000 [ 1.000,  1.000], mean action: 0.509 [0.000, 1.000],  loss: 3.136871, mae: 19.479678, accuracy: 0.585100, mean_q: 39.958516, mean_eps: 0.581455\n",
            "  4805/50000: episode: 128, duration: 0.762s, episode steps:  98, steps per second: 129, episode reward: 98.000, mean reward:  1.000 [ 1.000,  1.000], mean action: 0.510 [0.000, 1.000],  loss: 2.813591, mae: 19.991343, accuracy: 0.597258, mean_q: 41.107430, mean_eps: 0.572005\n",
            "  4889/50000: episode: 129, duration: 0.657s, episode steps:  84, steps per second: 128, episode reward: 84.000, mean reward:  1.000 [ 1.000,  1.000], mean action: 0.464 [0.000, 1.000],  loss: 2.742638, mae: 20.346814, accuracy: 0.603795, mean_q: 41.776272, mean_eps: 0.563815\n",
            "  4919/50000: episode: 130, duration: 0.263s, episode steps:  30, steps per second: 114, episode reward: 30.000, mean reward:  1.000 [ 1.000,  1.000], mean action: 0.500 [0.000, 1.000],  loss: 1.630272, mae: 20.875275, accuracy: 0.605208, mean_q: 43.087416, mean_eps: 0.558685\n",
            "  4983/50000: episode: 131, duration: 0.505s, episode steps:  64, steps per second: 127, episode reward: 64.000, mean reward:  1.000 [ 1.000,  1.000], mean action: 0.547 [0.000, 1.000],  loss: 2.524881, mae: 20.911312, accuracy: 0.618652, mean_q: 43.102675, mean_eps: 0.554455\n",
            "  5053/50000: episode: 132, duration: 0.587s, episode steps:  70, steps per second: 119, episode reward: 70.000, mean reward:  1.000 [ 1.000,  1.000], mean action: 0.514 [0.000, 1.000],  loss: 3.459397, mae: 21.171849, accuracy: 0.594196, mean_q: 43.473741, mean_eps: 0.548425\n",
            "  5067/50000: episode: 133, duration: 0.116s, episode steps:  14, steps per second: 121, episode reward: 14.000, mean reward:  1.000 [ 1.000,  1.000], mean action: 0.429 [0.000, 1.000],  loss: 4.829993, mae: 21.294947, accuracy: 0.645089, mean_q: 43.693978, mean_eps: 0.544645\n",
            "  5184/50000: episode: 134, duration: 1.181s, episode steps: 117, steps per second:  99, episode reward: 117.000, mean reward:  1.000 [ 1.000,  1.000], mean action: 0.513 [0.000, 1.000],  loss: 2.074997, mae: 21.717923, accuracy: 0.594284, mean_q: 44.698059, mean_eps: 0.538750\n",
            "  5339/50000: episode: 135, duration: 1.788s, episode steps: 155, steps per second:  87, episode reward: 155.000, mean reward:  1.000 [ 1.000,  1.000], mean action: 0.490 [0.000, 1.000],  loss: 3.548988, mae: 22.247203, accuracy: 0.603629, mean_q: 45.629516, mean_eps: 0.526510\n",
            "  5375/50000: episode: 136, duration: 0.303s, episode steps:  36, steps per second: 119, episode reward: 36.000, mean reward:  1.000 [ 1.000,  1.000], mean action: 0.500 [0.000, 1.000],  loss: 5.610574, mae: 22.293264, accuracy: 0.627604, mean_q: 45.516687, mean_eps: 0.517915\n",
            "  5410/50000: episode: 137, duration: 0.282s, episode steps:  35, steps per second: 124, episode reward: 35.000, mean reward:  1.000 [ 1.000,  1.000], mean action: 0.486 [0.000, 1.000],  loss: 3.574017, mae: 22.474058, accuracy: 0.594643, mean_q: 46.110533, mean_eps: 0.514720\n",
            "  5508/50000: episode: 138, duration: 0.775s, episode steps:  98, steps per second: 126, episode reward: 98.000, mean reward:  1.000 [ 1.000,  1.000], mean action: 0.500 [0.000, 1.000],  loss: 2.987082, mae: 22.917511, accuracy: 0.602041, mean_q: 47.126537, mean_eps: 0.508735\n",
            "  5708/50000: episode: 139, duration: 1.565s, episode steps: 200, steps per second: 128, episode reward: 200.000, mean reward:  1.000 [ 1.000,  1.000], mean action: 0.520 [0.000, 1.000],  loss: 3.982230, mae: 23.459424, accuracy: 0.609688, mean_q: 48.121180, mean_eps: 0.495325\n",
            "  5908/50000: episode: 140, duration: 1.532s, episode steps: 200, steps per second: 131, episode reward: 200.000, mean reward:  1.000 [ 1.000,  1.000], mean action: 0.510 [0.000, 1.000],  loss: 4.303991, mae: 24.117218, accuracy: 0.605781, mean_q: 49.307692, mean_eps: 0.477325\n",
            "  6108/50000: episode: 141, duration: 1.572s, episode steps: 200, steps per second: 127, episode reward: 200.000, mean reward:  1.000 [ 1.000,  1.000], mean action: 0.520 [0.000, 1.000],  loss: 3.413164, mae: 24.852046, accuracy: 0.611250, mean_q: 51.042694, mean_eps: 0.459325\n",
            "  6308/50000: episode: 142, duration: 1.538s, episode steps: 200, steps per second: 130, episode reward: 200.000, mean reward:  1.000 [ 1.000,  1.000], mean action: 0.510 [0.000, 1.000],  loss: 4.551377, mae: 25.862982, accuracy: 0.605156, mean_q: 53.002141, mean_eps: 0.441325\n",
            "  6508/50000: episode: 143, duration: 1.550s, episode steps: 200, steps per second: 129, episode reward: 200.000, mean reward:  1.000 [ 1.000,  1.000], mean action: 0.520 [0.000, 1.000],  loss: 5.078398, mae: 26.293163, accuracy: 0.627969, mean_q: 53.730756, mean_eps: 0.423325\n",
            "  6708/50000: episode: 144, duration: 1.553s, episode steps: 200, steps per second: 129, episode reward: 200.000, mean reward:  1.000 [ 1.000,  1.000], mean action: 0.515 [0.000, 1.000],  loss: 4.510149, mae: 26.885295, accuracy: 0.620781, mean_q: 54.911729, mean_eps: 0.405325\n",
            "  6754/50000: episode: 145, duration: 0.371s, episode steps:  46, steps per second: 124, episode reward: 46.000, mean reward:  1.000 [ 1.000,  1.000], mean action: 0.478 [0.000, 1.000],  loss: 5.859634, mae: 27.483551, accuracy: 0.629076, mean_q: 56.012239, mean_eps: 0.394255\n",
            "  6954/50000: episode: 146, duration: 1.564s, episode steps: 200, steps per second: 128, episode reward: 200.000, mean reward:  1.000 [ 1.000,  1.000], mean action: 0.505 [0.000, 1.000],  loss: 3.448366, mae: 27.593368, accuracy: 0.623125, mean_q: 56.530832, mean_eps: 0.383185\n",
            "  7154/50000: episode: 147, duration: 1.553s, episode steps: 200, steps per second: 129, episode reward: 200.000, mean reward:  1.000 [ 1.000,  1.000], mean action: 0.520 [0.000, 1.000],  loss: 5.177191, mae: 28.546232, accuracy: 0.627812, mean_q: 58.384953, mean_eps: 0.365185\n",
            "  7354/50000: episode: 148, duration: 1.532s, episode steps: 200, steps per second: 131, episode reward: 200.000, mean reward:  1.000 [ 1.000,  1.000], mean action: 0.515 [0.000, 1.000],  loss: 3.846197, mae: 29.050962, accuracy: 0.628281, mean_q: 59.450608, mean_eps: 0.347185\n",
            "  7554/50000: episode: 149, duration: 1.555s, episode steps: 200, steps per second: 129, episode reward: 200.000, mean reward:  1.000 [ 1.000,  1.000], mean action: 0.515 [0.000, 1.000],  loss: 5.390277, mae: 29.723984, accuracy: 0.620313, mean_q: 60.675472, mean_eps: 0.329185\n",
            "  7754/50000: episode: 150, duration: 1.558s, episode steps: 200, steps per second: 128, episode reward: 200.000, mean reward:  1.000 [ 1.000,  1.000], mean action: 0.505 [0.000, 1.000],  loss: 6.356195, mae: 30.308633, accuracy: 0.622344, mean_q: 61.832769, mean_eps: 0.311185\n",
            "  7954/50000: episode: 151, duration: 1.529s, episode steps: 200, steps per second: 131, episode reward: 200.000, mean reward:  1.000 [ 1.000,  1.000], mean action: 0.510 [0.000, 1.000],  loss: 5.402053, mae: 31.119870, accuracy: 0.623906, mean_q: 63.326849, mean_eps: 0.293185\n",
            "  8154/50000: episode: 152, duration: 1.551s, episode steps: 200, steps per second: 129, episode reward: 200.000, mean reward:  1.000 [ 1.000,  1.000], mean action: 0.510 [0.000, 1.000],  loss: 4.442193, mae: 31.742318, accuracy: 0.608125, mean_q: 64.672714, mean_eps: 0.275185\n",
            "  8354/50000: episode: 153, duration: 1.551s, episode steps: 200, steps per second: 129, episode reward: 200.000, mean reward:  1.000 [ 1.000,  1.000], mean action: 0.505 [0.000, 1.000],  loss: 5.970698, mae: 32.177397, accuracy: 0.621719, mean_q: 65.463803, mean_eps: 0.257185\n",
            "  8554/50000: episode: 154, duration: 1.543s, episode steps: 200, steps per second: 130, episode reward: 200.000, mean reward:  1.000 [ 1.000,  1.000], mean action: 0.515 [0.000, 1.000],  loss: 5.714706, mae: 32.610755, accuracy: 0.625625, mean_q: 66.375397, mean_eps: 0.239185\n",
            "  8754/50000: episode: 155, duration: 1.567s, episode steps: 200, steps per second: 128, episode reward: 200.000, mean reward:  1.000 [ 1.000,  1.000], mean action: 0.515 [0.000, 1.000],  loss: 5.120218, mae: 33.004464, accuracy: 0.621875, mean_q: 67.207615, mean_eps: 0.221185\n",
            "  8954/50000: episode: 156, duration: 1.543s, episode steps: 200, steps per second: 130, episode reward: 200.000, mean reward:  1.000 [ 1.000,  1.000], mean action: 0.505 [0.000, 1.000],  loss: 5.733316, mae: 33.696408, accuracy: 0.607031, mean_q: 68.383744, mean_eps: 0.203185\n",
            "  9154/50000: episode: 157, duration: 2.046s, episode steps: 200, steps per second:  98, episode reward: 200.000, mean reward:  1.000 [ 1.000,  1.000], mean action: 0.500 [0.000, 1.000],  loss: 7.370113, mae: 34.144656, accuracy: 0.605156, mean_q: 69.209733, mean_eps: 0.185185\n",
            "  9354/50000: episode: 158, duration: 1.613s, episode steps: 200, steps per second: 124, episode reward: 200.000, mean reward:  1.000 [ 1.000,  1.000], mean action: 0.505 [0.000, 1.000],  loss: 7.627608, mae: 34.612694, accuracy: 0.594375, mean_q: 70.073133, mean_eps: 0.167185\n",
            "  9554/50000: episode: 159, duration: 1.559s, episode steps: 200, steps per second: 128, episode reward: 200.000, mean reward:  1.000 [ 1.000,  1.000], mean action: 0.500 [0.000, 1.000],  loss: 6.650999, mae: 35.005098, accuracy: 0.617969, mean_q: 70.960437, mean_eps: 0.149185\n",
            "  9754/50000: episode: 160, duration: 1.584s, episode steps: 200, steps per second: 126, episode reward: 200.000, mean reward:  1.000 [ 1.000,  1.000], mean action: 0.525 [0.000, 1.000],  loss: 6.450012, mae: 35.327135, accuracy: 0.607500, mean_q: 71.711690, mean_eps: 0.131185\n",
            "  9954/50000: episode: 161, duration: 1.602s, episode steps: 200, steps per second: 125, episode reward: 200.000, mean reward:  1.000 [ 1.000,  1.000], mean action: 0.510 [0.000, 1.000],  loss: 5.474841, mae: 35.876492, accuracy: 0.591719, mean_q: 72.659842, mean_eps: 0.113185\n",
            " 10154/50000: episode: 162, duration: 1.564s, episode steps: 200, steps per second: 128, episode reward: 200.000, mean reward:  1.000 [ 1.000,  1.000], mean action: 0.520 [0.000, 1.000],  loss: 6.810698, mae: 36.251437, accuracy: 0.597656, mean_q: 73.357626, mean_eps: 0.100486\n",
            " 10354/50000: episode: 163, duration: 1.582s, episode steps: 200, steps per second: 126, episode reward: 200.000, mean reward:  1.000 [ 1.000,  1.000], mean action: 0.480 [0.000, 1.000],  loss: 7.764959, mae: 36.703667, accuracy: 0.595625, mean_q: 74.188559, mean_eps: 0.100000\n",
            " 10554/50000: episode: 164, duration: 1.585s, episode steps: 200, steps per second: 126, episode reward: 200.000, mean reward:  1.000 [ 1.000,  1.000], mean action: 0.505 [0.000, 1.000],  loss: 7.181444, mae: 37.125367, accuracy: 0.583594, mean_q: 75.049824, mean_eps: 0.100000\n",
            " 10754/50000: episode: 165, duration: 1.608s, episode steps: 200, steps per second: 124, episode reward: 200.000, mean reward:  1.000 [ 1.000,  1.000], mean action: 0.495 [0.000, 1.000],  loss: 6.813217, mae: 37.238032, accuracy: 0.582344, mean_q: 75.339846, mean_eps: 0.100000\n",
            " 10954/50000: episode: 166, duration: 1.579s, episode steps: 200, steps per second: 127, episode reward: 200.000, mean reward:  1.000 [ 1.000,  1.000], mean action: 0.510 [0.000, 1.000],  loss: 7.444176, mae: 37.790796, accuracy: 0.570469, mean_q: 76.388309, mean_eps: 0.100000\n",
            " 11154/50000: episode: 167, duration: 1.621s, episode steps: 200, steps per second: 123, episode reward: 200.000, mean reward:  1.000 [ 1.000,  1.000], mean action: 0.530 [0.000, 1.000],  loss: 9.949865, mae: 37.956918, accuracy: 0.573438, mean_q: 76.617028, mean_eps: 0.100000\n",
            " 11354/50000: episode: 168, duration: 1.613s, episode steps: 200, steps per second: 124, episode reward: 200.000, mean reward:  1.000 [ 1.000,  1.000], mean action: 0.515 [0.000, 1.000],  loss: 8.514154, mae: 38.197354, accuracy: 0.582656, mean_q: 77.115713, mean_eps: 0.100000\n",
            " 11554/50000: episode: 169, duration: 1.590s, episode steps: 200, steps per second: 126, episode reward: 200.000, mean reward:  1.000 [ 1.000,  1.000], mean action: 0.500 [0.000, 1.000],  loss: 9.820569, mae: 38.504945, accuracy: 0.594375, mean_q: 77.824303, mean_eps: 0.100000\n",
            " 11754/50000: episode: 170, duration: 1.591s, episode steps: 200, steps per second: 126, episode reward: 200.000, mean reward:  1.000 [ 1.000,  1.000], mean action: 0.515 [0.000, 1.000],  loss: 6.133434, mae: 38.670410, accuracy: 0.573594, mean_q: 78.429868, mean_eps: 0.100000\n",
            " 11954/50000: episode: 171, duration: 1.605s, episode steps: 200, steps per second: 125, episode reward: 200.000, mean reward:  1.000 [ 1.000,  1.000], mean action: 0.515 [0.000, 1.000],  loss: 6.762022, mae: 38.975856, accuracy: 0.581875, mean_q: 78.886862, mean_eps: 0.100000\n",
            " 12154/50000: episode: 172, duration: 1.565s, episode steps: 200, steps per second: 128, episode reward: 200.000, mean reward:  1.000 [ 1.000,  1.000], mean action: 0.485 [0.000, 1.000],  loss: 5.952516, mae: 39.199695, accuracy: 0.590156, mean_q: 79.430454, mean_eps: 0.100000\n",
            " 12354/50000: episode: 173, duration: 1.581s, episode steps: 200, steps per second: 127, episode reward: 200.000, mean reward:  1.000 [ 1.000,  1.000], mean action: 0.515 [0.000, 1.000],  loss: 6.062043, mae: 39.463600, accuracy: 0.594688, mean_q: 80.001313, mean_eps: 0.100000\n",
            " 12534/50000: episode: 174, duration: 1.427s, episode steps: 180, steps per second: 126, episode reward: 180.000, mean reward:  1.000 [ 1.000,  1.000], mean action: 0.522 [0.000, 1.000],  loss: 9.294672, mae: 39.711302, accuracy: 0.579688, mean_q: 80.188849, mean_eps: 0.100000\n",
            " 12734/50000: episode: 175, duration: 1.547s, episode steps: 200, steps per second: 129, episode reward: 200.000, mean reward:  1.000 [ 1.000,  1.000], mean action: 0.530 [0.000, 1.000],  loss: 6.571027, mae: 39.805668, accuracy: 0.604219, mean_q: 80.514037, mean_eps: 0.100000\n",
            " 12934/50000: episode: 176, duration: 1.542s, episode steps: 200, steps per second: 130, episode reward: 200.000, mean reward:  1.000 [ 1.000,  1.000], mean action: 0.520 [0.000, 1.000],  loss: 9.513160, mae: 39.881931, accuracy: 0.598750, mean_q: 80.572359, mean_eps: 0.100000\n",
            " 13134/50000: episode: 177, duration: 1.579s, episode steps: 200, steps per second: 127, episode reward: 200.000, mean reward:  1.000 [ 1.000,  1.000], mean action: 0.510 [0.000, 1.000],  loss: 10.805731, mae: 40.477891, accuracy: 0.594844, mean_q: 81.701051, mean_eps: 0.100000\n",
            " 13334/50000: episode: 178, duration: 1.617s, episode steps: 200, steps per second: 124, episode reward: 200.000, mean reward:  1.000 [ 1.000,  1.000], mean action: 0.505 [0.000, 1.000],  loss: 7.547743, mae: 40.409903, accuracy: 0.615469, mean_q: 81.822485, mean_eps: 0.100000\n",
            " 13534/50000: episode: 179, duration: 1.550s, episode steps: 200, steps per second: 129, episode reward: 200.000, mean reward:  1.000 [ 1.000,  1.000], mean action: 0.515 [0.000, 1.000],  loss: 6.320792, mae: 40.768602, accuracy: 0.607344, mean_q: 82.477202, mean_eps: 0.100000\n",
            " 13734/50000: episode: 180, duration: 1.565s, episode steps: 200, steps per second: 128, episode reward: 200.000, mean reward:  1.000 [ 1.000,  1.000], mean action: 0.520 [0.000, 1.000],  loss: 7.417033, mae: 40.611893, accuracy: 0.614219, mean_q: 82.083582, mean_eps: 0.100000\n",
            " 13934/50000: episode: 181, duration: 1.542s, episode steps: 200, steps per second: 130, episode reward: 200.000, mean reward:  1.000 [ 1.000,  1.000], mean action: 0.495 [0.000, 1.000],  loss: 5.714850, mae: 41.163438, accuracy: 0.619844, mean_q: 83.368200, mean_eps: 0.100000\n",
            " 14134/50000: episode: 182, duration: 1.581s, episode steps: 200, steps per second: 127, episode reward: 200.000, mean reward:  1.000 [ 1.000,  1.000], mean action: 0.525 [0.000, 1.000],  loss: 9.840939, mae: 41.029011, accuracy: 0.614062, mean_q: 82.880598, mean_eps: 0.100000\n",
            " 14334/50000: episode: 183, duration: 1.591s, episode steps: 200, steps per second: 126, episode reward: 200.000, mean reward:  1.000 [ 1.000,  1.000], mean action: 0.525 [0.000, 1.000],  loss: 8.697770, mae: 41.419962, accuracy: 0.613125, mean_q: 83.582886, mean_eps: 0.100000\n",
            " 14534/50000: episode: 184, duration: 1.580s, episode steps: 200, steps per second: 127, episode reward: 200.000, mean reward:  1.000 [ 1.000,  1.000], mean action: 0.510 [0.000, 1.000],  loss: 8.261334, mae: 41.394325, accuracy: 0.626094, mean_q: 83.733064, mean_eps: 0.100000\n",
            " 14734/50000: episode: 185, duration: 1.590s, episode steps: 200, steps per second: 126, episode reward: 200.000, mean reward:  1.000 [ 1.000,  1.000], mean action: 0.510 [0.000, 1.000],  loss: 7.139970, mae: 41.801135, accuracy: 0.637969, mean_q: 84.683497, mean_eps: 0.100000\n",
            " 14934/50000: episode: 186, duration: 1.569s, episode steps: 200, steps per second: 127, episode reward: 200.000, mean reward:  1.000 [ 1.000,  1.000], mean action: 0.520 [0.000, 1.000],  loss: 8.428328, mae: 41.878169, accuracy: 0.623750, mean_q: 84.698780, mean_eps: 0.100000\n",
            " 15134/50000: episode: 187, duration: 1.614s, episode steps: 200, steps per second: 124, episode reward: 200.000, mean reward:  1.000 [ 1.000,  1.000], mean action: 0.515 [0.000, 1.000],  loss: 8.567662, mae: 41.756688, accuracy: 0.634687, mean_q: 84.448566, mean_eps: 0.100000\n",
            " 15334/50000: episode: 188, duration: 1.549s, episode steps: 200, steps per second: 129, episode reward: 200.000, mean reward:  1.000 [ 1.000,  1.000], mean action: 0.515 [0.000, 1.000],  loss: 7.914218, mae: 42.025947, accuracy: 0.632969, mean_q: 85.048257, mean_eps: 0.100000\n",
            " 15527/50000: episode: 189, duration: 1.516s, episode steps: 193, steps per second: 127, episode reward: 193.000, mean reward:  1.000 [ 1.000,  1.000], mean action: 0.528 [0.000, 1.000],  loss: 7.793227, mae: 42.175375, accuracy: 0.643620, mean_q: 85.366094, mean_eps: 0.100000\n",
            " 15727/50000: episode: 190, duration: 2.301s, episode steps: 200, steps per second:  87, episode reward: 200.000, mean reward:  1.000 [ 1.000,  1.000], mean action: 0.510 [0.000, 1.000],  loss: 9.408991, mae: 42.122019, accuracy: 0.631563, mean_q: 85.141631, mean_eps: 0.100000\n",
            " 15885/50000: episode: 191, duration: 1.312s, episode steps: 158, steps per second: 120, episode reward: 158.000, mean reward:  1.000 [ 1.000,  1.000], mean action: 0.481 [0.000, 1.000],  loss: 9.025846, mae: 42.420278, accuracy: 0.634296, mean_q: 85.732493, mean_eps: 0.100000\n",
            " 16085/50000: episode: 192, duration: 1.588s, episode steps: 200, steps per second: 126, episode reward: 200.000, mean reward:  1.000 [ 1.000,  1.000], mean action: 0.520 [0.000, 1.000],  loss: 9.759302, mae: 42.526851, accuracy: 0.649844, mean_q: 86.013437, mean_eps: 0.100000\n",
            " 16285/50000: episode: 193, duration: 1.575s, episode steps: 200, steps per second: 127, episode reward: 200.000, mean reward:  1.000 [ 1.000,  1.000], mean action: 0.495 [0.000, 1.000],  loss: 8.624990, mae: 42.154007, accuracy: 0.628594, mean_q: 85.273589, mean_eps: 0.100000\n",
            " 16485/50000: episode: 194, duration: 1.600s, episode steps: 200, steps per second: 125, episode reward: 200.000, mean reward:  1.000 [ 1.000,  1.000], mean action: 0.505 [0.000, 1.000],  loss: 10.322979, mae: 42.687981, accuracy: 0.641250, mean_q: 86.102838, mean_eps: 0.100000\n",
            " 16648/50000: episode: 195, duration: 1.278s, episode steps: 163, steps per second: 128, episode reward: 163.000, mean reward:  1.000 [ 1.000,  1.000], mean action: 0.472 [0.000, 1.000],  loss: 10.887251, mae: 42.469178, accuracy: 0.623850, mean_q: 85.610104, mean_eps: 0.100000\n",
            " 16820/50000: episode: 196, duration: 1.357s, episode steps: 172, steps per second: 127, episode reward: 172.000, mean reward:  1.000 [ 1.000,  1.000], mean action: 0.471 [0.000, 1.000],  loss: 6.400764, mae: 42.496285, accuracy: 0.634448, mean_q: 85.881931, mean_eps: 0.100000\n",
            " 16956/50000: episode: 197, duration: 1.103s, episode steps: 136, steps per second: 123, episode reward: 136.000, mean reward:  1.000 [ 1.000,  1.000], mean action: 0.463 [0.000, 1.000],  loss: 6.713124, mae: 42.847700, accuracy: 0.628676, mean_q: 86.659517, mean_eps: 0.100000\n",
            " 17156/50000: episode: 198, duration: 1.563s, episode steps: 200, steps per second: 128, episode reward: 200.000, mean reward:  1.000 [ 1.000,  1.000], mean action: 0.500 [0.000, 1.000],  loss: 10.105527, mae: 42.938724, accuracy: 0.627344, mean_q: 86.773395, mean_eps: 0.100000\n",
            " 17356/50000: episode: 199, duration: 1.587s, episode steps: 200, steps per second: 126, episode reward: 200.000, mean reward:  1.000 [ 1.000,  1.000], mean action: 0.510 [0.000, 1.000],  loss: 10.247968, mae: 42.895443, accuracy: 0.637500, mean_q: 86.611957, mean_eps: 0.100000\n",
            " 17513/50000: episode: 200, duration: 1.251s, episode steps: 157, steps per second: 126, episode reward: 157.000, mean reward:  1.000 [ 1.000,  1.000], mean action: 0.478 [0.000, 1.000],  loss: 10.170041, mae: 42.745944, accuracy: 0.630971, mean_q: 86.261426, mean_eps: 0.100000\n",
            " 17661/50000: episode: 201, duration: 1.186s, episode steps: 148, steps per second: 125, episode reward: 148.000, mean reward:  1.000 [ 1.000,  1.000], mean action: 0.466 [0.000, 1.000],  loss: 12.271552, mae: 43.017479, accuracy: 0.624367, mean_q: 86.773045, mean_eps: 0.100000\n",
            " 17861/50000: episode: 202, duration: 1.589s, episode steps: 200, steps per second: 126, episode reward: 200.000, mean reward:  1.000 [ 1.000,  1.000], mean action: 0.500 [0.000, 1.000],  loss: 6.845338, mae: 43.028040, accuracy: 0.641719, mean_q: 87.101424, mean_eps: 0.100000\n",
            " 18061/50000: episode: 203, duration: 1.573s, episode steps: 200, steps per second: 127, episode reward: 200.000, mean reward:  1.000 [ 1.000,  1.000], mean action: 0.495 [0.000, 1.000],  loss: 8.149702, mae: 43.278540, accuracy: 0.640000, mean_q: 87.407972, mean_eps: 0.100000\n",
            " 18219/50000: episode: 204, duration: 1.269s, episode steps: 158, steps per second: 124, episode reward: 158.000, mean reward:  1.000 [ 1.000,  1.000], mean action: 0.468 [0.000, 1.000],  loss: 6.098487, mae: 43.963651, accuracy: 0.637263, mean_q: 88.937167, mean_eps: 0.100000\n",
            " 18385/50000: episode: 205, duration: 1.326s, episode steps: 166, steps per second: 125, episode reward: 166.000, mean reward:  1.000 [ 1.000,  1.000], mean action: 0.470 [0.000, 1.000],  loss: 10.864390, mae: 43.721721, accuracy: 0.636483, mean_q: 88.245255, mean_eps: 0.100000\n",
            " 18579/50000: episode: 206, duration: 1.579s, episode steps: 194, steps per second: 123, episode reward: 194.000, mean reward:  1.000 [ 1.000,  1.000], mean action: 0.474 [0.000, 1.000],  loss: 10.164230, mae: 43.508194, accuracy: 0.638370, mean_q: 87.814315, mean_eps: 0.100000\n",
            " 18758/50000: episode: 207, duration: 1.444s, episode steps: 179, steps per second: 124, episode reward: 179.000, mean reward:  1.000 [ 1.000,  1.000], mean action: 0.436 [0.000, 1.000],  loss: 10.976564, mae: 43.476355, accuracy: 0.640189, mean_q: 87.720035, mean_eps: 0.100000\n",
            " 18942/50000: episode: 208, duration: 1.488s, episode steps: 184, steps per second: 124, episode reward: 184.000, mean reward:  1.000 [ 1.000,  1.000], mean action: 0.538 [0.000, 1.000],  loss: 10.750870, mae: 43.559770, accuracy: 0.629586, mean_q: 87.904575, mean_eps: 0.100000\n",
            " 19117/50000: episode: 209, duration: 1.380s, episode steps: 175, steps per second: 127, episode reward: 175.000, mean reward:  1.000 [ 1.000,  1.000], mean action: 0.469 [0.000, 1.000],  loss: 5.933771, mae: 43.062369, accuracy: 0.638929, mean_q: 87.169601, mean_eps: 0.100000\n",
            " 19317/50000: episode: 210, duration: 1.572s, episode steps: 200, steps per second: 127, episode reward: 200.000, mean reward:  1.000 [ 1.000,  1.000], mean action: 0.490 [0.000, 1.000],  loss: 3.306840, mae: 43.230581, accuracy: 0.641094, mean_q: 87.478433, mean_eps: 0.100000\n",
            " 19439/50000: episode: 211, duration: 0.980s, episode steps: 122, steps per second: 125, episode reward: 122.000, mean reward:  1.000 [ 1.000,  1.000], mean action: 0.459 [0.000, 1.000],  loss: 7.577363, mae: 43.271924, accuracy: 0.659068, mean_q: 87.410154, mean_eps: 0.100000\n",
            " 19639/50000: episode: 212, duration: 1.560s, episode steps: 200, steps per second: 128, episode reward: 200.000, mean reward:  1.000 [ 1.000,  1.000], mean action: 0.480 [0.000, 1.000],  loss: 11.464591, mae: 43.493027, accuracy: 0.633125, mean_q: 87.639045, mean_eps: 0.100000\n",
            " 19832/50000: episode: 213, duration: 1.554s, episode steps: 193, steps per second: 124, episode reward: 193.000, mean reward:  1.000 [ 1.000,  1.000], mean action: 0.513 [0.000, 1.000],  loss: 5.323417, mae: 43.535391, accuracy: 0.625162, mean_q: 87.713937, mean_eps: 0.100000\n",
            " 19996/50000: episode: 214, duration: 1.299s, episode steps: 164, steps per second: 126, episode reward: 164.000, mean reward:  1.000 [ 1.000,  1.000], mean action: 0.470 [0.000, 1.000],  loss: 11.168235, mae: 42.928771, accuracy: 0.640434, mean_q: 86.509353, mean_eps: 0.100000\n",
            " 20194/50000: episode: 215, duration: 1.595s, episode steps: 198, steps per second: 124, episode reward: 198.000, mean reward:  1.000 [ 1.000,  1.000], mean action: 0.475 [0.000, 1.000],  loss: 6.096332, mae: 43.201274, accuracy: 0.639678, mean_q: 87.198341, mean_eps: 0.100000\n",
            " 20343/50000: episode: 216, duration: 1.187s, episode steps: 149, steps per second: 126, episode reward: 149.000, mean reward:  1.000 [ 1.000,  1.000], mean action: 0.463 [0.000, 1.000],  loss: 10.719048, mae: 43.077532, accuracy: 0.649958, mean_q: 86.776582, mean_eps: 0.100000\n",
            " 20483/50000: episode: 217, duration: 1.111s, episode steps: 140, steps per second: 126, episode reward: 140.000, mean reward:  1.000 [ 1.000,  1.000], mean action: 0.464 [0.000, 1.000],  loss: 9.454883, mae: 43.218856, accuracy: 0.608036, mean_q: 87.133492, mean_eps: 0.100000\n",
            " 20683/50000: episode: 218, duration: 1.607s, episode steps: 200, steps per second: 124, episode reward: 200.000, mean reward:  1.000 [ 1.000,  1.000], mean action: 0.490 [0.000, 1.000],  loss: 9.166058, mae: 43.078545, accuracy: 0.608594, mean_q: 86.789115, mean_eps: 0.100000\n",
            " 20833/50000: episode: 219, duration: 1.182s, episode steps: 150, steps per second: 127, episode reward: 150.000, mean reward:  1.000 [ 1.000,  1.000], mean action: 0.467 [0.000, 1.000],  loss: 4.637439, mae: 42.711832, accuracy: 0.631458, mean_q: 86.428586, mean_eps: 0.100000\n",
            " 21033/50000: episode: 220, duration: 1.577s, episode steps: 200, steps per second: 127, episode reward: 200.000, mean reward:  1.000 [ 1.000,  1.000], mean action: 0.490 [0.000, 1.000],  loss: 7.132150, mae: 42.925531, accuracy: 0.620938, mean_q: 86.781306, mean_eps: 0.100000\n",
            " 21159/50000: episode: 221, duration: 1.034s, episode steps: 126, steps per second: 122, episode reward: 126.000, mean reward:  1.000 [ 1.000,  1.000], mean action: 0.468 [0.000, 1.000],  loss: 7.633275, mae: 43.399888, accuracy: 0.597966, mean_q: 87.451724, mean_eps: 0.100000\n",
            " 21291/50000: episode: 222, duration: 1.062s, episode steps: 132, steps per second: 124, episode reward: 132.000, mean reward:  1.000 [ 1.000,  1.000], mean action: 0.470 [0.000, 1.000],  loss: 6.206099, mae: 43.444455, accuracy: 0.618371, mean_q: 87.719498, mean_eps: 0.100000\n",
            " 21440/50000: episode: 223, duration: 1.196s, episode steps: 149, steps per second: 125, episode reward: 149.000, mean reward:  1.000 [ 1.000,  1.000], mean action: 0.423 [0.000, 1.000],  loss: 9.643609, mae: 43.226509, accuracy: 0.617450, mean_q: 86.979360, mean_eps: 0.100000\n",
            " 21581/50000: episode: 224, duration: 1.155s, episode steps: 141, steps per second: 122, episode reward: 141.000, mean reward:  1.000 [ 1.000,  1.000], mean action: 0.461 [0.000, 1.000],  loss: 13.206365, mae: 43.483231, accuracy: 0.629876, mean_q: 87.405055, mean_eps: 0.100000\n",
            " 21781/50000: episode: 225, duration: 1.589s, episode steps: 200, steps per second: 126, episode reward: 200.000, mean reward:  1.000 [ 1.000,  1.000], mean action: 0.520 [0.000, 1.000],  loss: 8.215152, mae: 42.712578, accuracy: 0.621719, mean_q: 85.848818, mean_eps: 0.100000\n",
            " 21977/50000: episode: 226, duration: 1.592s, episode steps: 196, steps per second: 123, episode reward: 196.000, mean reward:  1.000 [ 1.000,  1.000], mean action: 0.510 [0.000, 1.000],  loss: 4.900391, mae: 42.757768, accuracy: 0.628348, mean_q: 86.226031, mean_eps: 0.100000\n",
            " 22153/50000: episode: 227, duration: 1.444s, episode steps: 176, steps per second: 122, episode reward: 176.000, mean reward:  1.000 [ 1.000,  1.000], mean action: 0.432 [0.000, 1.000],  loss: 8.208581, mae: 42.796651, accuracy: 0.630327, mean_q: 86.309027, mean_eps: 0.100000\n",
            " 22303/50000: episode: 228, duration: 1.236s, episode steps: 150, steps per second: 121, episode reward: 150.000, mean reward:  1.000 [ 1.000,  1.000], mean action: 0.420 [0.000, 1.000],  loss: 5.161630, mae: 42.843445, accuracy: 0.614583, mean_q: 86.533287, mean_eps: 0.100000\n",
            " 22459/50000: episode: 229, duration: 1.320s, episode steps: 156, steps per second: 118, episode reward: 156.000, mean reward:  1.000 [ 1.000,  1.000], mean action: 0.423 [0.000, 1.000],  loss: 6.380714, mae: 42.958927, accuracy: 0.615585, mean_q: 86.568741, mean_eps: 0.100000\n",
            " 22606/50000: episode: 230, duration: 1.233s, episode steps: 147, steps per second: 119, episode reward: 147.000, mean reward:  1.000 [ 1.000,  1.000], mean action: 0.429 [0.000, 1.000],  loss: 14.205261, mae: 42.832636, accuracy: 0.624575, mean_q: 85.975597, mean_eps: 0.100000\n",
            " 22799/50000: episode: 231, duration: 1.559s, episode steps: 193, steps per second: 124, episode reward: 193.000, mean reward:  1.000 [ 1.000,  1.000], mean action: 0.446 [0.000, 1.000],  loss: 9.074756, mae: 43.037894, accuracy: 0.619171, mean_q: 86.532357, mean_eps: 0.100000\n",
            " 22947/50000: episode: 232, duration: 2.377s, episode steps: 148, steps per second:  62, episode reward: 148.000, mean reward:  1.000 [ 1.000,  1.000], mean action: 0.426 [0.000, 1.000],  loss: 6.922808, mae: 42.819436, accuracy: 0.605785, mean_q: 86.239292, mean_eps: 0.100000\n",
            " 23118/50000: episode: 233, duration: 3.049s, episode steps: 171, steps per second:  56, episode reward: 171.000, mean reward:  1.000 [ 1.000,  1.000], mean action: 0.433 [0.000, 1.000],  loss: 6.194294, mae: 42.578030, accuracy: 0.636330, mean_q: 85.635916, mean_eps: 0.100000\n",
            " 23284/50000: episode: 234, duration: 3.313s, episode steps: 166, steps per second:  50, episode reward: 166.000, mean reward:  1.000 [ 1.000,  1.000], mean action: 0.434 [0.000, 1.000],  loss: 5.165180, mae: 42.307317, accuracy: 0.638366, mean_q: 85.218149, mean_eps: 0.100000\n",
            " 23453/50000: episode: 235, duration: 3.093s, episode steps: 169, steps per second:  55, episode reward: 169.000, mean reward:  1.000 [ 1.000,  1.000], mean action: 0.438 [0.000, 1.000],  loss: 4.822854, mae: 42.619574, accuracy: 0.629068, mean_q: 85.918466, mean_eps: 0.100000\n",
            " 23585/50000: episode: 236, duration: 1.100s, episode steps: 132, steps per second: 120, episode reward: 132.000, mean reward:  1.000 [ 1.000,  1.000], mean action: 0.477 [0.000, 1.000],  loss: 10.354951, mae: 42.350667, accuracy: 0.622869, mean_q: 85.186345, mean_eps: 0.100000\n",
            " 23717/50000: episode: 237, duration: 1.073s, episode steps: 132, steps per second: 123, episode reward: 132.000, mean reward:  1.000 [ 1.000,  1.000], mean action: 0.477 [0.000, 1.000],  loss: 5.432315, mae: 42.501649, accuracy: 0.632576, mean_q: 85.541007, mean_eps: 0.100000\n",
            " 23895/50000: episode: 238, duration: 1.450s, episode steps: 178, steps per second: 123, episode reward: 178.000, mean reward:  1.000 [ 1.000,  1.000], mean action: 0.444 [0.000, 1.000],  loss: 7.793704, mae: 42.357675, accuracy: 0.626229, mean_q: 85.246828, mean_eps: 0.100000\n",
            " 24039/50000: episode: 239, duration: 1.152s, episode steps: 144, steps per second: 125, episode reward: 144.000, mean reward:  1.000 [ 1.000,  1.000], mean action: 0.479 [0.000, 1.000],  loss: 14.634254, mae: 42.559948, accuracy: 0.623481, mean_q: 85.429410, mean_eps: 0.100000\n",
            " 24196/50000: episode: 240, duration: 1.256s, episode steps: 157, steps per second: 125, episode reward: 157.000, mean reward:  1.000 [ 1.000,  1.000], mean action: 0.484 [0.000, 1.000],  loss: 6.875886, mae: 42.013028, accuracy: 0.627588, mean_q: 84.511049, mean_eps: 0.100000\n",
            " 24328/50000: episode: 241, duration: 1.099s, episode steps: 132, steps per second: 120, episode reward: 132.000, mean reward:  1.000 [ 1.000,  1.000], mean action: 0.477 [0.000, 1.000],  loss: 7.377570, mae: 42.613363, accuracy: 0.631629, mean_q: 85.743776, mean_eps: 0.100000\n",
            " 24456/50000: episode: 242, duration: 1.078s, episode steps: 128, steps per second: 119, episode reward: 128.000, mean reward:  1.000 [ 1.000,  1.000], mean action: 0.477 [0.000, 1.000],  loss: 3.304918, mae: 42.300182, accuracy: 0.636475, mean_q: 85.367144, mean_eps: 0.100000\n",
            " 24608/50000: episode: 243, duration: 1.239s, episode steps: 152, steps per second: 123, episode reward: 152.000, mean reward:  1.000 [ 1.000,  1.000], mean action: 0.447 [0.000, 1.000],  loss: 7.821844, mae: 41.687134, accuracy: 0.619038, mean_q: 83.876833, mean_eps: 0.100000\n",
            " 24781/50000: episode: 244, duration: 1.408s, episode steps: 173, steps per second: 123, episode reward: 173.000, mean reward:  1.000 [ 1.000,  1.000], mean action: 0.445 [0.000, 1.000],  loss: 4.607980, mae: 41.863138, accuracy: 0.628432, mean_q: 84.444553, mean_eps: 0.100000\n",
            " 24960/50000: episode: 245, duration: 1.435s, episode steps: 179, steps per second: 125, episode reward: 179.000, mean reward:  1.000 [ 1.000,  1.000], mean action: 0.441 [0.000, 1.000],  loss: 5.249962, mae: 41.581777, accuracy: 0.647870, mean_q: 83.851921, mean_eps: 0.100000\n",
            " 25135/50000: episode: 246, duration: 2.082s, episode steps: 175, steps per second:  84, episode reward: 175.000, mean reward:  1.000 [ 1.000,  1.000], mean action: 0.440 [0.000, 1.000],  loss: 8.492395, mae: 41.430600, accuracy: 0.646607, mean_q: 83.353926, mean_eps: 0.100000\n",
            " 25305/50000: episode: 247, duration: 1.437s, episode steps: 170, steps per second: 118, episode reward: 170.000, mean reward:  1.000 [ 1.000,  1.000], mean action: 0.441 [0.000, 1.000],  loss: 5.242291, mae: 41.602496, accuracy: 0.649265, mean_q: 83.852827, mean_eps: 0.100000\n",
            " 25505/50000: episode: 248, duration: 1.638s, episode steps: 200, steps per second: 122, episode reward: 200.000, mean reward:  1.000 [ 1.000,  1.000], mean action: 0.475 [0.000, 1.000],  loss: 6.817588, mae: 40.861102, accuracy: 0.658125, mean_q: 82.525402, mean_eps: 0.100000\n",
            " 25705/50000: episode: 249, duration: 1.597s, episode steps: 200, steps per second: 125, episode reward: 200.000, mean reward:  1.000 [ 1.000,  1.000], mean action: 0.450 [0.000, 1.000],  loss: 5.191912, mae: 41.092467, accuracy: 0.656406, mean_q: 82.904754, mean_eps: 0.100000\n",
            " 25871/50000: episode: 250, duration: 1.319s, episode steps: 166, steps per second: 126, episode reward: 166.000, mean reward:  1.000 [ 1.000,  1.000], mean action: 0.440 [0.000, 1.000],  loss: 6.569864, mae: 40.666584, accuracy: 0.652108, mean_q: 81.925176, mean_eps: 0.100000\n",
            " 26069/50000: episode: 251, duration: 1.578s, episode steps: 198, steps per second: 125, episode reward: 198.000, mean reward:  1.000 [ 1.000,  1.000], mean action: 0.449 [0.000, 1.000],  loss: 5.379424, mae: 40.495453, accuracy: 0.660196, mean_q: 81.666871, mean_eps: 0.100000\n",
            " 26257/50000: episode: 252, duration: 1.501s, episode steps: 188, steps per second: 125, episode reward: 188.000, mean reward:  1.000 [ 1.000,  1.000], mean action: 0.516 [0.000, 1.000],  loss: 4.171268, mae: 40.471342, accuracy: 0.656250, mean_q: 81.584903, mean_eps: 0.100000\n",
            " 26424/50000: episode: 253, duration: 1.349s, episode steps: 167, steps per second: 124, episode reward: 167.000, mean reward:  1.000 [ 1.000,  1.000], mean action: 0.443 [0.000, 1.000],  loss: 5.614876, mae: 40.112834, accuracy: 0.647268, mean_q: 80.700638, mean_eps: 0.100000\n",
            " 26576/50000: episode: 254, duration: 1.262s, episode steps: 152, steps per second: 120, episode reward: 152.000, mean reward:  1.000 [ 1.000,  1.000], mean action: 0.434 [0.000, 1.000],  loss: 5.660344, mae: 40.595639, accuracy: 0.613076, mean_q: 81.874357, mean_eps: 0.100000\n",
            " 26744/50000: episode: 255, duration: 1.355s, episode steps: 168, steps per second: 124, episode reward: 168.000, mean reward:  1.000 [ 1.000,  1.000], mean action: 0.440 [0.000, 1.000],  loss: 5.911530, mae: 40.556863, accuracy: 0.610305, mean_q: 81.634713, mean_eps: 0.100000\n",
            " 26881/50000: episode: 256, duration: 1.099s, episode steps: 137, steps per second: 125, episode reward: 137.000, mean reward:  1.000 [ 1.000,  1.000], mean action: 0.431 [0.000, 1.000],  loss: 7.041701, mae: 40.221864, accuracy: 0.631615, mean_q: 80.872456, mean_eps: 0.100000\n",
            " 27036/50000: episode: 257, duration: 1.240s, episode steps: 155, steps per second: 125, episode reward: 155.000, mean reward:  1.000 [ 1.000,  1.000], mean action: 0.445 [0.000, 1.000],  loss: 5.891281, mae: 40.375562, accuracy: 0.635887, mean_q: 81.610613, mean_eps: 0.100000\n",
            " 27226/50000: episode: 258, duration: 1.537s, episode steps: 190, steps per second: 124, episode reward: 190.000, mean reward:  1.000 [ 1.000,  1.000], mean action: 0.453 [0.000, 1.000],  loss: 3.841444, mae: 40.147111, accuracy: 0.622533, mean_q: 81.126145, mean_eps: 0.100000\n",
            " 27416/50000: episode: 259, duration: 1.512s, episode steps: 190, steps per second: 126, episode reward: 190.000, mean reward:  1.000 [ 1.000,  1.000], mean action: 0.453 [0.000, 1.000],  loss: 7.733132, mae: 40.324249, accuracy: 0.642599, mean_q: 81.380106, mean_eps: 0.100000\n",
            " 27579/50000: episode: 260, duration: 1.326s, episode steps: 163, steps per second: 123, episode reward: 163.000, mean reward:  1.000 [ 1.000,  1.000], mean action: 0.460 [0.000, 1.000],  loss: 6.101837, mae: 40.030875, accuracy: 0.626917, mean_q: 80.651829, mean_eps: 0.100000\n",
            " 27779/50000: episode: 261, duration: 1.586s, episode steps: 200, steps per second: 126, episode reward: 200.000, mean reward:  1.000 [ 1.000,  1.000], mean action: 0.485 [0.000, 1.000],  loss: 4.658710, mae: 39.520820, accuracy: 0.623125, mean_q: 79.734096, mean_eps: 0.100000\n",
            " 27932/50000: episode: 262, duration: 1.223s, episode steps: 153, steps per second: 125, episode reward: 153.000, mean reward:  1.000 [ 1.000,  1.000], mean action: 0.464 [0.000, 1.000],  loss: 4.682962, mae: 39.366296, accuracy: 0.630310, mean_q: 79.726070, mean_eps: 0.100000\n",
            " 28079/50000: episode: 263, duration: 1.242s, episode steps: 147, steps per second: 118, episode reward: 147.000, mean reward:  1.000 [ 1.000,  1.000], mean action: 0.463 [0.000, 1.000],  loss: 6.637005, mae: 40.169015, accuracy: 0.632866, mean_q: 81.172013, mean_eps: 0.100000\n",
            " 28279/50000: episode: 264, duration: 1.571s, episode steps: 200, steps per second: 127, episode reward: 200.000, mean reward:  1.000 [ 1.000,  1.000], mean action: 0.480 [0.000, 1.000],  loss: 5.455584, mae: 40.207193, accuracy: 0.640000, mean_q: 81.390784, mean_eps: 0.100000\n",
            " 28479/50000: episode: 265, duration: 1.615s, episode steps: 200, steps per second: 124, episode reward: 200.000, mean reward:  1.000 [ 1.000,  1.000], mean action: 0.480 [0.000, 1.000],  loss: 6.152758, mae: 40.053991, accuracy: 0.630781, mean_q: 81.171822, mean_eps: 0.100000\n",
            " 28677/50000: episode: 266, duration: 1.553s, episode steps: 198, steps per second: 128, episode reward: 198.000, mean reward:  1.000 [ 1.000,  1.000], mean action: 0.470 [0.000, 1.000],  loss: 5.110317, mae: 40.347008, accuracy: 0.639047, mean_q: 81.779053, mean_eps: 0.100000\n",
            " 28851/50000: episode: 267, duration: 1.389s, episode steps: 174, steps per second: 125, episode reward: 174.000, mean reward:  1.000 [ 1.000,  1.000], mean action: 0.466 [0.000, 1.000],  loss: 6.209343, mae: 39.828494, accuracy: 0.624820, mean_q: 80.752030, mean_eps: 0.100000\n",
            " 29051/50000: episode: 268, duration: 1.547s, episode steps: 200, steps per second: 129, episode reward: 200.000, mean reward:  1.000 [ 1.000,  1.000], mean action: 0.475 [0.000, 1.000],  loss: 7.249798, mae: 40.118895, accuracy: 0.636563, mean_q: 81.364161, mean_eps: 0.100000\n",
            " 29216/50000: episode: 269, duration: 1.319s, episode steps: 165, steps per second: 125, episode reward: 165.000, mean reward:  1.000 [ 1.000,  1.000], mean action: 0.467 [0.000, 1.000],  loss: 5.496596, mae: 40.443908, accuracy: 0.636932, mean_q: 82.131623, mean_eps: 0.100000\n",
            " 29413/50000: episode: 270, duration: 1.573s, episode steps: 197, steps per second: 125, episode reward: 197.000, mean reward:  1.000 [ 1.000,  1.000], mean action: 0.472 [0.000, 1.000],  loss: 5.455715, mae: 40.248646, accuracy: 0.627538, mean_q: 81.404647, mean_eps: 0.100000\n",
            " 29596/50000: episode: 271, duration: 1.424s, episode steps: 183, steps per second: 129, episode reward: 183.000, mean reward:  1.000 [ 1.000,  1.000], mean action: 0.470 [0.000, 1.000],  loss: 5.792731, mae: 40.493279, accuracy: 0.628074, mean_q: 82.007958, mean_eps: 0.100000\n",
            " 29792/50000: episode: 272, duration: 1.531s, episode steps: 196, steps per second: 128, episode reward: 196.000, mean reward:  1.000 [ 1.000,  1.000], mean action: 0.469 [0.000, 1.000],  loss: 5.769323, mae: 40.308030, accuracy: 0.634726, mean_q: 81.643009, mean_eps: 0.100000\n",
            " 29985/50000: episode: 273, duration: 1.500s, episode steps: 193, steps per second: 129, episode reward: 193.000, mean reward:  1.000 [ 1.000,  1.000], mean action: 0.466 [0.000, 1.000],  loss: 7.597598, mae: 40.426399, accuracy: 0.646049, mean_q: 81.925279, mean_eps: 0.100000\n",
            " 30155/50000: episode: 274, duration: 1.348s, episode steps: 170, steps per second: 126, episode reward: 170.000, mean reward:  1.000 [ 1.000,  1.000], mean action: 0.465 [0.000, 1.000],  loss: 7.617485, mae: 40.370568, accuracy: 0.638603, mean_q: 81.630976, mean_eps: 0.100000\n",
            " 30349/50000: episode: 275, duration: 1.524s, episode steps: 194, steps per second: 127, episode reward: 194.000, mean reward:  1.000 [ 1.000,  1.000], mean action: 0.469 [0.000, 1.000],  loss: 7.558507, mae: 40.418970, accuracy: 0.646907, mean_q: 81.783945, mean_eps: 0.100000\n",
            " 30547/50000: episode: 276, duration: 1.530s, episode steps: 198, steps per second: 129, episode reward: 198.000, mean reward:  1.000 [ 1.000,  1.000], mean action: 0.465 [0.000, 1.000],  loss: 6.814663, mae: 40.643912, accuracy: 0.633996, mean_q: 82.253517, mean_eps: 0.100000\n",
            " 30747/50000: episode: 277, duration: 1.593s, episode steps: 200, steps per second: 126, episode reward: 200.000, mean reward:  1.000 [ 1.000,  1.000], mean action: 0.490 [0.000, 1.000],  loss: 5.278965, mae: 40.291289, accuracy: 0.641406, mean_q: 81.705727, mean_eps: 0.100000\n",
            " 30947/50000: episode: 278, duration: 1.600s, episode steps: 200, steps per second: 125, episode reward: 200.000, mean reward:  1.000 [ 1.000,  1.000], mean action: 0.470 [0.000, 1.000],  loss: 8.704918, mae: 40.584572, accuracy: 0.651406, mean_q: 82.024275, mean_eps: 0.100000\n",
            " 31135/50000: episode: 279, duration: 1.463s, episode steps: 188, steps per second: 129, episode reward: 188.000, mean reward:  1.000 [ 1.000,  1.000], mean action: 0.463 [0.000, 1.000],  loss: 8.978462, mae: 40.282610, accuracy: 0.649934, mean_q: 81.405923, mean_eps: 0.100000\n",
            " 31308/50000: episode: 280, duration: 1.358s, episode steps: 173, steps per second: 127, episode reward: 173.000, mean reward:  1.000 [ 1.000,  1.000], mean action: 0.457 [0.000, 1.000],  loss: 6.398797, mae: 40.149570, accuracy: 0.650650, mean_q: 81.321985, mean_eps: 0.100000\n",
            " 31507/50000: episode: 281, duration: 1.565s, episode steps: 199, steps per second: 127, episode reward: 199.000, mean reward:  1.000 [ 1.000,  1.000], mean action: 0.462 [0.000, 1.000],  loss: 4.256881, mae: 40.355590, accuracy: 0.635050, mean_q: 81.795111, mean_eps: 0.100000\n",
            " 31707/50000: episode: 282, duration: 1.581s, episode steps: 200, steps per second: 127, episode reward: 200.000, mean reward:  1.000 [ 1.000,  1.000], mean action: 0.480 [0.000, 1.000],  loss: 4.364899, mae: 40.582747, accuracy: 0.635156, mean_q: 82.179793, mean_eps: 0.100000\n",
            " 31896/50000: episode: 283, duration: 1.493s, episode steps: 189, steps per second: 127, episode reward: 189.000, mean reward:  1.000 [ 1.000,  1.000], mean action: 0.466 [0.000, 1.000],  loss: 6.591952, mae: 41.224793, accuracy: 0.643022, mean_q: 83.304137, mean_eps: 0.100000\n",
            " 32096/50000: episode: 284, duration: 1.608s, episode steps: 200, steps per second: 124, episode reward: 200.000, mean reward:  1.000 [ 1.000,  1.000], mean action: 0.475 [0.000, 1.000],  loss: 4.799014, mae: 40.456194, accuracy: 0.648750, mean_q: 81.963345, mean_eps: 0.100000\n",
            " 32296/50000: episode: 285, duration: 1.569s, episode steps: 200, steps per second: 127, episode reward: 200.000, mean reward:  1.000 [ 1.000,  1.000], mean action: 0.475 [0.000, 1.000],  loss: 5.514416, mae: 40.667206, accuracy: 0.648438, mean_q: 82.232477, mean_eps: 0.100000\n",
            " 32496/50000: episode: 286, duration: 2.004s, episode steps: 200, steps per second: 100, episode reward: 200.000, mean reward:  1.000 [ 1.000,  1.000], mean action: 0.500 [0.000, 1.000],  loss: 8.756789, mae: 41.074315, accuracy: 0.640469, mean_q: 82.929854, mean_eps: 0.100000\n",
            " 32696/50000: episode: 287, duration: 2.461s, episode steps: 200, steps per second:  81, episode reward: 200.000, mean reward:  1.000 [ 1.000,  1.000], mean action: 0.475 [0.000, 1.000],  loss: 7.045153, mae: 40.649385, accuracy: 0.635781, mean_q: 82.300681, mean_eps: 0.100000\n",
            " 32896/50000: episode: 288, duration: 1.574s, episode steps: 200, steps per second: 127, episode reward: 200.000, mean reward:  1.000 [ 1.000,  1.000], mean action: 0.470 [0.000, 1.000],  loss: 9.200858, mae: 40.910488, accuracy: 0.646250, mean_q: 82.665351, mean_eps: 0.100000\n",
            " 33085/50000: episode: 289, duration: 1.466s, episode steps: 189, steps per second: 129, episode reward: 189.000, mean reward:  1.000 [ 1.000,  1.000], mean action: 0.466 [0.000, 1.000],  loss: 9.023245, mae: 40.781889, accuracy: 0.642526, mean_q: 82.333138, mean_eps: 0.100000\n",
            " 33285/50000: episode: 290, duration: 1.595s, episode steps: 200, steps per second: 125, episode reward: 200.000, mean reward:  1.000 [ 1.000,  1.000], mean action: 0.485 [0.000, 1.000],  loss: 7.258751, mae: 40.698502, accuracy: 0.636719, mean_q: 82.121864, mean_eps: 0.100000\n",
            " 33485/50000: episode: 291, duration: 1.585s, episode steps: 200, steps per second: 126, episode reward: 200.000, mean reward:  1.000 [ 1.000,  1.000], mean action: 0.475 [0.000, 1.000],  loss: 6.463722, mae: 40.858159, accuracy: 0.643906, mean_q: 82.692033, mean_eps: 0.100000\n",
            " 33685/50000: episode: 292, duration: 1.562s, episode steps: 200, steps per second: 128, episode reward: 200.000, mean reward:  1.000 [ 1.000,  1.000], mean action: 0.485 [0.000, 1.000],  loss: 7.452810, mae: 41.063745, accuracy: 0.636250, mean_q: 83.016048, mean_eps: 0.100000\n",
            " 33869/50000: episode: 293, duration: 1.463s, episode steps: 184, steps per second: 126, episode reward: 184.000, mean reward:  1.000 [ 1.000,  1.000], mean action: 0.467 [0.000, 1.000],  loss: 5.973993, mae: 40.946502, accuracy: 0.635870, mean_q: 82.757520, mean_eps: 0.100000\n",
            " 34061/50000: episode: 294, duration: 1.539s, episode steps: 192, steps per second: 125, episode reward: 192.000, mean reward:  1.000 [ 1.000,  1.000], mean action: 0.469 [0.000, 1.000],  loss: 9.627822, mae: 40.991764, accuracy: 0.636393, mean_q: 82.652428, mean_eps: 0.100000\n",
            " 34261/50000: episode: 295, duration: 1.578s, episode steps: 200, steps per second: 127, episode reward: 200.000, mean reward:  1.000 [ 1.000,  1.000], mean action: 0.480 [0.000, 1.000],  loss: 5.279195, mae: 41.178829, accuracy: 0.633437, mean_q: 83.342375, mean_eps: 0.100000\n",
            " 34461/50000: episode: 296, duration: 1.573s, episode steps: 200, steps per second: 127, episode reward: 200.000, mean reward:  1.000 [ 1.000,  1.000], mean action: 0.485 [0.000, 1.000],  loss: 6.816775, mae: 41.158242, accuracy: 0.637188, mean_q: 83.243305, mean_eps: 0.100000\n",
            " 34661/50000: episode: 297, duration: 1.594s, episode steps: 200, steps per second: 125, episode reward: 200.000, mean reward:  1.000 [ 1.000,  1.000], mean action: 0.485 [0.000, 1.000],  loss: 7.002339, mae: 41.637269, accuracy: 0.630156, mean_q: 84.263326, mean_eps: 0.100000\n",
            " 34861/50000: episode: 298, duration: 1.551s, episode steps: 200, steps per second: 129, episode reward: 200.000, mean reward:  1.000 [ 1.000,  1.000], mean action: 0.490 [0.000, 1.000],  loss: 4.331222, mae: 41.938229, accuracy: 0.635938, mean_q: 84.929394, mean_eps: 0.100000\n",
            " 35061/50000: episode: 299, duration: 1.540s, episode steps: 200, steps per second: 130, episode reward: 200.000, mean reward:  1.000 [ 1.000,  1.000], mean action: 0.475 [0.000, 1.000],  loss: 6.668229, mae: 42.413944, accuracy: 0.635469, mean_q: 85.870989, mean_eps: 0.100000\n",
            " 35261/50000: episode: 300, duration: 2.044s, episode steps: 200, steps per second:  98, episode reward: 200.000, mean reward:  1.000 [ 1.000,  1.000], mean action: 0.490 [0.000, 1.000],  loss: 6.310647, mae: 42.532928, accuracy: 0.631719, mean_q: 86.038857, mean_eps: 0.100000\n",
            " 35461/50000: episode: 301, duration: 1.894s, episode steps: 200, steps per second: 106, episode reward: 200.000, mean reward:  1.000 [ 1.000,  1.000], mean action: 0.475 [0.000, 1.000],  loss: 9.862108, mae: 42.774346, accuracy: 0.626563, mean_q: 86.366307, mean_eps: 0.100000\n",
            " 35661/50000: episode: 302, duration: 1.583s, episode steps: 200, steps per second: 126, episode reward: 200.000, mean reward:  1.000 [ 1.000,  1.000], mean action: 0.495 [0.000, 1.000],  loss: 7.551296, mae: 42.432708, accuracy: 0.627969, mean_q: 85.769624, mean_eps: 0.100000\n",
            " 35861/50000: episode: 303, duration: 1.590s, episode steps: 200, steps per second: 126, episode reward: 200.000, mean reward:  1.000 [ 1.000,  1.000], mean action: 0.485 [0.000, 1.000],  loss: 6.221007, mae: 43.238848, accuracy: 0.632188, mean_q: 87.441745, mean_eps: 0.100000\n",
            " 36061/50000: episode: 304, duration: 1.565s, episode steps: 200, steps per second: 128, episode reward: 200.000, mean reward:  1.000 [ 1.000,  1.000], mean action: 0.500 [0.000, 1.000],  loss: 6.112827, mae: 43.188484, accuracy: 0.614688, mean_q: 87.232396, mean_eps: 0.100000\n",
            " 36261/50000: episode: 305, duration: 1.588s, episode steps: 200, steps per second: 126, episode reward: 200.000, mean reward:  1.000 [ 1.000,  1.000], mean action: 0.490 [0.000, 1.000],  loss: 7.954946, mae: 43.395730, accuracy: 0.625313, mean_q: 87.715426, mean_eps: 0.100000\n",
            " 36461/50000: episode: 306, duration: 1.577s, episode steps: 200, steps per second: 127, episode reward: 200.000, mean reward:  1.000 [ 1.000,  1.000], mean action: 0.500 [0.000, 1.000],  loss: 8.788177, mae: 43.441617, accuracy: 0.640781, mean_q: 87.750759, mean_eps: 0.100000\n",
            " 36661/50000: episode: 307, duration: 1.582s, episode steps: 200, steps per second: 126, episode reward: 200.000, mean reward:  1.000 [ 1.000,  1.000], mean action: 0.500 [0.000, 1.000],  loss: 8.829499, mae: 43.649296, accuracy: 0.635000, mean_q: 88.110217, mean_eps: 0.100000\n",
            " 36861/50000: episode: 308, duration: 1.544s, episode steps: 200, steps per second: 130, episode reward: 200.000, mean reward:  1.000 [ 1.000,  1.000], mean action: 0.490 [0.000, 1.000],  loss: 6.655042, mae: 43.734813, accuracy: 0.628125, mean_q: 88.390377, mean_eps: 0.100000\n",
            " 37061/50000: episode: 309, duration: 1.603s, episode steps: 200, steps per second: 125, episode reward: 200.000, mean reward:  1.000 [ 1.000,  1.000], mean action: 0.500 [0.000, 1.000],  loss: 5.354005, mae: 43.993494, accuracy: 0.643906, mean_q: 88.925912, mean_eps: 0.100000\n",
            " 37261/50000: episode: 310, duration: 1.595s, episode steps: 200, steps per second: 125, episode reward: 200.000, mean reward:  1.000 [ 1.000,  1.000], mean action: 0.500 [0.000, 1.000],  loss: 8.517275, mae: 44.143824, accuracy: 0.638125, mean_q: 89.177733, mean_eps: 0.100000\n",
            " 37461/50000: episode: 311, duration: 1.776s, episode steps: 200, steps per second: 113, episode reward: 200.000, mean reward:  1.000 [ 1.000,  1.000], mean action: 0.495 [0.000, 1.000],  loss: 10.649628, mae: 43.927204, accuracy: 0.647031, mean_q: 88.556695, mean_eps: 0.100000\n",
            " 37661/50000: episode: 312, duration: 1.589s, episode steps: 200, steps per second: 126, episode reward: 200.000, mean reward:  1.000 [ 1.000,  1.000], mean action: 0.505 [0.000, 1.000],  loss: 9.252992, mae: 44.426320, accuracy: 0.643125, mean_q: 89.536592, mean_eps: 0.100000\n",
            " 37861/50000: episode: 313, duration: 1.578s, episode steps: 200, steps per second: 127, episode reward: 200.000, mean reward:  1.000 [ 1.000,  1.000], mean action: 0.515 [0.000, 1.000],  loss: 6.432945, mae: 44.475294, accuracy: 0.629062, mean_q: 89.552421, mean_eps: 0.100000\n",
            " 38049/50000: episode: 314, duration: 1.502s, episode steps: 188, steps per second: 125, episode reward: 188.000, mean reward:  1.000 [ 1.000,  1.000], mean action: 0.468 [0.000, 1.000],  loss: 9.855080, mae: 44.383810, accuracy: 0.642453, mean_q: 89.354995, mean_eps: 0.100000\n",
            " 38249/50000: episode: 315, duration: 1.623s, episode steps: 200, steps per second: 123, episode reward: 200.000, mean reward:  1.000 [ 1.000,  1.000], mean action: 0.500 [0.000, 1.000],  loss: 12.352213, mae: 44.304722, accuracy: 0.629219, mean_q: 89.055896, mean_eps: 0.100000\n",
            " 38449/50000: episode: 316, duration: 1.602s, episode steps: 200, steps per second: 125, episode reward: 200.000, mean reward:  1.000 [ 1.000,  1.000], mean action: 0.500 [0.000, 1.000],  loss: 9.966331, mae: 44.155075, accuracy: 0.624844, mean_q: 89.042205, mean_eps: 0.100000\n",
            " 38649/50000: episode: 317, duration: 1.618s, episode steps: 200, steps per second: 124, episode reward: 200.000, mean reward:  1.000 [ 1.000,  1.000], mean action: 0.500 [0.000, 1.000],  loss: 6.220291, mae: 44.343377, accuracy: 0.626719, mean_q: 89.572117, mean_eps: 0.100000\n",
            " 38849/50000: episode: 318, duration: 1.603s, episode steps: 200, steps per second: 125, episode reward: 200.000, mean reward:  1.000 [ 1.000,  1.000], mean action: 0.500 [0.000, 1.000],  loss: 7.101422, mae: 44.817856, accuracy: 0.625781, mean_q: 90.528641, mean_eps: 0.100000\n",
            " 39049/50000: episode: 319, duration: 1.600s, episode steps: 200, steps per second: 125, episode reward: 200.000, mean reward:  1.000 [ 1.000,  1.000], mean action: 0.500 [0.000, 1.000],  loss: 6.498562, mae: 44.460379, accuracy: 0.632656, mean_q: 89.881633, mean_eps: 0.100000\n",
            " 39249/50000: episode: 320, duration: 1.583s, episode steps: 200, steps per second: 126, episode reward: 200.000, mean reward:  1.000 [ 1.000,  1.000], mean action: 0.500 [0.000, 1.000],  loss: 11.176957, mae: 45.133324, accuracy: 0.631719, mean_q: 90.974917, mean_eps: 0.100000\n",
            " 39449/50000: episode: 321, duration: 1.595s, episode steps: 200, steps per second: 125, episode reward: 200.000, mean reward:  1.000 [ 1.000,  1.000], mean action: 0.500 [0.000, 1.000],  loss: 9.472561, mae: 45.128412, accuracy: 0.621250, mean_q: 91.005823, mean_eps: 0.100000\n",
            " 39649/50000: episode: 322, duration: 1.574s, episode steps: 200, steps per second: 127, episode reward: 200.000, mean reward:  1.000 [ 1.000,  1.000], mean action: 0.500 [0.000, 1.000],  loss: 7.211905, mae: 45.160712, accuracy: 0.638125, mean_q: 91.309026, mean_eps: 0.100000\n",
            " 39849/50000: episode: 323, duration: 1.617s, episode steps: 200, steps per second: 124, episode reward: 200.000, mean reward:  1.000 [ 1.000,  1.000], mean action: 0.510 [0.000, 1.000],  loss: 12.514701, mae: 45.478515, accuracy: 0.636563, mean_q: 91.561947, mean_eps: 0.100000\n",
            " 40049/50000: episode: 324, duration: 1.593s, episode steps: 200, steps per second: 126, episode reward: 200.000, mean reward:  1.000 [ 1.000,  1.000], mean action: 0.495 [0.000, 1.000],  loss: 12.885476, mae: 45.605535, accuracy: 0.633750, mean_q: 91.845465, mean_eps: 0.100000\n",
            " 40249/50000: episode: 325, duration: 1.592s, episode steps: 200, steps per second: 126, episode reward: 200.000, mean reward:  1.000 [ 1.000,  1.000], mean action: 0.500 [0.000, 1.000],  loss: 7.455458, mae: 45.196335, accuracy: 0.636719, mean_q: 91.301374, mean_eps: 0.100000\n",
            " 40449/50000: episode: 326, duration: 1.582s, episode steps: 200, steps per second: 126, episode reward: 200.000, mean reward:  1.000 [ 1.000,  1.000], mean action: 0.505 [0.000, 1.000],  loss: 8.104706, mae: 46.002216, accuracy: 0.626719, mean_q: 92.763940, mean_eps: 0.100000\n",
            " 40649/50000: episode: 327, duration: 1.573s, episode steps: 200, steps per second: 127, episode reward: 200.000, mean reward:  1.000 [ 1.000,  1.000], mean action: 0.500 [0.000, 1.000],  loss: 11.538740, mae: 46.146185, accuracy: 0.606563, mean_q: 92.996960, mean_eps: 0.100000\n",
            " 40849/50000: episode: 328, duration: 1.577s, episode steps: 200, steps per second: 127, episode reward: 200.000, mean reward:  1.000 [ 1.000,  1.000], mean action: 0.490 [0.000, 1.000],  loss: 13.117903, mae: 46.008591, accuracy: 0.597187, mean_q: 92.538491, mean_eps: 0.100000\n",
            " 41049/50000: episode: 329, duration: 1.591s, episode steps: 200, steps per second: 126, episode reward: 200.000, mean reward:  1.000 [ 1.000,  1.000], mean action: 0.490 [0.000, 1.000],  loss: 9.207704, mae: 45.772721, accuracy: 0.627812, mean_q: 92.235891, mean_eps: 0.100000\n",
            " 41249/50000: episode: 330, duration: 1.615s, episode steps: 200, steps per second: 124, episode reward: 200.000, mean reward:  1.000 [ 1.000,  1.000], mean action: 0.500 [0.000, 1.000],  loss: 9.640967, mae: 46.432304, accuracy: 0.603906, mean_q: 93.443228, mean_eps: 0.100000\n",
            " 41449/50000: episode: 331, duration: 1.631s, episode steps: 200, steps per second: 123, episode reward: 200.000, mean reward:  1.000 [ 1.000,  1.000], mean action: 0.500 [0.000, 1.000],  loss: 11.613145, mae: 45.995390, accuracy: 0.616094, mean_q: 92.529269, mean_eps: 0.100000\n",
            " 41649/50000: episode: 332, duration: 1.626s, episode steps: 200, steps per second: 123, episode reward: 200.000, mean reward:  1.000 [ 1.000,  1.000], mean action: 0.505 [0.000, 1.000],  loss: 10.688241, mae: 46.243235, accuracy: 0.614062, mean_q: 93.002223, mean_eps: 0.100000\n",
            " 41849/50000: episode: 333, duration: 1.631s, episode steps: 200, steps per second: 123, episode reward: 200.000, mean reward:  1.000 [ 1.000,  1.000], mean action: 0.510 [0.000, 1.000],  loss: 15.844319, mae: 46.000890, accuracy: 0.607031, mean_q: 92.375077, mean_eps: 0.100000\n",
            " 42049/50000: episode: 334, duration: 1.623s, episode steps: 200, steps per second: 123, episode reward: 200.000, mean reward:  1.000 [ 1.000,  1.000], mean action: 0.495 [0.000, 1.000],  loss: 9.121975, mae: 45.872672, accuracy: 0.592969, mean_q: 92.463792, mean_eps: 0.100000\n",
            " 42249/50000: episode: 335, duration: 1.592s, episode steps: 200, steps per second: 126, episode reward: 200.000, mean reward:  1.000 [ 1.000,  1.000], mean action: 0.490 [0.000, 1.000],  loss: 8.634187, mae: 46.279038, accuracy: 0.611250, mean_q: 93.161190, mean_eps: 0.100000\n",
            " 42449/50000: episode: 336, duration: 1.636s, episode steps: 200, steps per second: 122, episode reward: 200.000, mean reward:  1.000 [ 1.000,  1.000], mean action: 0.495 [0.000, 1.000],  loss: 11.256513, mae: 46.412443, accuracy: 0.605938, mean_q: 93.258841, mean_eps: 0.100000\n",
            " 42649/50000: episode: 337, duration: 1.598s, episode steps: 200, steps per second: 125, episode reward: 200.000, mean reward:  1.000 [ 1.000,  1.000], mean action: 0.500 [0.000, 1.000],  loss: 6.198288, mae: 46.407529, accuracy: 0.610156, mean_q: 93.478556, mean_eps: 0.100000\n",
            " 42849/50000: episode: 338, duration: 1.595s, episode steps: 200, steps per second: 125, episode reward: 200.000, mean reward:  1.000 [ 1.000,  1.000], mean action: 0.500 [0.000, 1.000],  loss: 11.037475, mae: 46.381276, accuracy: 0.603750, mean_q: 93.206713, mean_eps: 0.100000\n",
            " 43049/50000: episode: 339, duration: 1.582s, episode steps: 200, steps per second: 126, episode reward: 200.000, mean reward:  1.000 [ 1.000,  1.000], mean action: 0.515 [0.000, 1.000],  loss: 11.509436, mae: 46.496516, accuracy: 0.602656, mean_q: 93.450631, mean_eps: 0.100000\n",
            " 43133/50000: episode: 340, duration: 0.675s, episode steps:  84, steps per second: 125, episode reward: 84.000, mean reward:  1.000 [ 1.000,  1.000], mean action: 0.488 [0.000, 1.000],  loss: 10.885023, mae: 46.372567, accuracy: 0.595610, mean_q: 93.263471, mean_eps: 0.100000\n",
            " 43333/50000: episode: 341, duration: 1.601s, episode steps: 200, steps per second: 125, episode reward: 200.000, mean reward:  1.000 [ 1.000,  1.000], mean action: 0.500 [0.000, 1.000],  loss: 15.040093, mae: 46.250740, accuracy: 0.591562, mean_q: 92.834503, mean_eps: 0.100000\n",
            " 43533/50000: episode: 342, duration: 1.595s, episode steps: 200, steps per second: 125, episode reward: 200.000, mean reward:  1.000 [ 1.000,  1.000], mean action: 0.500 [0.000, 1.000],  loss: 13.456031, mae: 45.978168, accuracy: 0.605469, mean_q: 92.329614, mean_eps: 0.100000\n",
            " 43579/50000: episode: 343, duration: 0.367s, episode steps:  46, steps per second: 125, episode reward: 46.000, mean reward:  1.000 [ 1.000,  1.000], mean action: 0.522 [0.000, 1.000],  loss: 15.126161, mae: 46.512065, accuracy: 0.593071, mean_q: 93.388375, mean_eps: 0.100000\n",
            " 43779/50000: episode: 344, duration: 1.613s, episode steps: 200, steps per second: 124, episode reward: 200.000, mean reward:  1.000 [ 1.000,  1.000], mean action: 0.500 [0.000, 1.000],  loss: 10.286928, mae: 46.149881, accuracy: 0.603750, mean_q: 92.924038, mean_eps: 0.100000\n",
            " 43979/50000: episode: 345, duration: 1.548s, episode steps: 200, steps per second: 129, episode reward: 200.000, mean reward:  1.000 [ 1.000,  1.000], mean action: 0.490 [0.000, 1.000],  loss: 12.515692, mae: 46.125966, accuracy: 0.594375, mean_q: 92.613607, mean_eps: 0.100000\n",
            " 44179/50000: episode: 346, duration: 1.577s, episode steps: 200, steps per second: 127, episode reward: 200.000, mean reward:  1.000 [ 1.000,  1.000], mean action: 0.500 [0.000, 1.000],  loss: 9.077998, mae: 45.933489, accuracy: 0.615313, mean_q: 92.486484, mean_eps: 0.100000\n",
            " 44341/50000: episode: 347, duration: 1.275s, episode steps: 162, steps per second: 127, episode reward: 162.000, mean reward:  1.000 [ 1.000,  1.000], mean action: 0.506 [0.000, 1.000],  loss: 11.499451, mae: 46.362413, accuracy: 0.595293, mean_q: 93.181627, mean_eps: 0.100000\n",
            " 44541/50000: episode: 348, duration: 1.568s, episode steps: 200, steps per second: 128, episode reward: 200.000, mean reward:  1.000 [ 1.000,  1.000], mean action: 0.500 [0.000, 1.000],  loss: 6.045448, mae: 46.184603, accuracy: 0.605313, mean_q: 93.128061, mean_eps: 0.100000\n",
            " 44741/50000: episode: 349, duration: 1.552s, episode steps: 200, steps per second: 129, episode reward: 200.000, mean reward:  1.000 [ 1.000,  1.000], mean action: 0.495 [0.000, 1.000],  loss: 10.776812, mae: 46.494884, accuracy: 0.600938, mean_q: 93.598679, mean_eps: 0.100000\n",
            " 44941/50000: episode: 350, duration: 1.592s, episode steps: 200, steps per second: 126, episode reward: 200.000, mean reward:  1.000 [ 1.000,  1.000], mean action: 0.500 [0.000, 1.000],  loss: 15.541638, mae: 46.771326, accuracy: 0.586406, mean_q: 93.917010, mean_eps: 0.100000\n",
            " 45141/50000: episode: 351, duration: 1.726s, episode steps: 200, steps per second: 116, episode reward: 200.000, mean reward:  1.000 [ 1.000,  1.000], mean action: 0.500 [0.000, 1.000],  loss: 8.341981, mae: 46.495003, accuracy: 0.602656, mean_q: 93.622538, mean_eps: 0.100000\n",
            " 45341/50000: episode: 352, duration: 2.254s, episode steps: 200, steps per second:  89, episode reward: 200.000, mean reward:  1.000 [ 1.000,  1.000], mean action: 0.500 [0.000, 1.000],  loss: 14.305464, mae: 46.579167, accuracy: 0.587656, mean_q: 93.453764, mean_eps: 0.100000\n",
            " 45541/50000: episode: 353, duration: 1.588s, episode steps: 200, steps per second: 126, episode reward: 200.000, mean reward:  1.000 [ 1.000,  1.000], mean action: 0.500 [0.000, 1.000],  loss: 10.488628, mae: 46.020183, accuracy: 0.583594, mean_q: 92.471959, mean_eps: 0.100000\n",
            " 45601/50000: episode: 354, duration: 0.520s, episode steps:  60, steps per second: 115, episode reward: 60.000, mean reward:  1.000 [ 1.000,  1.000], mean action: 0.550 [0.000, 1.000],  loss: 8.646204, mae: 46.518137, accuracy: 0.579688, mean_q: 93.343328, mean_eps: 0.100000\n",
            " 45801/50000: episode: 355, duration: 1.622s, episode steps: 200, steps per second: 123, episode reward: 200.000, mean reward:  1.000 [ 1.000,  1.000], mean action: 0.490 [0.000, 1.000],  loss: 9.874053, mae: 46.267491, accuracy: 0.607187, mean_q: 92.993968, mean_eps: 0.100000\n",
            " 46001/50000: episode: 356, duration: 1.630s, episode steps: 200, steps per second: 123, episode reward: 200.000, mean reward:  1.000 [ 1.000,  1.000], mean action: 0.495 [0.000, 1.000],  loss: 8.101286, mae: 46.333049, accuracy: 0.596719, mean_q: 93.235219, mean_eps: 0.100000\n",
            " 46182/50000: episode: 357, duration: 1.476s, episode steps: 181, steps per second: 123, episode reward: 181.000, mean reward:  1.000 [ 1.000,  1.000], mean action: 0.503 [0.000, 1.000],  loss: 12.968771, mae: 46.314113, accuracy: 0.597203, mean_q: 93.044008, mean_eps: 0.100000\n",
            " 46382/50000: episode: 358, duration: 1.602s, episode steps: 200, steps per second: 125, episode reward: 200.000, mean reward:  1.000 [ 1.000,  1.000], mean action: 0.500 [0.000, 1.000],  loss: 8.434430, mae: 46.168372, accuracy: 0.580937, mean_q: 92.825212, mean_eps: 0.100000\n",
            " 46582/50000: episode: 359, duration: 1.622s, episode steps: 200, steps per second: 123, episode reward: 200.000, mean reward:  1.000 [ 1.000,  1.000], mean action: 0.510 [0.000, 1.000],  loss: 10.750428, mae: 45.978403, accuracy: 0.581719, mean_q: 92.453211, mean_eps: 0.100000\n",
            " 46782/50000: episode: 360, duration: 1.575s, episode steps: 200, steps per second: 127, episode reward: 200.000, mean reward:  1.000 [ 1.000,  1.000], mean action: 0.495 [0.000, 1.000],  loss: 8.180122, mae: 46.185497, accuracy: 0.593437, mean_q: 93.002969, mean_eps: 0.100000\n",
            " 46982/50000: episode: 361, duration: 1.594s, episode steps: 200, steps per second: 126, episode reward: 200.000, mean reward:  1.000 [ 1.000,  1.000], mean action: 0.510 [0.000, 1.000],  loss: 10.784736, mae: 46.224014, accuracy: 0.595156, mean_q: 92.812540, mean_eps: 0.100000\n",
            " 47182/50000: episode: 362, duration: 1.544s, episode steps: 200, steps per second: 130, episode reward: 200.000, mean reward:  1.000 [ 1.000,  1.000], mean action: 0.485 [0.000, 1.000],  loss: 10.899254, mae: 46.069041, accuracy: 0.599688, mean_q: 92.652424, mean_eps: 0.100000\n",
            " 47382/50000: episode: 363, duration: 1.580s, episode steps: 200, steps per second: 127, episode reward: 200.000, mean reward:  1.000 [ 1.000,  1.000], mean action: 0.505 [0.000, 1.000],  loss: 8.602135, mae: 46.119311, accuracy: 0.593125, mean_q: 92.752958, mean_eps: 0.100000\n",
            " 47582/50000: episode: 364, duration: 1.590s, episode steps: 200, steps per second: 126, episode reward: 200.000, mean reward:  1.000 [ 1.000,  1.000], mean action: 0.500 [0.000, 1.000],  loss: 9.980940, mae: 45.997790, accuracy: 0.588594, mean_q: 92.333185, mean_eps: 0.100000\n",
            " 47782/50000: episode: 365, duration: 1.575s, episode steps: 200, steps per second: 127, episode reward: 200.000, mean reward:  1.000 [ 1.000,  1.000], mean action: 0.495 [0.000, 1.000],  loss: 12.894348, mae: 46.001102, accuracy: 0.598750, mean_q: 92.392304, mean_eps: 0.100000\n",
            " 47982/50000: episode: 366, duration: 1.560s, episode steps: 200, steps per second: 128, episode reward: 200.000, mean reward:  1.000 [ 1.000,  1.000], mean action: 0.495 [0.000, 1.000],  loss: 14.752009, mae: 45.976846, accuracy: 0.603437, mean_q: 92.309581, mean_eps: 0.100000\n",
            " 48182/50000: episode: 367, duration: 1.576s, episode steps: 200, steps per second: 127, episode reward: 200.000, mean reward:  1.000 [ 1.000,  1.000], mean action: 0.505 [0.000, 1.000],  loss: 12.762178, mae: 45.789186, accuracy: 0.585625, mean_q: 92.112678, mean_eps: 0.100000\n",
            " 48382/50000: episode: 368, duration: 1.574s, episode steps: 200, steps per second: 127, episode reward: 200.000, mean reward:  1.000 [ 1.000,  1.000], mean action: 0.500 [0.000, 1.000],  loss: 7.918367, mae: 45.900093, accuracy: 0.601250, mean_q: 92.456809, mean_eps: 0.100000\n",
            " 48582/50000: episode: 369, duration: 1.562s, episode steps: 200, steps per second: 128, episode reward: 200.000, mean reward:  1.000 [ 1.000,  1.000], mean action: 0.500 [0.000, 1.000],  loss: 15.755290, mae: 46.069964, accuracy: 0.590156, mean_q: 92.386573, mean_eps: 0.100000\n",
            " 48782/50000: episode: 370, duration: 1.600s, episode steps: 200, steps per second: 125, episode reward: 200.000, mean reward:  1.000 [ 1.000,  1.000], mean action: 0.490 [0.000, 1.000],  loss: 13.491617, mae: 45.772683, accuracy: 0.584219, mean_q: 92.044276, mean_eps: 0.100000\n",
            " 48982/50000: episode: 371, duration: 1.590s, episode steps: 200, steps per second: 126, episode reward: 200.000, mean reward:  1.000 [ 1.000,  1.000], mean action: 0.500 [0.000, 1.000],  loss: 11.544909, mae: 45.659585, accuracy: 0.582031, mean_q: 91.800854, mean_eps: 0.100000\n",
            " 49141/50000: episode: 372, duration: 1.243s, episode steps: 159, steps per second: 128, episode reward: 159.000, mean reward:  1.000 [ 1.000,  1.000], mean action: 0.509 [0.000, 1.000],  loss: 19.976295, mae: 45.884076, accuracy: 0.586675, mean_q: 92.030255, mean_eps: 0.100000\n",
            " 49341/50000: episode: 373, duration: 1.575s, episode steps: 200, steps per second: 127, episode reward: 200.000, mean reward:  1.000 [ 1.000,  1.000], mean action: 0.515 [0.000, 1.000],  loss: 15.977728, mae: 45.631595, accuracy: 0.579219, mean_q: 91.720978, mean_eps: 0.100000\n",
            " 49434/50000: episode: 374, duration: 0.729s, episode steps:  93, steps per second: 128, episode reward: 93.000, mean reward:  1.000 [ 1.000,  1.000], mean action: 0.516 [0.000, 1.000],  loss: 10.615496, mae: 46.112411, accuracy: 0.591062, mean_q: 92.720473, mean_eps: 0.100000\n",
            " 49634/50000: episode: 375, duration: 1.537s, episode steps: 200, steps per second: 130, episode reward: 200.000, mean reward:  1.000 [ 1.000,  1.000], mean action: 0.490 [0.000, 1.000],  loss: 13.066778, mae: 45.626529, accuracy: 0.577656, mean_q: 91.481725, mean_eps: 0.100000\n",
            " 49834/50000: episode: 376, duration: 1.576s, episode steps: 200, steps per second: 127, episode reward: 200.000, mean reward:  1.000 [ 1.000,  1.000], mean action: 0.495 [0.000, 1.000],  loss: 15.731008, mae: 45.735128, accuracy: 0.555625, mean_q: 91.627966, mean_eps: 0.100000\n",
            " 49957/50000: episode: 377, duration: 0.976s, episode steps: 123, steps per second: 126, episode reward: 123.000, mean reward:  1.000 [ 1.000,  1.000], mean action: 0.504 [0.000, 1.000],  loss: 12.789881, mae: 45.819122, accuracy: 0.592988, mean_q: 91.894500, mean_eps: 0.100000\n",
            "done, took 413.328 seconds\n"
          ]
        }
      ],
      "source": [
        "import rl\n",
        "from rl.memory import SequentialMemory\n",
        "from rl.agents.dqn import DQNAgent\n",
        "from rl.policy import LinearAnnealedPolicy, EpsGreedyQPolicy\n",
        "\n",
        "# setup experience replay buffer\n",
        "memory = SequentialMemory(limit=50000, window_length=1)\n",
        "\n",
        "# setup the Linear annealed policy with the EpsGreedyQPolicy as the inner policy\n",
        "policy =  LinearAnnealedPolicy(inner_policy=  EpsGreedyQPolicy(),   # policy used to select actions\n",
        "                               attr='eps',                          # attribute in the inner policy to vary             \n",
        "                               value_max=1.0,                       # maximum value of attribute that is varying\n",
        "                               value_min=0.1,                       # minimum value of attribute that is varying\n",
        "                               value_test=0.05,                     # test if the value selected is < 0.05\n",
        "                               nb_steps=10000)                      # the number of steps between value_max and value_min\n",
        "\n",
        "#Feed-Forward Neural Network Model for Deep Q Learning (DQN)\n",
        "model = Sequential()\n",
        "#Input is 1 observation vector, and the number of observations in that vector \n",
        "model.add(Input(shape=(1,env.observation_space.shape[0])))  \n",
        "model.add(Flatten())\n",
        "#Hidden layers with 24 nodes each\n",
        "model.add(Dense(24, activation='relu'))\n",
        "model.add(Dense(24, activation='relu'))\n",
        "#Output is the number of actions in the action space\n",
        "model.add(Dense(env.action_space.n, activation='linear'))\n",
        "\n",
        "#Feed-Forward Neural Network Architecture Summary\n",
        "print(model.summary())\n",
        "\n",
        "#Defining DQN Agent for DQN Model\n",
        "dqn = DQNAgent(model=model,                     # Q-Network model\n",
        "               nb_actions=env.action_space.n,   # number of actions\n",
        "               memory=memory,                   # experience replay memory\n",
        "               nb_steps_warmup=25,              # how many steps are waited before starting experience replay\n",
        "               target_model_update=1e-2,        # how often the target network is updated\n",
        "               policy=policy)                   # the action selection policy\n",
        "\n",
        "# Finally, we configure and compile our agent. \n",
        "#We can use built-in tensorflow.keras Adam optimizer and evaluation metrics            \n",
        "from tensorflow.keras.optimizers import Adam\n",
        "dqn.compile(Adam(learning_rate=1e-3), metrics=['mae','accuracy'])\n",
        "\n",
        "#Finally fit and train the agent\n",
        "history = dqn.fit(env, nb_steps=50000, visualize=False, verbose=2)"
      ]
    },
    {
      "cell_type": "markdown",
      "metadata": {
        "id": "4sXdpY06lBvf"
      },
      "source": [
        "###Summary of Training episode steps and the total episodes of the DQN Model\n",
        "One iteration of the Cartpole-v0 environment consists of 200-time steps.\n",
        "\n",
        "The environment gives a reward of +1 for each step the pole stays up, so the maximum return for one episode is 200.\n",
        "\n",
        "During its training, this instance of the DQN agent was able to achieve a maximum reward of 200 from 139th episodes to 199th episodes and from 277 to 376 episodes, meaning it reached 200 steps without dropping the pole with the least number of possible episodes while training.\n",
        "\n",
        "From the graph, we can observe how in the first episodes, the rewards stay low as the agent is still exploring the state-space and learning the values for each state-action pair.\n",
        "\n",
        "However, as we complete more episodes, the agent’s performance keeps improving and more episodes are completed."
      ]
    },
    {
      "cell_type": "code",
      "execution_count": null,
      "metadata": {
        "colab": {
          "base_uri": "https://localhost:8080/",
          "height": 988
        },
        "id": "56W2mnQClHFV",
        "outputId": "ecfc4449-8f6f-40cf-fa8e-7d2728d50885"
      },
      "outputs": [
        {
          "output_type": "display_data",
          "data": {
            "text/plain": [
              "<Figure size 1296x720 with 1 Axes>"
            ],
            "image/png": "[encoded data removed]"
          },
          "metadata": {
            "needs_background": "light"
          }
        },
        {
          "output_type": "stream",
          "name": "stdout",
          "text": [
            "Testing for 20 episodes ...\n",
            "Episode 1: reward: 200.000, steps: 200\n",
            "Episode 2: reward: 200.000, steps: 200\n",
            "Episode 3: reward: 200.000, steps: 200\n",
            "Episode 4: reward: 200.000, steps: 200\n",
            "Episode 5: reward: 200.000, steps: 200\n",
            "Episode 6: reward: 200.000, steps: 200\n",
            "Episode 7: reward: 200.000, steps: 200\n",
            "Episode 8: reward: 200.000, steps: 200\n",
            "Episode 9: reward: 200.000, steps: 200\n",
            "Episode 10: reward: 200.000, steps: 200\n",
            "Episode 11: reward: 200.000, steps: 200\n",
            "Episode 12: reward: 200.000, steps: 200\n",
            "Episode 13: reward: 200.000, steps: 200\n",
            "Episode 14: reward: 200.000, steps: 200\n",
            "Episode 15: reward: 200.000, steps: 200\n",
            "Episode 16: reward: 200.000, steps: 200\n",
            "Episode 17: reward: 200.000, steps: 200\n",
            "Episode 18: reward: 200.000, steps: 200\n",
            "Episode 19: reward: 200.000, steps: 200\n",
            "Episode 20: reward: 200.000, steps: 200\n"
          ]
        },
        {
          "output_type": "execute_result",
          "data": {
            "text/plain": [
              "<keras.callbacks.History at 0x7f9536c35bd0>"
            ]
          },
          "metadata": {},
          "execution_count": 59
        }
      ],
      "source": [
        "# Visualize the history for number of Training episode steps of the Cart Pole Game\n",
        "plt.figure(figsize = (18,10))\n",
        "plt.plot(history.history['nb_episode_steps'])\n",
        "plt.ylabel('nb_episode_steps')\n",
        "plt.xlabel('episodes')\n",
        "plt.show()\n",
        "\n",
        "# Finally, evaluate and test our algorithm for 20 episodes.\n",
        "dqn.test(env, nb_episodes=20, visualize=False)"
      ]
    },
    {
      "cell_type": "markdown",
      "metadata": {
        "id": "R5uok9sPOy8w"
      },
      "source": [
        "#Results & Discussion"
      ]
    },
    {
      "cell_type": "markdown",
      "metadata": {
        "id": "2Wjh8yoOPzNo"
      },
      "source": [
        "- From the result predicted we can able to say that, TF agent performs well than Keras-RL.\n",
        "- Keras-RL results 377 episodes and the maximum reward attain is 200 from 139th episodes to 199th episodes and from 277 to 376 episodes. \n",
        "- TF agent took 10000 steps and attain maximum reward 200, which shows its good performance because once it attains maximum, the reward doesn't dropped out.\n",
        "- And for past few months there is no updates and maintanence from keras-rl to become the best frame work.\n",
        "- This is the reason TF-agent is in good performace for the given Task.  "
      ]
    }
  ],
  "metadata": {
    "colab": {
      "collapsed_sections": [],
      "provenance": []
    },
    "kernelspec": {
      "display_name": "Python 3",
      "name": "python3"
    },
    "language_info": {
      "name": "python"
    }
  },
  "nbformat": 4,
  "nbformat_minor": 0
}